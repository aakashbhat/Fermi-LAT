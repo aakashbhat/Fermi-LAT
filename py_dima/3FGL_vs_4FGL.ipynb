{
 "cells": [
  {
   "cell_type": "code",
   "execution_count": 1,
   "metadata": {},
   "outputs": [],
   "source": [
    "import numpy as np\n",
    "import pandas as pd\n",
    "import auxil_ML as aux\n"
   ]
  },
  {
   "cell_type": "code",
   "execution_count": 2,
   "metadata": {},
   "outputs": [],
   "source": [
    "if 1:\n",
    "    import importlib\n",
    "    importlib.reload(aux);\n"
   ]
  },
  {
   "cell_type": "code",
   "execution_count": 3,
   "metadata": {},
   "outputs": [],
   "source": [
    "#cat_fn = 'data/3FGL_prob_catalog_3class_newfeats.csv'\n",
    "#cat_fn = '../ML_3FGL_paper_extra/data/python files/catas/3fgl_multi_cata_newfeats.csv'\n",
    "cat_fn = '../SOM/3FGL_prob_catalog_3classes.csv'\n",
    "cat_df3 = pd.read_csv(cat_fn, index_col=0)\n",
    "cat_fn = '../SOM/3FGL_prob_catalog_2classes.csv'\n",
    "cat_df2 = pd.read_csv(cat_fn, index_col=0)\n",
    "\n",
    "#folder = '../ML_3FGL_paper/SOM'\n",
    "#cat_fn = '%s/3FGL_prob_catalog.csv' % folder\n",
    "cat_fn = '../SOM/3FGL_prob_catalog_2classes.csv'\n",
    "cat_df_3fgl = pd.read_csv(cat_fn, index_col=0)\n",
    "cat_fn = '../SOM/4FGL-DR2_prob_catalog_3classes.csv' #% folder\n",
    "cat_df_4fgl = pd.read_csv(cat_fn, index_col=0)"
   ]
  },
  {
   "cell_type": "code",
   "execution_count": null,
   "metadata": {},
   "outputs": [],
   "source": []
  },
  {
   "cell_type": "code",
   "execution_count": 22,
   "metadata": {},
   "outputs": [],
   "source": [
    "nclass = 3\n",
    "classes = ['AGN', 'PSR', 'OTHER'][:nclass]\n",
    "algs = ['RF', 'BDT', 'NN', 'LR']"
   ]
  },
  {
   "cell_type": "code",
   "execution_count": 23,
   "metadata": {},
   "outputs": [],
   "source": [
    "assoc_3FGL_in_4FGL_mask = [(type(name) is str) for name in list(cat_df_4fgl['ASSOC_FGL'])]\n",
    "index0 = [name for name in cat_df_4fgl.index[assoc_3FGL_in_4FGL_mask] \n",
    "         if cat_df_4fgl['ASSOC_FGL'].loc[name].startswith('3FGL') \n",
    "         and cat_df_4fgl['ASSOC_FGL'].loc[name] in cat_df_3fgl.index\n",
    "         and cat_df_3fgl['Category_3FGL'].loc[cat_df_4fgl['ASSOC_FGL'].loc[name]] == 'UNAS']\n",
    "\n",
    "index = [name for name in index0 if cat_df_4fgl['Category_4FGL'].loc[name] != 'UNAS']\n",
    "index_2class = [name for name in index if cat_df_4fgl['Category_4FGL'].loc[name] \n",
    "                in ['PSR', 'AGN']]\n",
    "index_3class = [name for name in index if cat_df_4fgl['Category_4FGL'].loc[name] \n",
    "                in ['PSR', 'AGN', 'OTHER']]\n",
    "if nclass == 2:\n",
    "    index = index_2class\n",
    "elif nclass == 3:\n",
    "    index = index_3class\n",
    "index_unas = [name for name in index0 if cat_df_4fgl['Category_4FGL'].loc[name] == 'UNAS']\n",
    "index_other = [name for name in index if cat_df_4fgl['Category_4FGL'].loc[name] == 'OTHER']\n",
    "\n",
    "assoc_3FGL_in_4FGL_df = pd.DataFrame(index=cat_df_4fgl['ASSOC_FGL'][index])\n",
    "assoc_3FGL_in_4FGL_df['Category_4FGL'] = np.array(cat_df_4fgl['Category_4FGL'].loc[index])\n",
    "psr_mask_4FGL = (assoc_3FGL_in_4FGL_df['Category_4FGL'] == 'PSR')\n",
    "agn_mask_4FGL = (assoc_3FGL_in_4FGL_df['Category_4FGL'] == 'AGN')\n",
    "other_mask_4FGL = (assoc_3FGL_in_4FGL_df['Category_4FGL'] == 'OTHER')\n"
   ]
  },
  {
   "cell_type": "code",
   "execution_count": 24,
   "metadata": {},
   "outputs": [
    {
     "name": "stdout",
     "output_type": "stream",
     "text": [
      "Sources with missing values in 3FGL, which have associations in 4FGL-DR2:\n",
      "                  Category_4FGL Category_Prob\n",
      "Source_Name_4FGL                             \n",
      "4FGL J0121.8-3916           AGN           AGN\n",
      "Source_Name_3FGL\n",
      "3FGL J0121.8-3917    AGN\n",
      "Name: Category_Prob, dtype: object\n"
     ]
    }
   ],
   "source": [
    "# missing values\n",
    "index_miss = [name for name in index if \n",
    "              cat_df_3fgl['Missing_Values_Flag'].loc[cat_df_4fgl['ASSOC_FGL'].loc[name]] == 1]\n",
    "print('Sources with missing values in 3FGL, which have associations in 4FGL-DR2:')\n",
    "print(cat_df_4fgl[['Category_4FGL', 'Category_Prob']].loc[index_miss])\n",
    "#print(cat_df_4fgl['ASSOC_FGL'].loc[index_miss])\n",
    "print(cat_df_3fgl['Category_Prob'].loc[cat_df_4fgl['ASSOC_FGL'].loc[index_miss]])"
   ]
  },
  {
   "cell_type": "code",
   "execution_count": 25,
   "metadata": {},
   "outputs": [
    {
     "name": "stdout",
     "output_type": "stream",
     "text": [
      "Unas in 3FGL, assoc in 4FGL-DR2: 340\n",
      "Unas in 3FGL, unas in 4FGL-DR2: 303\n",
      "Unas in 3FGL, AGN or PSR in 4FGL-DR2: 303\n",
      "Unas in 3FGL, OTHER in 4FGL-DR2: 37\n",
      "Ratio of OTHER to assoc in 4FGL-DR2: 0.10882352941176471\n"
     ]
    }
   ],
   "source": [
    "print('Unas in 3FGL, assoc in 4FGL-DR2:', len(index))\n",
    "print('Unas in 3FGL, unas in 4FGL-DR2:', len(index_unas))\n",
    "print('Unas in 3FGL, AGN or PSR in 4FGL-DR2:', len(index_2class))\n",
    "print('Unas in 3FGL, OTHER in 4FGL-DR2:', len(index_other))\n",
    "print('Ratio of OTHER to assoc in 4FGL-DR2:', len(index_other)/len(index))"
   ]
  },
  {
   "cell_type": "code",
   "execution_count": 26,
   "metadata": {},
   "outputs": [
    {
     "name": "stdout",
     "output_type": "stream",
     "text": [
      "OTHER in 4FGL-DR2: 347\n",
      "Assoc in 4FGL-DR2: 4121\n",
      "Fraction: 0.0842\n"
     ]
    }
   ],
   "source": [
    "other_4fgl = sum(cat_df_4fgl['Category_4FGL'] == 'OTHER')\n",
    "assoc_4fgl = sum(cat_df_4fgl['Category_4FGL'] != 'UNAS')\n",
    "print('OTHER in 4FGL-DR2: %i' % other_4fgl)\n",
    "print('Assoc in 4FGL-DR2: %i' % assoc_4fgl)\n",
    "print('Fraction: %.4f' % (other_4fgl/assoc_4fgl))"
   ]
  },
  {
   "cell_type": "code",
   "execution_count": 27,
   "metadata": {},
   "outputs": [],
   "source": [
    "cat_df_3fgl_i = cat_df_3fgl.loc[assoc_3FGL_in_4FGL_df.index]\n",
    "cat_df3_i = cat_df3.loc[assoc_3FGL_in_4FGL_df.index]\n",
    "cat_df2_i = cat_df2.loc[assoc_3FGL_in_4FGL_df.index]\n"
   ]
  },
  {
   "cell_type": "code",
   "execution_count": 28,
   "metadata": {},
   "outputs": [],
   "source": [
    "psr_mask_prob = (cat_df_3fgl_i['Category_Prob'] == 'PSR')\n",
    "agn_mask_prob = (cat_df_3fgl_i['Category_Prob'] == 'AGN')\n",
    "mix_mask_prob = (cat_df_3fgl_i['Category_Prob'] == 'MIXED')\n",
    "\n",
    "psr_mask_prob2 = (cat_df2_i['Category_Prob'] == 'PSR')\n",
    "agn_mask_prob2 = (cat_df2_i['Category_Prob'] == 'AGN')\n",
    "mix_mask_prob2 = (cat_df2_i['Category_Prob'] == 'MIXED')\n",
    "\n",
    "psr_mask_prob3 = (cat_df3_i['Category_Prob'] == 'PSR')\n",
    "agn_mask_prob3 = (cat_df3_i['Category_Prob'] == 'AGN')\n",
    "other_mask_prob3 = (cat_df3_i['Category_Prob'] == 'OTHER')\n",
    "mix_mask_prob3 = (cat_df3_i['Category_Prob'] == 'MIXED')"
   ]
  },
  {
   "cell_type": "code",
   "execution_count": null,
   "metadata": {},
   "outputs": [],
   "source": []
  },
  {
   "cell_type": "code",
   "execution_count": 29,
   "metadata": {},
   "outputs": [
    {
     "name": "stdout",
     "output_type": "stream",
     "text": [
      "2-class classification in paper\n",
      "# PSR classified as PSR 23\n",
      "# PSR classified as AGN 10\n",
      "# PSR classified as mixed 12\n",
      "# AGN classified as AGN 223\n",
      "# AGN classified as PSR 5\n",
      "# AGN classified as mixed 30\n",
      "# OTHER classified as AGN 8\n",
      "# OTHER classified as PSR 6\n",
      "# OTHER classified as mixed 23\n"
     ]
    }
   ],
   "source": [
    "print('2-class classification in paper')\n",
    "print('# PSR classified as PSR', np.sum(psr_mask_4FGL & psr_mask_prob))\n",
    "print('# PSR classified as AGN', np.sum(psr_mask_4FGL & agn_mask_prob))\n",
    "print('# PSR classified as mixed', np.sum(psr_mask_4FGL & mix_mask_prob))\n",
    "print('# AGN classified as AGN', np.sum(agn_mask_4FGL & agn_mask_prob))\n",
    "print('# AGN classified as PSR', np.sum(agn_mask_4FGL & psr_mask_prob))\n",
    "print('# AGN classified as mixed', np.sum(agn_mask_4FGL & mix_mask_prob))\n",
    "print('# OTHER classified as AGN', np.sum(other_mask_4FGL & agn_mask_prob))\n",
    "print('# OTHER classified as PSR', np.sum(other_mask_4FGL & psr_mask_prob))\n",
    "print('# OTHER classified as mixed', np.sum(other_mask_4FGL & mix_mask_prob))"
   ]
  },
  {
   "cell_type": "code",
   "execution_count": 42,
   "metadata": {},
   "outputs": [
    {
     "name": "stdout",
     "output_type": "stream",
     "text": [
      "2-class classification\n",
      "# AGN classified as AGN 223\n",
      "# AGN classified as PSR 5\n",
      "# AGN classified as mixed 30\n",
      "AGN precision: 0.93\n",
      "AGN recall: 0.86\n",
      "# PSR classified as AGN 10\n",
      "# PSR classified as PSR 23\n",
      "# PSR classified as mixed 12\n",
      "PSR precision: 0.68\n",
      "PSR recall: 0.51\n",
      "# OTHER classified as AGN 8\n",
      "# OTHER classified as PSR 6\n",
      "# OTHER classified as mixed 23\n"
     ]
    }
   ],
   "source": [
    "# calculations for Table 4 source numbers and precision / recall 3FGL vs 4FGL comparison\n",
    "print('2-class classification')\n",
    "print('# AGN classified as AGN', np.sum(agn_mask_4FGL & agn_mask_prob2 ))\n",
    "print('# AGN classified as PSR', np.sum(agn_mask_4FGL & psr_mask_prob2 ))\n",
    "print('# AGN classified as mixed', np.sum(agn_mask_4FGL & mix_mask_prob2 ))\n",
    "print('AGN precision: %.2f' % (np.sum(agn_mask_4FGL & agn_mask_prob2)/np.sum(agn_mask_prob2)))\n",
    "print('AGN recall: %.2f' % (np.sum(agn_mask_4FGL & agn_mask_prob2)/np.sum(agn_mask_4FGL)))\n",
    "print('# PSR classified as AGN', np.sum(psr_mask_4FGL & agn_mask_prob2 ))\n",
    "print('# PSR classified as PSR', np.sum(psr_mask_4FGL & psr_mask_prob2 ))\n",
    "print('# PSR classified as mixed', np.sum(psr_mask_4FGL & mix_mask_prob2 ))\n",
    "print('PSR precision: %.2f' % (np.sum(psr_mask_4FGL & psr_mask_prob2)/np.sum(psr_mask_prob2)))\n",
    "print('PSR recall: %.2f' % (np.sum(psr_mask_4FGL & psr_mask_prob2)/np.sum(psr_mask_4FGL)))\n",
    "\n",
    "print('# OTHER classified as AGN', np.sum(other_mask_4FGL & agn_mask_prob2))\n",
    "print('# OTHER classified as PSR', np.sum(other_mask_4FGL & psr_mask_prob2))\n",
    "print('# OTHER classified as mixed', np.sum(other_mask_4FGL & mix_mask_prob2))"
   ]
  },
  {
   "cell_type": "code",
   "execution_count": 44,
   "metadata": {},
   "outputs": [
    {
     "name": "stdout",
     "output_type": "stream",
     "text": [
      "3-class classification\n",
      "# AGN classified as AGN 238\n",
      "# AGN classified as PSR 2\n",
      "# AGN classified as OTHER 1\n",
      "# AGN classified as mixed 17\n",
      "AGN precision: 0.93\n",
      "AGN recall: 0.92\n",
      "# PSR classified as AGN 12\n",
      "# PSR classified as PSR 17\n",
      "# PSR classified as OTHER 0\n",
      "# PSR classified as mixed 16\n",
      "PSR precision: 0.71\n",
      "PSR recall: 0.38\n",
      "# OTHER classified as AGN 6\n",
      "# OTHER classified as PSR 5\n",
      "# OTHER classified as OTHER 8\n",
      "# OTHER classified as mixed 18\n",
      "OTHER precision: 0.89\n",
      "OTHER recall: 0.22\n"
     ]
    }
   ],
   "source": [
    "# calculations for Table 10 source numbers and precision / recall 3FGL vs 4FGL comparison\n",
    "print('3-class classification')\n",
    "print('# AGN classified as AGN', np.sum(agn_mask_4FGL & agn_mask_prob3 ))\n",
    "print('# AGN classified as PSR', np.sum(agn_mask_4FGL & psr_mask_prob3 ))\n",
    "print('# AGN classified as OTHER', np.sum(agn_mask_4FGL & other_mask_prob3 ))\n",
    "print('# AGN classified as mixed', np.sum(agn_mask_4FGL & mix_mask_prob3 ))\n",
    "print('AGN precision: %.2f' % (np.sum(agn_mask_4FGL & agn_mask_prob3)/np.sum(agn_mask_prob3)))\n",
    "print('AGN recall: %.2f' % (np.sum(agn_mask_4FGL & agn_mask_prob3)/np.sum(agn_mask_4FGL)))\n",
    "print('# PSR classified as AGN', np.sum(psr_mask_4FGL & agn_mask_prob3 ))\n",
    "print('# PSR classified as PSR', np.sum(psr_mask_4FGL & psr_mask_prob3 ))\n",
    "print('# PSR classified as OTHER', np.sum(psr_mask_4FGL & other_mask_prob3 ))\n",
    "print('# PSR classified as mixed', np.sum(psr_mask_4FGL & mix_mask_prob3 ))\n",
    "print('PSR precision: %.2f' % (np.sum(psr_mask_4FGL & psr_mask_prob3)/np.sum(psr_mask_prob3)))\n",
    "print('PSR recall: %.2f' % (np.sum(psr_mask_4FGL & psr_mask_prob3)/np.sum(psr_mask_4FGL)))\n",
    "print('# OTHER classified as AGN', np.sum(other_mask_4FGL & agn_mask_prob3))\n",
    "print('# OTHER classified as PSR', np.sum(other_mask_4FGL & psr_mask_prob3))\n",
    "print('# OTHER classified as OTHER', np.sum(other_mask_4FGL & other_mask_prob3))\n",
    "print('# OTHER classified as mixed', np.sum(other_mask_4FGL & mix_mask_prob3))\n",
    "print('OTHER precision: %.2f' % (np.sum(other_mask_4FGL & other_mask_prob3)/np.sum(other_mask_prob3)))\n",
    "print('OTHER recall: %.2f' % (np.sum(other_mask_4FGL & other_mask_prob3)/np.sum(other_mask_4FGL)))\n"
   ]
  },
  {
   "cell_type": "code",
   "execution_count": 41,
   "metadata": {},
   "outputs": [
    {
     "name": "stdout",
     "output_type": "stream",
     "text": [
      "paper\n",
      "RF: 276 / 340 = 81.18 percent\n",
      "BDT: 274 / 340 = 80.59 percent\n",
      "NN: 273 / 340 = 80.29 percent\n",
      "LR: 274 / 340 = 80.59 percent\n",
      "RF_O: 271 / 340 = 79.71 percent\n",
      "BDT_O: 278 / 340 = 81.76 percent\n",
      "NN_O: 264 / 340 = 77.65 percent\n",
      "LR_O: 258 / 340 = 75.88 percent\n",
      "2 class\n",
      "RF: 276 / 340 = 81.18 percent\n",
      "BDT: 274 / 340 = 80.59 percent\n",
      "NN: 273 / 340 = 80.29 percent\n",
      "LR: 274 / 340 = 80.59 percent\n",
      "RF_O: 271 / 340 = 79.71 percent\n",
      "BDT_O: 278 / 340 = 81.76 percent\n",
      "NN_O: 264 / 340 = 77.65 percent\n",
      "LR_O: 258 / 340 = 75.88 percent\n",
      "3 class\n",
      "RF: 289 / 340 = 85.00 percent\n",
      "BDT: 283 / 340 = 83.24 percent\n",
      "NN: 284 / 340 = 83.53 percent\n",
      "LR: 283 / 340 = 83.24 percent\n",
      "RF_O: 289 / 340 = 85.00 percent\n",
      "BDT_O: 290 / 340 = 85.29 percent\n",
      "NN_O: 278 / 340 = 81.76 percent\n",
      "LR_O: 283 / 340 = 83.24 percent\n"
     ]
    }
   ],
   "source": [
    "# calculations for Tables 2 and 9, comparison with 4FGL columns\n",
    "true_labels = assoc_3FGL_in_4FGL_df['Category_4FGL']\n",
    "classif_dict = {'paper': cat_df_3fgl_i, '2 class': cat_df2_i, '3 class': cat_df3_i}\n",
    "for cname, cdf in classif_dict.items():\n",
    "    print(cname)\n",
    "    if cname == 'paper':\n",
    "        algs_loc = algs + [alg + '_O' for alg in algs]\n",
    "    else:\n",
    "        algs_loc = algs + [alg + '_O' for alg in algs]\n",
    "    for alg in algs_loc:\n",
    "        prob_labels = aux.get_prob_class(cdf, [alg], classes)['Category_Prob']\n",
    "        acc_all = 100 * aux.accuracy(true_labels, prob_labels)\n",
    "        #print(sum(prob_labels == 'OTHER'), sum(true_labels == 'OTHER'))\n",
    "        print('%s: %i / %i = %.2f percent' % \\\n",
    "              (alg, sum(prob_labels == true_labels), len(true_labels), acc_all))\n",
    "        #print(sum((prob_labels == 'OTHER') & (prob_labels == true_labels)))\n",
    "        #print('%s, %.2f percent' % (alg, acc_all))"
   ]
  },
  {
   "cell_type": "code",
   "execution_count": null,
   "metadata": {},
   "outputs": [],
   "source": []
  }
 ],
 "metadata": {
  "kernelspec": {
   "display_name": "Python 3",
   "language": "python",
   "name": "python3"
  },
  "language_info": {
   "codemirror_mode": {
    "name": "ipython",
    "version": 3
   },
   "file_extension": ".py",
   "mimetype": "text/x-python",
   "name": "python",
   "nbconvert_exporter": "python",
   "pygments_lexer": "ipython3",
   "version": "3.7.5"
  }
 },
 "nbformat": 4,
 "nbformat_minor": 2
}
