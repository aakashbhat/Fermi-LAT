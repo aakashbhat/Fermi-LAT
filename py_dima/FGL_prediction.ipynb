{
 "cells": [
  {
   "cell_type": "code",
   "execution_count": 2,
   "metadata": {},
   "outputs": [],
   "source": [
    "# calculation of predicted numbers of sources in table 5\n",
    "import numpy as np\n",
    "import pandas as pd\n",
    "\n",
    "from astropy.io import fits\n",
    "\n",
    "import auxil_ML as aux\n"
   ]
  },
  {
   "cell_type": "code",
   "execution_count": 3,
   "metadata": {},
   "outputs": [],
   "source": [
    "cat = '3FGL'\n",
    "if cat == '4FGL':\n",
    "    #cat_name = '4FGL'\n",
    "    cat_name = '4FGL-DR2'\n",
    "else:\n",
    "    cat_name = cat\n",
    "    \n",
    "nclasses = 3\n",
    "\n",
    "folder = '../SOM'\n",
    "#folder = '../ML_3FGL_paper_extra/data/python files/catas'\n",
    "cat_fn = '%s/%s_prob_catalog_%iclasses.csv' % (folder, cat_name, nclasses)\n",
    "cat_df = pd.read_csv(cat_fn, index_col=0)\n",
    "labels = ['AGN', 'PSR', 'MIXED']\n",
    "if nclasses == 3:\n",
    "    labels = ['AGN', 'PSR', 'OTHER', 'MIXED']\n",
    "res_dict = {}\n",
    "res_dict['uncorrected'] = {}\n",
    "res_dict['corrected'] = {}\n",
    "\n",
    "# unweighted algorithms\n",
    "algs_u = ['NN', 'LR', 'RF', 'BDT']\n",
    "# oversampled algorithms\n",
    "algs_o = ['NN_O', 'LR_O', 'RF_O', 'BDT_O']\n",
    "\n",
    "algs = algs_u + algs_o\n"
   ]
  },
  {
   "cell_type": "code",
   "execution_count": 4,
   "metadata": {},
   "outputs": [
    {
     "name": "stdout",
     "output_type": "stream",
     "text": [
      "3034 3034\n",
      "0\n"
     ]
    }
   ],
   "source": [
    "if cat_name == '4FGL-DR2':\n",
    "    fn = 'data/gll_psc_v27.fit'\n",
    "elif cat_name == '4FGL':\n",
    "    fn = 'data/gll_psc_v22.fit'\n",
    "elif cat_name == '3FGL':\n",
    "    fn = '../PS_comparison/gll_psc_v16.fit'\n",
    "    \n",
    "with fits.open(fn) as data:\n",
    "    data[1].header\n",
    "    cat0_df = aux.hdu2df(data[1], index_name='Source_Name')\n",
    "\n",
    "print(len(cat0_df), len(cat_df))\n",
    "names0 = list(cat0_df.index)\n",
    "for name in cat_df.index:\n",
    "    names0.remove(name)\n",
    "print(len(names0))"
   ]
  },
  {
   "cell_type": "code",
   "execution_count": 5,
   "metadata": {},
   "outputs": [],
   "source": [
    "#cat0_df.columns"
   ]
  },
  {
   "cell_type": "code",
   "execution_count": 6,
   "metadata": {},
   "outputs": [],
   "source": [
    "if 0:\n",
    "    fn = '../ML_3FGL_paper_extra/data/python files/catas/%s_missing_values_src_test.csv' % cat_name\n",
    "    print(fn)\n",
    "    miss_df.to_csv(fn, index_label='%s_Source_Name' % cat)"
   ]
  },
  {
   "cell_type": "code",
   "execution_count": 7,
   "metadata": {},
   "outputs": [
    {
     "name": "stdout",
     "output_type": "stream",
     "text": [
      "2024 1010\n"
     ]
    }
   ],
   "source": [
    "unass_mask = cat_df['Category_%s' % cat] == 'UNAS'\n",
    "ass_mask = cat_df['Category_%s' % cat] != 'UNAS'\n",
    "other_mask = cat_df['Category_%s' % cat] == 'OTHER'\n",
    "n_unas = np.sum(unass_mask)\n",
    "n_as = np.sum(ass_mask)\n",
    "print(n_as, n_unas)"
   ]
  },
  {
   "cell_type": "code",
   "execution_count": 8,
   "metadata": {},
   "outputs": [
    {
     "data": {
      "text/plain": [
       "{'AGN', 'OTHER', 'PSR', 'UNAS'}"
      ]
     },
     "execution_count": 8,
     "metadata": {},
     "output_type": "execute_result"
    }
   ],
   "source": [
    "set(cat_df['Category_%s' % cat])"
   ]
  },
  {
   "cell_type": "code",
   "execution_count": 9,
   "metadata": {},
   "outputs": [
    {
     "name": "stdout",
     "output_type": "stream",
     "text": [
      "3FGL number of pulsars: 167\n",
      "3FGL number of AGNs: 1744\n"
     ]
    }
   ],
   "source": [
    "print('%s number of pulsars: %i' % (cat, np.sum(cat_df['Category_%s' % cat] == 'PSR')))\n",
    "print('%s number of AGNs: %i' % (cat, np.sum(cat_df['Category_%s' % cat] == 'AGN')))"
   ]
  },
  {
   "cell_type": "code",
   "execution_count": 21,
   "metadata": {},
   "outputs": [
    {
     "name": "stdout",
     "output_type": "stream",
     "text": [
      "Predictions for Table 5 (3FGL, 3 classes)\n",
      "AGN: 587\n",
      "PSR: 53\n",
      "OTHER: 69\n",
      "MIXED: 301\n",
      "Total: 1010\n"
     ]
    }
   ],
   "source": [
    "print('Predictions for Table 5 (%s, %i classes)' % (cat, nclasses))\n",
    "for label in labels:\n",
    "    res_dict['uncorrected'][label] = np.sum((cat_df['Category_Prob'] == label) & unass_mask)\n",
    "    print('%s: %i' % (label, res_dict['uncorrected'][label]))\n",
    "print('Total:', n_unas)"
   ]
  },
  {
   "cell_type": "code",
   "execution_count": 11,
   "metadata": {},
   "outputs": [
    {
     "name": "stdout",
     "output_type": "stream",
     "text": [
      "3FGL AGN (1744 total)\n",
      "Mixed: 57 (0.033)\n",
      "Wrong: 1 (0.001)\n",
      "3FGL PSR (167 total)\n",
      "Mixed: 51 (0.305)\n",
      "Wrong: 19 (0.114)\n"
     ]
    }
   ],
   "source": [
    "# outliers\n",
    "for src in ['AGN', 'PSR']:\n",
    "    total = 1. * sum((cat_df['Category_%s' % cat] == src))\n",
    "    nmixed = sum((cat_df['Category_%s' % cat] == src) & (cat_df['Category_Prob'] == 'MIXED'))\n",
    "    nwrong = sum((cat_df['Category_%s' % cat] == src) & (cat_df['Category_Prob'] != src)) - nmixed\n",
    "    print('%s %s (%i total)' %(cat, src, total))\n",
    "    print('Mixed: %i (%.3f)' % (nmixed, nmixed/total))\n",
    "    print('Wrong: %i (%.3f)' % (nwrong, nwrong/total))"
   ]
  },
  {
   "cell_type": "code",
   "execution_count": 12,
   "metadata": {},
   "outputs": [
    {
     "data": {
      "text/plain": [
       "8"
      ]
     },
     "execution_count": 12,
     "metadata": {},
     "output_type": "execute_result"
    }
   ],
   "source": [
    "sum((cat_df['Category_%s' % cat] == 'PSR') & (cat_df['Category_Prob'] == 'AGN'))"
   ]
  },
  {
   "cell_type": "code",
   "execution_count": 13,
   "metadata": {},
   "outputs": [
    {
     "name": "stdout",
     "output_type": "stream",
     "text": [
      "4FGL-DR2 number of sources: 5787\n",
      "3034\n",
      "3034\n"
     ]
    }
   ],
   "source": [
    "print('4FGL-DR2 number of sources:', 5064 + 723)\n",
    "print(len(cat_df))\n",
    "print(len(cat0_df))"
   ]
  },
  {
   "cell_type": "code",
   "execution_count": 14,
   "metadata": {},
   "outputs": [
    {
     "name": "stdout",
     "output_type": "stream",
     "text": [
      "AGN other: 14\n",
      "AGN other / n assoc: 0.01\n",
      "AGN uncorrected: 587\n",
      "AGN corrected: 580.0\n",
      "PSR other: 11\n",
      "PSR other / n assoc: 0.10\n",
      "PSR uncorrected: 53\n",
      "PSR corrected: 47.5\n",
      "OTHER other: 33\n",
      "OTHER other / n assoc: 0.75\n",
      "OTHER uncorrected: 69\n",
      "OTHER corrected: 52.5\n",
      "MIXED other: 55\n",
      "MIXED other / n assoc: 0.34\n",
      "MIXED uncorrected: 301\n",
      "MIXED corrected: 273.6\n",
      "Assoc other: 113\n",
      "Unassoc other model: 56.38833992094862\n"
     ]
    }
   ],
   "source": [
    "for label in labels:\n",
    "    n_other = np.sum((cat_df['Category_Prob'] == label) & other_mask)\n",
    "    n_label = 1. * np.sum((cat_df['Category_Prob'] == label) & ass_mask)\n",
    "    print('%s other: %i' % (label, n_other))\n",
    "    if n_label:\n",
    "        print('%s other / n assoc: %.2f' % (label, n_other / n_label))\n",
    "    n_corr = 1. * n_other * n_unas / n_as\n",
    "    res_dict['corrected'][label] = res_dict['uncorrected'][label] - n_corr\n",
    "    print('%s uncorrected: %i' % (label, res_dict['uncorrected'][label]))\n",
    "    print('%s corrected: %.1f' % (label, res_dict['corrected'][label]))\n",
    "print('Assoc other:', sum(other_mask))\n",
    "print('Unassoc other model:', (sum(other_mask) * n_unas / n_as))"
   ]
  },
  {
   "cell_type": "code",
   "execution_count": null,
   "metadata": {},
   "outputs": [],
   "source": []
  },
  {
   "cell_type": "code",
   "execution_count": 15,
   "metadata": {},
   "outputs": [
    {
     "name": "stdout",
     "output_type": "stream",
     "text": [
      "Number of AGN: $664.0^{+74.9}_{-65.2}$\n",
      "Number of PSR: $158.3^{+22.3}_{-23.6}$\n",
      "Number of OTHER: $187.6^{+46.4}_{-51.3}$\n"
     ]
    }
   ],
   "source": [
    "# predictions based on probabilities\n",
    "noc = 0.\n",
    "for pop in ['AGN', 'PSR', 'OTHER'][:nclasses]:\n",
    "    pred = []\n",
    "    if nclasses == 2:\n",
    "        pred_corr = []\n",
    "    for alg in algs:\n",
    "        label = '%s_%s' % (pop, alg)\n",
    "        n0 = np.sum(cat_df.loc[unass_mask, label])\n",
    "        pred.append(n0)\n",
    "        if nclasses == 2:\n",
    "            # correct for other    \n",
    "            pop_other = np.sum(cat_df.loc[other_mask, label])\n",
    "            n_corr = n0 - pop_other * n_unas / n_as\n",
    "            pred_corr.append(n_corr)\n",
    "    mean, delta_plus, delta_minus = aux.get_mean_dp_dm(pred)\n",
    "    print('Number of %s: $%.1f^{+%.1f}_{-%.1f}$' % (pop, mean, delta_plus, delta_minus))\n",
    "    if nclasses == 2:\n",
    "        mean_corr, delta_plus, delta_minus = aux.get_mean_dp_dm(pred_corr)\n",
    "        print('Number of %s (corr): $%.1f^{+%.1f}_{-%.1f}$' % (pop, mean_corr, delta_plus, delta_minus))\n",
    "        noc += mean - mean_corr\n",
    "if nclasses == 2:\n",
    "    n_other = np.sum(other_mask) * n_unas / n_as\n",
    "    print('n other model: %.1f' % n_other)\n",
    "    print(noc)"
   ]
  },
  {
   "cell_type": "code",
   "execution_count": 16,
   "metadata": {},
   "outputs": [],
   "source": [
    "#cat_df.columns"
   ]
  },
  {
   "cell_type": "code",
   "execution_count": 17,
   "metadata": {},
   "outputs": [
    {
     "data": {
      "text/plain": [
       "2"
      ]
     },
     "execution_count": 17,
     "metadata": {},
     "output_type": "execute_result"
    }
   ],
   "source": [
    "mv_mask = (cat_df['Missing_Values_Flag'] == 1)\n",
    "np.sum(cat_df[mv_mask]['Category_%s' % cat] == 'UNAS')"
   ]
  },
  {
   "cell_type": "code",
   "execution_count": null,
   "metadata": {},
   "outputs": [],
   "source": []
  }
 ],
 "metadata": {
  "kernelspec": {
   "display_name": "Python 3",
   "language": "python",
   "name": "python3"
  },
  "language_info": {
   "codemirror_mode": {
    "name": "ipython",
    "version": 3
   },
   "file_extension": ".py",
   "mimetype": "text/x-python",
   "name": "python",
   "nbconvert_exporter": "python",
   "pygments_lexer": "ipython3",
   "version": "3.7.5"
  }
 },
 "nbformat": 4,
 "nbformat_minor": 2
}
