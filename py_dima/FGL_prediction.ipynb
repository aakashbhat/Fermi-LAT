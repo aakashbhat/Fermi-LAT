{
 "cells": [
  {
   "cell_type": "code",
   "execution_count": 1,
   "metadata": {},
   "outputs": [],
   "source": [
    "import numpy as np\n",
    "import pandas as pd\n",
    "\n",
    "from astropy.io import fits\n",
    "\n",
    "import auxil_ML as aux\n"
   ]
  },
  {
   "cell_type": "code",
   "execution_count": 43,
   "metadata": {},
   "outputs": [],
   "source": [
    "cat = '3FGL'\n",
    "if cat == '4FGL':\n",
    "    #cat_name = '4FGL'\n",
    "    cat_name = '4FGL-DR2'\n",
    "else:\n",
    "    cat_name = cat\n",
    "    \n",
    "folder = '../ML_3FGL_paper/SOM'\n",
    "#folder = '../ML_3FGL_paper_extra/data/python files/catas'\n",
    "cat_fn = '%s/%s_prob_catalog.csv' % (folder, cat_name)\n",
    "cat_df = pd.read_csv(cat_fn, index_col=0)\n",
    "labels = ['AGN', 'PSR', 'MIXED']\n",
    "res_dict = {}\n",
    "res_dict['uncorrected'] = {}\n",
    "res_dict['corrected'] = {}\n"
   ]
  },
  {
   "cell_type": "code",
   "execution_count": 44,
   "metadata": {},
   "outputs": [
    {
     "name": "stdout",
     "output_type": "stream",
     "text": [
      "3034 3021\n",
      "13\n"
     ]
    }
   ],
   "source": [
    "if cat_name == '4FGL-DR2':\n",
    "    fn = 'data/gll_psc_v27.fit'\n",
    "elif cat_name == '4FGL':\n",
    "    fn = 'data/gll_psc_v22.fit'\n",
    "elif cat_name == '3FGL':\n",
    "    fn = '../PS_comparison/gll_psc_v16.fit'\n",
    "    \n",
    "with fits.open(fn) as data:\n",
    "    data[1].header\n",
    "    cat0_df = aux.hdu2df(data[1], index_name='Source_Name')\n",
    "\n",
    "print(len(cat0_df), len(cat_df))\n",
    "names0 = list(cat0_df.index)\n",
    "for name in cat_df.index:\n",
    "    names0.remove(name)\n",
    "print(len(names0))"
   ]
  },
  {
   "cell_type": "code",
   "execution_count": 45,
   "metadata": {},
   "outputs": [
    {
     "data": {
      "text/plain": [
       "Index(['RAJ2000', 'DEJ2000', 'GLON', 'GLAT', 'Conf_68_SemiMajor',\n",
       "       'Conf_68_SemiMinor', 'Conf_68_PosAng', 'Conf_95_SemiMajor',\n",
       "       'Conf_95_SemiMinor', 'Conf_95_PosAng', 'ROI_num', 'Signif_Avg',\n",
       "       'Pivot_Energy', 'Flux_Density', 'Unc_Flux_Density', 'Flux1000',\n",
       "       'Unc_Flux1000', 'Energy_Flux100', 'Unc_Energy_Flux100', 'Signif_Curve',\n",
       "       'SpectrumType', 'Spectral_Index', 'Unc_Spectral_Index', 'beta',\n",
       "       'Unc_beta', 'Cutoff', 'Unc_Cutoff', 'Exp_Index', 'Unc_Exp_Index',\n",
       "       'PowerLaw_Index', 'Flux30_100', 'Unc_Flux30_100', 'nuFnu30_100',\n",
       "       'Sqrt_TS30_100', 'Flux100_300', 'nuFnu100_300', 'Sqrt_TS100_300',\n",
       "       'Flux300_1000', 'nuFnu300_1000', 'Sqrt_TS300_1000', 'Flux1000_3000',\n",
       "       'nuFnu1000_3000', 'Sqrt_TS1000_3000', 'Flux3000_10000',\n",
       "       'nuFnu3000_10000', 'Sqrt_TS3000_10000', 'Flux10000_100000',\n",
       "       'nuFnu10000_100000', 'Sqrt_TS10000_100000', 'Variability_Index',\n",
       "       'Signif_Peak', 'Flux_Peak', 'Unc_Flux_Peak', 'Time_Peak',\n",
       "       'Peak_Interval', 'Extended_Source_Name', '0FGL_Name', '1FGL_Name',\n",
       "       '2FGL_Name', '1FHL_Name', 'Flags', 'ASSOC_GAM1', 'ASSOC_GAM2',\n",
       "       'ASSOC_GAM3', 'TEVCAT_FLAG', 'ASSOC_TEV', 'CLASS1', 'ASSOC1', 'ASSOC2'],\n",
       "      dtype='object')"
      ]
     },
     "execution_count": 45,
     "metadata": {},
     "output_type": "execute_result"
    }
   ],
   "source": [
    "cat0_df.columns"
   ]
  },
  {
   "cell_type": "code",
   "execution_count": 46,
   "metadata": {},
   "outputs": [],
   "source": [
    "if 0:\n",
    "    fn = '../ML_3FGL_paper_extra/data/python files/catas/%s_missing_values_src_test.csv' % cat_name\n",
    "    print(fn)\n",
    "    miss_df.to_csv(fn, index_label='%s_Source_Name' % cat)"
   ]
  },
  {
   "cell_type": "code",
   "execution_count": 47,
   "metadata": {},
   "outputs": [
    {
     "name": "stdout",
     "output_type": "stream",
     "text": [
      "2013 1008\n"
     ]
    }
   ],
   "source": [
    "unass_mask = cat_df['Category_%s' % cat] == 'UNAS'\n",
    "ass_mask = cat_df['Category_%s' % cat] != 'UNAS'\n",
    "other_mask = cat_df['Category_%s' % cat] == 'OTHER'\n",
    "n_unas = np.sum(unass_mask)\n",
    "n_as = np.sum(ass_mask)\n",
    "print(n_as, n_unas)"
   ]
  },
  {
   "cell_type": "code",
   "execution_count": 48,
   "metadata": {},
   "outputs": [
    {
     "data": {
      "text/plain": [
       "{'AGN', 'OTHER', 'PSR', 'UNAS'}"
      ]
     },
     "execution_count": 48,
     "metadata": {},
     "output_type": "execute_result"
    }
   ],
   "source": [
    "set(cat_df['Category_%s' % cat])"
   ]
  },
  {
   "cell_type": "code",
   "execution_count": 49,
   "metadata": {},
   "outputs": [
    {
     "data": {
      "text/plain": [
       "166"
      ]
     },
     "execution_count": 49,
     "metadata": {},
     "output_type": "execute_result"
    }
   ],
   "source": [
    "np.sum(cat_df['Category_%s' % cat] == 'PSR')"
   ]
  },
  {
   "cell_type": "code",
   "execution_count": 50,
   "metadata": {},
   "outputs": [
    {
     "name": "stdout",
     "output_type": "stream",
     "text": [
      "AGN: 597\n",
      "PSR: 111\n",
      "MIXED: 300\n",
      "Total: 1008\n"
     ]
    }
   ],
   "source": [
    "for label in labels:\n",
    "    res_dict['uncorrected'][label] = np.sum((cat_df['Category_Prob'] == label) & unass_mask)\n",
    "    print('%s: %i' % (label, res_dict['uncorrected'][label]))\n",
    "print('Total:', n_unas)"
   ]
  },
  {
   "cell_type": "code",
   "execution_count": 51,
   "metadata": {},
   "outputs": [
    {
     "name": "stdout",
     "output_type": "stream",
     "text": [
      "3FGL AGN (1739 total)\n",
      "Mixed: 108 (0.062)\n",
      "Wrong: 3 (0.002)\n",
      "3FGL PSR (166 total)\n",
      "Mixed: 46 (0.277)\n",
      "Wrong: 8 (0.048)\n"
     ]
    }
   ],
   "source": [
    "# outliers\n",
    "for src in ['AGN', 'PSR']:\n",
    "    total = 1. * sum((cat_df['Category_%s' % cat] == src))\n",
    "    nmixed = sum((cat_df['Category_%s' % cat] == src) & (cat_df['Category_Prob'] == 'MIXED'))\n",
    "    nwrong = sum((cat_df['Category_%s' % cat] == src) & (cat_df['Category_Prob'] != src)) - nmixed\n",
    "    print('%s %s (%i total)' %(cat, src, total))\n",
    "    print('Mixed: %i (%.3f)' % (nmixed, nmixed/total))\n",
    "    print('Wrong: %i (%.3f)' % (nwrong, nwrong/total))"
   ]
  },
  {
   "cell_type": "code",
   "execution_count": 52,
   "metadata": {},
   "outputs": [
    {
     "data": {
      "text/plain": [
       "8"
      ]
     },
     "execution_count": 52,
     "metadata": {},
     "output_type": "execute_result"
    }
   ],
   "source": [
    "sum((cat_df['Category_%s' % cat] == 'PSR') & (cat_df['Category_Prob'] == 'AGN'))"
   ]
  },
  {
   "cell_type": "code",
   "execution_count": 53,
   "metadata": {},
   "outputs": [
    {
     "name": "stdout",
     "output_type": "stream",
     "text": [
      "4FGL-DR2 number of sources: 5787\n",
      "3021\n",
      "3034\n"
     ]
    }
   ],
   "source": [
    "print('4FGL-DR2 number of sources:', 5064 + 723)\n",
    "print(len(cat_df))\n",
    "print(len(cat0_df))"
   ]
  },
  {
   "cell_type": "code",
   "execution_count": 54,
   "metadata": {},
   "outputs": [
    {
     "name": "stdout",
     "output_type": "stream",
     "text": [
      "AGN other: 38\n",
      "AGN other / n assoc: 0.02\n",
      "AGN uncorrected: 597\n",
      "AGN corrected: 578.0\n",
      "PSR other: 28\n",
      "PSR other / n assoc: 0.20\n",
      "PSR uncorrected: 111\n",
      "PSR corrected: 97.0\n",
      "MIXED other: 42\n",
      "MIXED other / n assoc: 0.21\n",
      "MIXED uncorrected: 300\n",
      "MIXED corrected: 279.0\n",
      "Total other: 108\n"
     ]
    }
   ],
   "source": [
    "for label in labels:\n",
    "    n_other = np.sum((cat_df['Category_Prob'] == label) & other_mask)\n",
    "    n_label = 1. * np.sum((cat_df['Category_Prob'] == label) & ass_mask)\n",
    "    print('%s other: %i' % (label, n_other))\n",
    "    if n_label:\n",
    "        print('%s other / n assoc: %.2f' % (label, n_other / n_label))\n",
    "    n_corr = 1. * n_other * n_unas / n_as\n",
    "    res_dict['corrected'][label] = res_dict['uncorrected'][label] - n_corr\n",
    "    print('%s uncorrected: %i' % (label, res_dict['uncorrected'][label]))\n",
    "    print('%s corrected: %.1f' % (label, res_dict['corrected'][label]))\n",
    "print('Total other:', sum(other_mask))"
   ]
  }
 ],
 "metadata": {
  "kernelspec": {
   "display_name": "Python 3",
   "language": "python",
   "name": "python3"
  },
  "language_info": {
   "codemirror_mode": {
    "name": "ipython",
    "version": 3
   },
   "file_extension": ".py",
   "mimetype": "text/x-python",
   "name": "python",
   "nbconvert_exporter": "python",
   "pygments_lexer": "ipython3",
   "version": "3.7.5"
  }
 },
 "nbformat": 4,
 "nbformat_minor": 2
}
