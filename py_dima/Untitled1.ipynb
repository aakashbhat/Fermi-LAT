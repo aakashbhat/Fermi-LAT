{
 "cells": [
  {
   "cell_type": "code",
   "execution_count": null,
   "metadata": {},
   "outputs": [],
   "source": [
    "\\begin{tabular}{c c c}\n",
    "\\hline\n",
    "\\hline\n",
    "Feature &  20 trees, depth 2& 50 trees, depth 6\\\\\n",
    "\\hline\n",
    "{\\bf$\\ln$(Signif\\_Curve)}&  0.367  &  0.331  \\\\\n",
    "\n",
    "GLON & 0.001 & 0.014        \\\\\n",
    "GLAT & 0.009     & 0.017 \\\\\n",
    "$\\ln$(Energy\\_Flux100) & 0.073   &   0.071\\\\\n",
    "{\\bf $\\ln$(Unc\\_Energy\\_Flux100)} & 0.182 &0.122  \\\\\n",
    "\n",
    "$\\ln$(Variability\\_Index)& 0.051 &0.098 \\\\\n",
    "500MeV\\_Index& 0.065 &0.065 \\\\\n",
    "HR12& 0.047 &0.052 \\\\\n",
    "HR23 & 0.032 &0.062 \\\\\n",
    "HR34&0.016&0.025\\\\\n",
    "{\\bf HR45}&0.149&0.137\\\\\n",
    "\\hline\n",
    "\\end{tabular}\n",
    "\\vspace{0.4cm}\n",
    "\\caption{Feature importances for two RF algorithms.}\n",
    "\\label{tab:feat_imp}\n",
    "\\end{table}"
   ]
  }
 ],
 "metadata": {
  "kernelspec": {
   "display_name": "Python 3",
   "language": "python",
   "name": "python3"
  },
  "language_info": {
   "codemirror_mode": {
    "name": "ipython",
    "version": 3
   },
   "file_extension": ".py",
   "mimetype": "text/x-python",
   "name": "python",
   "nbconvert_exporter": "python",
   "pygments_lexer": "ipython3",
   "version": "3.7.5"
  }
 },
 "nbformat": 4,
 "nbformat_minor": 2
}
