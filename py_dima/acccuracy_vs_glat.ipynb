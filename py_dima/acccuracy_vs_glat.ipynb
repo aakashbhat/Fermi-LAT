{
 "cells": [
  {
   "cell_type": "code",
   "execution_count": 1,
   "metadata": {},
   "outputs": [],
   "source": [
    "import numpy as np\n",
    "import pandas as pd\n",
    "from sklearn.metrics import accuracy_score\n",
    "from matplotlib import pyplot\n",
    "from astropy.io import fits\n",
    "import os\n",
    "import healpy as hp\n",
    "\n",
    "import plotting\n",
    "import auxil_ML as aux\n",
    "import healpylib3 as hlib\n",
    "\n",
    "\n"
   ]
  },
  {
   "cell_type": "code",
   "execution_count": 2,
   "metadata": {},
   "outputs": [],
   "source": [
    "def accuracy_score_loc(y_true, y_pred):\n",
    "    return np.sum(y_true == y_pred) / len(y_true)\n",
    "accuracy_score = accuracy_score_loc"
   ]
  },
  {
   "cell_type": "code",
   "execution_count": 3,
   "metadata": {},
   "outputs": [
    {
     "data": {
      "text/plain": [
       "0"
      ]
     },
     "execution_count": 3,
     "metadata": {},
     "output_type": "execute_result"
    }
   ],
   "source": [
    "plotting.setup_figure_pars()"
   ]
  },
  {
   "cell_type": "code",
   "execution_count": 4,
   "metadata": {},
   "outputs": [],
   "source": [
    "if 0:\n",
    "    import importlib\n",
    "    importlib.reload(plotting);\n",
    "    importlib.reload(aux);\n",
    "    importlib.reload(hlib);"
   ]
  },
  {
   "cell_type": "code",
   "execution_count": 5,
   "metadata": {},
   "outputs": [],
   "source": [
    "def min_max_vs(dct, corr={}):\n",
    "    vals = np.array([dct[key] - corr.get(key, 0.) for key in dct.keys()])\n",
    "    return np.min(vals, axis=0), np.max(vals, axis=0)\n",
    "\n",
    "def plot_mollview(fmap, title='', fig=None, vmin=None, vmax=None, **kwargs):\n",
    "    hp.mollview(fmap, title=title, fig=fig, cbar=None, min=vmin, max=vmax) #cmap=r'afmhot_r'\n",
    "    #plotting.add_mollview_colorbar(pix_map, label='', nticks=5, ticks=None, tick_labels=None)\n",
    "    plotting.add_mollview_colorbar(fmap, vmin=vmin, vmax=vmax, **kwargs)\n",
    "    dpar = 30\n",
    "    dmer = 30\n",
    "    grat = hp.graticule(dpar=dpar, dmer=dmer, ls=':')\n"
   ]
  },
  {
   "cell_type": "code",
   "execution_count": 8,
   "metadata": {},
   "outputs": [
    {
     "name": "stdout",
     "output_type": "stream",
     "text": [
      "Index(['GLON', 'GLAT', 'ln(Energy_Flux100)', 'ln(Unc_Energy_Flux100)',\n",
      "       'ln(Signif_Curve)', 'ln(Variability_Index)', '500MeV_Index', 'HR12',\n",
      "       'HR23', 'HR34', 'HR45', 'Category_3FGL', 'CLASS_3FGL', 'Pivot_Energy',\n",
      "       'Spectrum_Type', 'ASSOC1', 'Flags_3FGL', 'AGN_BDT', 'AGN_BDT_STD',\n",
      "       'PSR_BDT', 'PSR_BDT_STD', 'AGN_NN', 'AGN_NN_STD', 'PSR_NN',\n",
      "       'PSR_NN_STD', 'AGN_RF', 'AGN_RF_STD', 'PSR_RF', 'PSR_RF_STD', 'AGN_LR',\n",
      "       'AGN_LR_STD', 'PSR_LR', 'PSR_LR_STD', 'AGN_BDT_O', 'AGN_BDT_STD_O',\n",
      "       'PSR_BDT_O', 'PSR_BDT_STD_O', 'AGN_NN_O', 'AGN_NN_STD_O', 'PSR_NN_O',\n",
      "       'PSR_NN_STD_O', 'AGN_RF_O', 'AGN_RF_STD_O', 'PSR_RF_O', 'PSR_RF_STD_O',\n",
      "       'AGN_LR_O', 'AGN_LR_STD_O', 'PSR_LR_O', 'PSR_LR_STD_O',\n",
      "       'Missing_Values_Flag', 'Category_Prob'],\n",
      "      dtype='object')\n"
     ]
    }
   ],
   "source": [
    "cat = '3FGL'\n",
    "folder = '../SOM'\n",
    "cat_fn = '%s/%s_prob_catalog_2classes.csv' % (folder, cat)\n",
    "\n",
    "cat_df = pd.read_csv(cat_fn, index_col=0)\n",
    "labels = ['AGN', 'PSR', 'MIXED']\n",
    "plots_folder = 'plots/Accuracies'\n",
    "print(cat_df.columns)"
   ]
  },
  {
   "cell_type": "code",
   "execution_count": 9,
   "metadata": {},
   "outputs": [
    {
     "data": {
      "text/plain": [
       "Source_Name_3FGL\n",
       "3FGL J0001.0+6314       AGN\n",
       "3FGL J0001.2-0748       AGN\n",
       "3FGL J0001.4+2120       AGN\n",
       "3FGL J0002.2-4152       AGN\n",
       "3FGL J0003.2-5246       AGN\n",
       "                      ...  \n",
       "3FGL J2021.0+4031e    MIXED\n",
       "3FGL J2028.6+4110e    MIXED\n",
       "3FGL J1513.9-5908     MIXED\n",
       "3FGL J0121.8-3917       AGN\n",
       "3FGL J1655.1-3954       AGN\n",
       "Name: Category_Prob, Length: 3034, dtype: object"
      ]
     },
     "execution_count": 9,
     "metadata": {},
     "output_type": "execute_result"
    }
   ],
   "source": [
    "cat_df['Category_Prob']"
   ]
  },
  {
   "cell_type": "code",
   "execution_count": 10,
   "metadata": {},
   "outputs": [],
   "source": [
    "add_os = True\n",
    "if add_os:\n",
    "    weight_str = 'oversample'\n",
    "    if 0:\n",
    "        #weight_str = 'weighted'\n",
    "        fn = '../ML_3FGL_paper_extra/data/python files/catas/%s_unassoc_%s.csv' % (cat, weight_str)\n",
    "        print(fn)\n",
    "        pcat_os = pd.read_csv(fn, index_col='Source_Name_%s' % cat)\n",
    "        print(pcat_os.columns)\n",
    "        sin_glat_os = np.abs(np.sin(np.deg2rad(pcat_os['GLAT_%s' % cat])))\n",
    "        #glat = np.abs(cat_df['GLAT'])\n",
    "        #pcat_os = pd.read_csv(fn)\n",
    "    estr = '_%s' % weight_str\n",
    "else:\n",
    "    estr = ''"
   ]
  },
  {
   "cell_type": "code",
   "execution_count": 11,
   "metadata": {},
   "outputs": [],
   "source": [
    "sin_glat = np.abs(np.sin(np.deg2rad(cat_df['GLAT'])))\n",
    "glat = np.abs(cat_df['GLAT'])"
   ]
  },
  {
   "cell_type": "code",
   "execution_count": 12,
   "metadata": {},
   "outputs": [
    {
     "name": "stdout",
     "output_type": "stream",
     "text": [
      "[0.07142857 0.21428571 0.35714286 0.5        0.64285714 0.78571429\n",
      " 0.92857143]\n"
     ]
    }
   ],
   "source": [
    "nbins = 7\n",
    "sin_bins = np.linspace(0, 1, nbins + 1)\n",
    "sin_bins_c = (sin_bins[1:] + sin_bins[:-1]) / 2\n",
    "print(sin_bins_c)"
   ]
  },
  {
   "cell_type": "code",
   "execution_count": 13,
   "metadata": {},
   "outputs": [],
   "source": [
    "masks = {}\n",
    "masks['AGN & PSR'] = (cat_df['Category_%s' % cat] == 'AGN') | (cat_df['Category_%s' % cat] == 'PSR')\n",
    "masks['AGN'] = (cat_df['Category_%s' % cat] == 'AGN')\n",
    "masks['PSR'] = (cat_df['Category_%s' % cat] == 'PSR')\n",
    "masks['PSR any algorithm'] = masks['PSR']\n",
    "masks['UNAS'] = (cat_df['Category_%s' % cat] == 'UNAS')\n",
    "masks['ASSOC'] = (cat_df['Category_%s' % cat] != 'UNAS')\n"
   ]
  },
  {
   "cell_type": "code",
   "execution_count": null,
   "metadata": {},
   "outputs": [],
   "source": []
  },
  {
   "cell_type": "code",
   "execution_count": 14,
   "metadata": {},
   "outputs": [
    {
     "ename": "KeyError",
     "evalue": "'Category_Prob_O'",
     "output_type": "error",
     "traceback": [
      "\u001b[0;31m---------------------------------------------------------------------------\u001b[0m",
      "\u001b[0;31mKeyError\u001b[0m                                  Traceback (most recent call last)",
      "\u001b[0;32m~/miniconda3/envs/python3/lib/python3.7/site-packages/pandas/core/indexes/base.py\u001b[0m in \u001b[0;36mget_loc\u001b[0;34m(self, key, method, tolerance)\u001b[0m\n\u001b[1;32m   2645\u001b[0m             \u001b[0;32mtry\u001b[0m\u001b[0;34m:\u001b[0m\u001b[0;34m\u001b[0m\u001b[0;34m\u001b[0m\u001b[0m\n\u001b[0;32m-> 2646\u001b[0;31m                 \u001b[0;32mreturn\u001b[0m \u001b[0mself\u001b[0m\u001b[0;34m.\u001b[0m\u001b[0m_engine\u001b[0m\u001b[0;34m.\u001b[0m\u001b[0mget_loc\u001b[0m\u001b[0;34m(\u001b[0m\u001b[0mkey\u001b[0m\u001b[0;34m)\u001b[0m\u001b[0;34m\u001b[0m\u001b[0;34m\u001b[0m\u001b[0m\n\u001b[0m\u001b[1;32m   2647\u001b[0m             \u001b[0;32mexcept\u001b[0m \u001b[0mKeyError\u001b[0m\u001b[0;34m:\u001b[0m\u001b[0;34m\u001b[0m\u001b[0;34m\u001b[0m\u001b[0m\n",
      "\u001b[0;32mpandas/_libs/index.pyx\u001b[0m in \u001b[0;36mpandas._libs.index.IndexEngine.get_loc\u001b[0;34m()\u001b[0m\n",
      "\u001b[0;32mpandas/_libs/index.pyx\u001b[0m in \u001b[0;36mpandas._libs.index.IndexEngine.get_loc\u001b[0;34m()\u001b[0m\n",
      "\u001b[0;32mpandas/_libs/hashtable_class_helper.pxi\u001b[0m in \u001b[0;36mpandas._libs.hashtable.PyObjectHashTable.get_item\u001b[0;34m()\u001b[0m\n",
      "\u001b[0;32mpandas/_libs/hashtable_class_helper.pxi\u001b[0m in \u001b[0;36mpandas._libs.hashtable.PyObjectHashTable.get_item\u001b[0;34m()\u001b[0m\n",
      "\u001b[0;31mKeyError\u001b[0m: 'Category_Prob_O'",
      "\nDuring handling of the above exception, another exception occurred:\n",
      "\u001b[0;31mKeyError\u001b[0m                                  Traceback (most recent call last)",
      "\u001b[0;32m<ipython-input-14-05acfb4a73e1>\u001b[0m in \u001b[0;36m<module>\u001b[0;34m\u001b[0m\n\u001b[1;32m     43\u001b[0m         \u001b[0;32mif\u001b[0m \u001b[0madd_os\u001b[0m \u001b[0;32mand\u001b[0m \u001b[0mkey\u001b[0m\u001b[0;34m.\u001b[0m\u001b[0mfind\u001b[0m\u001b[0;34m(\u001b[0m\u001b[0;34m'any algorithm'\u001b[0m\u001b[0;34m)\u001b[0m \u001b[0;34m==\u001b[0m \u001b[0;34m-\u001b[0m\u001b[0;36m1\u001b[0m\u001b[0;34m:\u001b[0m\u001b[0;34m\u001b[0m\u001b[0;34m\u001b[0m\u001b[0m\n\u001b[1;32m     44\u001b[0m             \u001b[0mprob_kw\u001b[0m \u001b[0;34m=\u001b[0m \u001b[0;34m'Category_Prob_O'\u001b[0m\u001b[0;34m\u001b[0m\u001b[0;34m\u001b[0m\u001b[0m\n\u001b[0;32m---> 45\u001b[0;31m             \u001b[0mmasks_prec\u001b[0m\u001b[0;34m[\u001b[0m\u001b[0;34m'AGN & PSR O'\u001b[0m\u001b[0;34m]\u001b[0m \u001b[0;34m=\u001b[0m \u001b[0;34m(\u001b[0m\u001b[0mcat_df\u001b[0m\u001b[0;34m[\u001b[0m\u001b[0mprob_kw\u001b[0m\u001b[0;34m]\u001b[0m \u001b[0;34m==\u001b[0m \u001b[0;34m'AGN'\u001b[0m\u001b[0;34m)\u001b[0m \u001b[0;34m|\u001b[0m \u001b[0;34m(\u001b[0m\u001b[0mcat_df\u001b[0m\u001b[0;34m[\u001b[0m\u001b[0mprob_kw\u001b[0m\u001b[0;34m]\u001b[0m \u001b[0;34m==\u001b[0m \u001b[0;34m'PSR'\u001b[0m\u001b[0;34m)\u001b[0m\u001b[0;34m\u001b[0m\u001b[0;34m\u001b[0m\u001b[0m\n\u001b[0m\u001b[1;32m     46\u001b[0m             \u001b[0mmasks_prec\u001b[0m\u001b[0;34m[\u001b[0m\u001b[0;34m'AGN O'\u001b[0m\u001b[0;34m]\u001b[0m \u001b[0;34m=\u001b[0m \u001b[0;34m(\u001b[0m\u001b[0mcat_df\u001b[0m\u001b[0;34m[\u001b[0m\u001b[0mprob_kw\u001b[0m\u001b[0;34m]\u001b[0m \u001b[0;34m==\u001b[0m \u001b[0;34m'AGN'\u001b[0m\u001b[0;34m)\u001b[0m\u001b[0;34m\u001b[0m\u001b[0;34m\u001b[0m\u001b[0m\n\u001b[1;32m     47\u001b[0m             \u001b[0mmasks_prec\u001b[0m\u001b[0;34m[\u001b[0m\u001b[0;34m'PSR O'\u001b[0m\u001b[0;34m]\u001b[0m \u001b[0;34m=\u001b[0m \u001b[0;34m(\u001b[0m\u001b[0mcat_df\u001b[0m\u001b[0;34m[\u001b[0m\u001b[0mprob_kw\u001b[0m\u001b[0;34m]\u001b[0m \u001b[0;34m==\u001b[0m \u001b[0;34m'PSR'\u001b[0m\u001b[0;34m)\u001b[0m\u001b[0;34m\u001b[0m\u001b[0;34m\u001b[0m\u001b[0m\n",
      "\u001b[0;32m~/miniconda3/envs/python3/lib/python3.7/site-packages/pandas/core/frame.py\u001b[0m in \u001b[0;36m__getitem__\u001b[0;34m(self, key)\u001b[0m\n\u001b[1;32m   2798\u001b[0m             \u001b[0;32mif\u001b[0m \u001b[0mself\u001b[0m\u001b[0;34m.\u001b[0m\u001b[0mcolumns\u001b[0m\u001b[0;34m.\u001b[0m\u001b[0mnlevels\u001b[0m \u001b[0;34m>\u001b[0m \u001b[0;36m1\u001b[0m\u001b[0;34m:\u001b[0m\u001b[0;34m\u001b[0m\u001b[0;34m\u001b[0m\u001b[0m\n\u001b[1;32m   2799\u001b[0m                 \u001b[0;32mreturn\u001b[0m \u001b[0mself\u001b[0m\u001b[0;34m.\u001b[0m\u001b[0m_getitem_multilevel\u001b[0m\u001b[0;34m(\u001b[0m\u001b[0mkey\u001b[0m\u001b[0;34m)\u001b[0m\u001b[0;34m\u001b[0m\u001b[0;34m\u001b[0m\u001b[0m\n\u001b[0;32m-> 2800\u001b[0;31m             \u001b[0mindexer\u001b[0m \u001b[0;34m=\u001b[0m \u001b[0mself\u001b[0m\u001b[0;34m.\u001b[0m\u001b[0mcolumns\u001b[0m\u001b[0;34m.\u001b[0m\u001b[0mget_loc\u001b[0m\u001b[0;34m(\u001b[0m\u001b[0mkey\u001b[0m\u001b[0;34m)\u001b[0m\u001b[0;34m\u001b[0m\u001b[0;34m\u001b[0m\u001b[0m\n\u001b[0m\u001b[1;32m   2801\u001b[0m             \u001b[0;32mif\u001b[0m \u001b[0mis_integer\u001b[0m\u001b[0;34m(\u001b[0m\u001b[0mindexer\u001b[0m\u001b[0;34m)\u001b[0m\u001b[0;34m:\u001b[0m\u001b[0;34m\u001b[0m\u001b[0;34m\u001b[0m\u001b[0m\n\u001b[1;32m   2802\u001b[0m                 \u001b[0mindexer\u001b[0m \u001b[0;34m=\u001b[0m \u001b[0;34m[\u001b[0m\u001b[0mindexer\u001b[0m\u001b[0;34m]\u001b[0m\u001b[0;34m\u001b[0m\u001b[0;34m\u001b[0m\u001b[0m\n",
      "\u001b[0;32m~/miniconda3/envs/python3/lib/python3.7/site-packages/pandas/core/indexes/base.py\u001b[0m in \u001b[0;36mget_loc\u001b[0;34m(self, key, method, tolerance)\u001b[0m\n\u001b[1;32m   2646\u001b[0m                 \u001b[0;32mreturn\u001b[0m \u001b[0mself\u001b[0m\u001b[0;34m.\u001b[0m\u001b[0m_engine\u001b[0m\u001b[0;34m.\u001b[0m\u001b[0mget_loc\u001b[0m\u001b[0;34m(\u001b[0m\u001b[0mkey\u001b[0m\u001b[0;34m)\u001b[0m\u001b[0;34m\u001b[0m\u001b[0;34m\u001b[0m\u001b[0m\n\u001b[1;32m   2647\u001b[0m             \u001b[0;32mexcept\u001b[0m \u001b[0mKeyError\u001b[0m\u001b[0;34m:\u001b[0m\u001b[0;34m\u001b[0m\u001b[0;34m\u001b[0m\u001b[0m\n\u001b[0;32m-> 2648\u001b[0;31m                 \u001b[0;32mreturn\u001b[0m \u001b[0mself\u001b[0m\u001b[0;34m.\u001b[0m\u001b[0m_engine\u001b[0m\u001b[0;34m.\u001b[0m\u001b[0mget_loc\u001b[0m\u001b[0;34m(\u001b[0m\u001b[0mself\u001b[0m\u001b[0;34m.\u001b[0m\u001b[0m_maybe_cast_indexer\u001b[0m\u001b[0;34m(\u001b[0m\u001b[0mkey\u001b[0m\u001b[0;34m)\u001b[0m\u001b[0;34m)\u001b[0m\u001b[0;34m\u001b[0m\u001b[0;34m\u001b[0m\u001b[0m\n\u001b[0m\u001b[1;32m   2649\u001b[0m         \u001b[0mindexer\u001b[0m \u001b[0;34m=\u001b[0m \u001b[0mself\u001b[0m\u001b[0;34m.\u001b[0m\u001b[0mget_indexer\u001b[0m\u001b[0;34m(\u001b[0m\u001b[0;34m[\u001b[0m\u001b[0mkey\u001b[0m\u001b[0;34m]\u001b[0m\u001b[0;34m,\u001b[0m \u001b[0mmethod\u001b[0m\u001b[0;34m=\u001b[0m\u001b[0mmethod\u001b[0m\u001b[0;34m,\u001b[0m \u001b[0mtolerance\u001b[0m\u001b[0;34m=\u001b[0m\u001b[0mtolerance\u001b[0m\u001b[0;34m)\u001b[0m\u001b[0;34m\u001b[0m\u001b[0;34m\u001b[0m\u001b[0m\n\u001b[1;32m   2650\u001b[0m         \u001b[0;32mif\u001b[0m \u001b[0mindexer\u001b[0m\u001b[0;34m.\u001b[0m\u001b[0mndim\u001b[0m \u001b[0;34m>\u001b[0m \u001b[0;36m1\u001b[0m \u001b[0;32mor\u001b[0m \u001b[0mindexer\u001b[0m\u001b[0;34m.\u001b[0m\u001b[0msize\u001b[0m \u001b[0;34m>\u001b[0m \u001b[0;36m1\u001b[0m\u001b[0;34m:\u001b[0m\u001b[0;34m\u001b[0m\u001b[0;34m\u001b[0m\u001b[0m\n",
      "\u001b[0;32mpandas/_libs/index.pyx\u001b[0m in \u001b[0;36mpandas._libs.index.IndexEngine.get_loc\u001b[0;34m()\u001b[0m\n",
      "\u001b[0;32mpandas/_libs/index.pyx\u001b[0m in \u001b[0;36mpandas._libs.index.IndexEngine.get_loc\u001b[0;34m()\u001b[0m\n",
      "\u001b[0;32mpandas/_libs/hashtable_class_helper.pxi\u001b[0m in \u001b[0;36mpandas._libs.hashtable.PyObjectHashTable.get_item\u001b[0;34m()\u001b[0m\n",
      "\u001b[0;32mpandas/_libs/hashtable_class_helper.pxi\u001b[0m in \u001b[0;36mpandas._libs.hashtable.PyObjectHashTable.get_item\u001b[0;34m()\u001b[0m\n",
      "\u001b[0;31mKeyError\u001b[0m: 'Category_Prob_O'"
     ]
    }
   ],
   "source": [
    "res_recall = {}\n",
    "res_prec = {}\n",
    "nsrc_recall = {}\n",
    "nsrc_prec = {}\n",
    "for key in masks.keys():\n",
    "    res_recall[key] = np.zeros(nbins)\n",
    "    res_prec[key] = np.zeros(nbins)\n",
    "    nsrc_recall[key] = np.zeros(nbins)\n",
    "    nsrc_prec[key] = np.zeros(nbins)\n",
    "\n",
    "if add_os:\n",
    "    res_recall_os = {}\n",
    "    res_prec_os = {}\n",
    "    nsrc_recall_os = {}\n",
    "    nsrc_prec_os = {}\n",
    "    for key in masks.keys():\n",
    "        res_recall_os[key] = np.zeros(nbins)\n",
    "        res_prec_os[key] = np.zeros(nbins)\n",
    "        nsrc_recall_os[key] = np.zeros(nbins)\n",
    "        nsrc_prec_os[key] = np.zeros(nbins)\n",
    "    \n",
    "#alg = 'All algs'\n",
    "algs0 = ['NN', 'LR', 'RF', 'BDT']\n",
    "algs = ['All algs', 'NN', 'LR', 'RF', 'BDT'][:1]\n",
    "plot_keys = ['PSR', 'PSR any algorithm']\n",
    "save_plots = False\n",
    "\n",
    "masks_prec = {}\n",
    "for alg in algs0:\n",
    "    masks_prec['PSR any algorithm'] = (cat_df['PSR_%s' % alg] > 0.5) | masks_prec.get('PSR any algorithm', False)\n",
    "\n",
    "#print(np.sum(masks_prec['PSR any algorithm']))\n",
    "#print(np.sum(cat_df['Category_Prob'] == 'PSR'))\n",
    "\n",
    "markers = ['s', '>', 'D', 'v', 'o', '*']\n",
    "mss = [6, 6, 6, 6, 6, 9]\n",
    "j = 0\n",
    "for alg in algs:\n",
    "    if alg == 'All algs':\n",
    "        masks_prec['AGN & PSR'] = (cat_df['Category_Prob'] == 'AGN') | (cat_df['Category_Prob'] == 'PSR')\n",
    "        masks_prec['AGN'] = (cat_df['Category_Prob'] == 'AGN')\n",
    "        masks_prec['PSR'] = (cat_df['Category_Prob'] == 'PSR')\n",
    "        if add_os and key.find('any algorithm') == -1:\n",
    "            prob_kw = 'Category_Prob_O'\n",
    "            masks_prec['AGN & PSR O'] = (cat_df[prob_kw] == 'AGN') | (cat_df[prob_kw] == 'PSR')\n",
    "            masks_prec['AGN O'] = (cat_df[prob_kw] == 'AGN')\n",
    "            masks_prec['PSR O'] = (cat_df[prob_kw] == 'PSR')\n",
    "            \n",
    "    else:\n",
    "        masks_prec['AGN & PSR'] = (cat_df['AGN_%s' % alg] > 0.5) | (cat_df['PSR_%s' % alg] > 0.5)\n",
    "        masks_prec['AGN'] = (cat_df['AGN_%s' % alg] > 0.5)\n",
    "        masks_prec['PSR'] = (cat_df['PSR_%s' % alg] > 0.5)\n",
    "    #plot_keys = masks_prec.keys()\n",
    "    for i in range(nbins):\n",
    "        for key in plot_keys:\n",
    "            # take all true members of a class\n",
    "            bin_mask = (sin_glat > sin_bins[i]) & (sin_glat <= sin_bins[i + 1]) & masks[key]\n",
    "            y_true = cat_df['Category_%s' % cat][bin_mask]\n",
    "            if alg == 'All algs':\n",
    "                y_pred = cat_df['Category_Prob'][bin_mask]\n",
    "                if key == 'PSR any algorithm':\n",
    "                    mixed_mask = (y_pred == 'MIXED')\n",
    "                    y_pred[mixed_mask] = 'PSR'\n",
    "                if add_os and key.find('any algorithm') == -1:\n",
    "                    y_pred_os = cat_df['Category_Prob_O'][bin_mask]\n",
    "            else:\n",
    "                y_pred = y_true.copy()\n",
    "                y_pred[:] = 'PSR'\n",
    "                agn_mask = cat_df['AGN_%s' % alg][bin_mask] > 0.5\n",
    "                y_pred[agn_mask] = 'AGN'\n",
    "            # the fraction of true members that was correctly recovered\n",
    "            res_recall[key][i] = accuracy_score(y_true, y_pred)\n",
    "            nsrc_recall[key][i] = np.sum(bin_mask)\n",
    "            if add_os and key.find('any algorithm') == -1:\n",
    "                res_recall_os[key][i] = accuracy_score(y_true, y_pred_os)\n",
    "                nsrc_recall_os[key][i] = np.sum(bin_mask)\n",
    "            \n",
    "            # take all sources predicted to belong to a class (among AGNs and PSRs)\n",
    "            bin_mask = (sin_glat > sin_bins[i]) & (sin_glat <= sin_bins[i + 1]) & masks_prec[key] & masks['AGN & PSR']\n",
    "            y_true = cat_df['Category_%s' % cat][bin_mask]\n",
    "            if add_os and key.find('any algorithm') == -1:\n",
    "                bin_mask_os = (sin_glat > sin_bins[i]) & (sin_glat <= sin_bins[i + 1]) & masks_prec[key + ' O'] & masks['AGN & PSR']\n",
    "                y_true_os = cat_df['Category_%s' % cat][bin_mask_os]\n",
    "            if alg == 'All algs':\n",
    "                y_pred = cat_df['Category_Prob'][bin_mask]\n",
    "                if add_os and key.find('any algorithm') == -1:\n",
    "                    y_pred_os = cat_df['Category_Prob_O'][bin_mask_os]\n",
    "                    \n",
    "            else:\n",
    "                y_pred = y_true.copy()\n",
    "                y_pred[:] = 'PSR'\n",
    "                agn_mask = cat_df['AGN_%s' % alg][bin_mask] > 0.5\n",
    "                y_pred[agn_mask] = 'AGN'\n",
    "            # calculate the fraction of correctly predicted ones\n",
    "            res_prec[key][i] = accuracy_score(y_true, y_pred)\n",
    "            nsrc_prec[key][i] = np.sum(bin_mask)\n",
    "            if add_os:\n",
    "                res_prec_os[key][i] = accuracy_score(y_true_os, y_pred_os)\n",
    "                nsrc_prec_os[key][i] = np.sum(bin_mask_os)\n",
    "                \n",
    "            \n",
    "    lss = ['-', '-.', '--', ':']\n",
    "    pyplot.figure()\n",
    "    for i, key in enumerate(plot_keys):\n",
    "        if 0:\n",
    "            print(key)\n",
    "            print(res_recall[key])\n",
    "            print(res_prec[key])\n",
    "        if key.find('any algorithm') != -1:\n",
    "            label0 = 'Any algorithm'\n",
    "        else:\n",
    "            label0 = 'All algorithms'\n",
    "        pyplot.plot(sin_bins_c, res_prec[key], ls='-', marker=markers[j], ms=mss[j],\n",
    "                    label=label0 + ' precision')\n",
    "        j += 1\n",
    "        pyplot.plot(sin_bins_c, res_recall[key], ls='--', marker=markers[j], ms=mss[j],\n",
    "                    label=label0 + ' recall')\n",
    "        j += 1\n",
    "        if add_os and key.find('any algorithm') == -1:\n",
    "            prec_os = res_prec_os[key]\n",
    "            recall_os = res_recall_os[key]\n",
    "            \n",
    "    if add_os:\n",
    "        label0 = 'All algorithms'\n",
    "        pyplot.plot(sin_bins_c, prec_os, ls='-', marker=markers[j], ms=mss[j],\n",
    "                    label=label0 + ' precision (oversample)')\n",
    "        j += 1\n",
    "        pyplot.plot(sin_bins_c, recall_os, ls='--', marker=markers[j], ms=mss[j],\n",
    "                    label=label0 + ' recall (oversample)')\n",
    "        j += 1\n",
    "        \n",
    "    pyplot.xlabel('abs(sin(GLAT))')\n",
    "    pyplot.ylabel('Precision or Recall')\n",
    "    if alg != 'All algs':\n",
    "        pyplot.title('%s, %s' % (cat, alg))\n",
    "    else:\n",
    "        pyplot.title('%s, %s' % (cat, 'PSR'))\n",
    "    pyplot.legend(labelspacing=0.2)\n",
    "    pyplot.ylim(0.3, 1.5)\n",
    "\n",
    "    if save_plots:\n",
    "        fn = '%s/%s_%s_precision_recall.pdf' % (plots_folder, alg.replace(' ', '_'), cat)\n",
    "        if add_os:\n",
    "            fn = '%s/%s_%s_precision_recall_oversample.pdf' % (plots_folder, alg.replace(' ', '_'), cat)\n",
    "        print('save figure to file: %s' % fn)\n",
    "        pyplot.savefig(fn)\n",
    "        if 1:\n",
    "            command = 'cp %s ../ML_3FGL_paper/plots' % fn\n",
    "            print(command)\n",
    "            os.system(command)\n",
    "\n",
    "    pyplot.figure()\n",
    "    for i, key in enumerate(plot_keys):\n",
    "        pyplot.semilogy(sin_bins_c, nsrc_recall[key], ls=lss[2 * i], label=key + ' recall')\n",
    "        pyplot.semilogy(sin_bins_c, nsrc_prec[key], ls=lss[2 * i + 1], label=key + ' precsision')\n",
    "    pyplot.xlabel('abs(sin(GLAT))')\n",
    "    pyplot.ylabel('# of sources')\n",
    "    pyplot.title('%s' % (cat))\n",
    "    pyplot.legend()\n",
    "\n",
    "    if save_plots:\n",
    "        fn = '%s/source_counts_%s_%s.pdf' % (plots_folder, alg, cat)\n",
    "        print('save figure to file: %s' % fn)\n",
    "        pyplot.savefig(fn)\n"
   ]
  },
  {
   "cell_type": "code",
   "execution_count": 13,
   "metadata": {},
   "outputs": [],
   "source": [
    "# GLAT distribution\n",
    "nbins = 18\n",
    "sin_bins_unif = np.linspace(0, 1, nbins+1)\n",
    "sin_bins_unif_c = (sin_bins_unif[1:] + sin_bins_unif[:-1]) / 2.\n",
    "lat_bins_unif = np.linspace(0, 90, nbins+1)\n",
    "lat_bins_unif_c = (lat_bins_unif[1:] + lat_bins_unif[:-1]) / 2.\n",
    "unas_mask = cat_df['Category_%s' % cat] == 'UNAS'"
   ]
  },
  {
   "cell_type": "code",
   "execution_count": 14,
   "metadata": {},
   "outputs": [
    {
     "data": {
      "text/plain": [
       "array([0.07142857, 0.21428571, 0.35714286, 0.5       , 0.64285714,\n",
       "       0.78571429, 0.92857143])"
      ]
     },
     "execution_count": 14,
     "metadata": {},
     "output_type": "execute_result"
    }
   ],
   "source": [
    "sin_bins_c"
   ]
  },
  {
   "cell_type": "code",
   "execution_count": 15,
   "metadata": {},
   "outputs": [],
   "source": [
    "pcat_SP = pd.read_csv('data/FGL3_results.csv', index_col='Source_Name')\n",
    "pcat_SP.index = ['3FGL %s' %name.strip() for name in pcat_SP.index]\n",
    "unass_lat_SP = {}\n",
    "algs0_SP = ['RF', 'LR']\n",
    "unas_mask_SP = pcat_SP['CLASS1'].copy()\n",
    "unas_mask_SP[:] = [type(pcat_SP['CLASS1'].iloc[i]) != str for i in range(len(unas_mask_SP))]\n",
    "sin_glat_SP = np.abs(np.sin(np.deg2rad(pcat_SP['GLAT'])))\n",
    "glat_SP = np.abs(pcat_SP['GLAT'])\n",
    "glon_SP = pcat_SP['GLON'] - 360 * (pcat_SP['GLON'] // 180)"
   ]
  },
  {
   "cell_type": "code",
   "execution_count": 16,
   "metadata": {},
   "outputs": [],
   "source": [
    "#plotting.setup_figure_pars()\n",
    "#print(pyplot.rcParams['figure.subplot.bottom'])"
   ]
  },
  {
   "cell_type": "code",
   "execution_count": 17,
   "metadata": {},
   "outputs": [
    {
     "ename": "ValueError",
     "evalue": "zero-size array to reduction operation minimum which has no identity",
     "output_type": "error",
     "traceback": [
      "\u001b[0;31m---------------------------------------------------------------------------\u001b[0m",
      "\u001b[0;31mValueError\u001b[0m                                Traceback (most recent call last)",
      "\u001b[0;32m<ipython-input-17-0e0b301bcc7c>\u001b[0m in \u001b[0;36m<module>\u001b[0;34m\u001b[0m\n\u001b[1;32m     48\u001b[0m     \u001b[0mpyplot\u001b[0m\u001b[0;34m.\u001b[0m\u001b[0mfill_between\u001b[0m\u001b[0;34m(\u001b[0m\u001b[0mxs\u001b[0m\u001b[0;34m,\u001b[0m \u001b[0mminvs\u001b[0m\u001b[0;34m,\u001b[0m \u001b[0mmaxvs\u001b[0m\u001b[0;34m,\u001b[0m \u001b[0mcolor\u001b[0m\u001b[0;34m=\u001b[0m\u001b[0;34m'green'\u001b[0m\u001b[0;34m,\u001b[0m \u001b[0malpha\u001b[0m\u001b[0;34m=\u001b[0m\u001b[0;36m0.5\u001b[0m\u001b[0;34m,\u001b[0m \u001b[0mlabel\u001b[0m\u001b[0;34m=\u001b[0m\u001b[0;34m'Unassoc'\u001b[0m\u001b[0;34m)\u001b[0m\u001b[0;34m\u001b[0m\u001b[0;34m\u001b[0m\u001b[0m\n\u001b[1;32m     49\u001b[0m     \u001b[0;32mif\u001b[0m \u001b[0madd_os\u001b[0m\u001b[0;34m:\u001b[0m\u001b[0;34m\u001b[0m\u001b[0;34m\u001b[0m\u001b[0m\n\u001b[0;32m---> 50\u001b[0;31m         \u001b[0mminvs\u001b[0m\u001b[0;34m,\u001b[0m \u001b[0mmaxvs\u001b[0m \u001b[0;34m=\u001b[0m \u001b[0mmin_max_vs\u001b[0m\u001b[0;34m(\u001b[0m\u001b[0munass_lat_os\u001b[0m\u001b[0;34m)\u001b[0m\u001b[0;34m\u001b[0m\u001b[0;34m\u001b[0m\u001b[0m\n\u001b[0m\u001b[1;32m     51\u001b[0m         \u001b[0mpyplot\u001b[0m\u001b[0;34m.\u001b[0m\u001b[0mfill_between\u001b[0m\u001b[0;34m(\u001b[0m\u001b[0mxs\u001b[0m\u001b[0;34m,\u001b[0m \u001b[0mminvs\u001b[0m\u001b[0;34m,\u001b[0m \u001b[0mmaxvs\u001b[0m\u001b[0;34m,\u001b[0m \u001b[0mcolor\u001b[0m\u001b[0;34m=\u001b[0m\u001b[0;34m'darkred'\u001b[0m\u001b[0;34m,\u001b[0m \u001b[0malpha\u001b[0m\u001b[0;34m=\u001b[0m\u001b[0;36m0.5\u001b[0m\u001b[0;34m,\u001b[0m \u001b[0mlabel\u001b[0m\u001b[0;34m=\u001b[0m\u001b[0;34m'Unassoc oversample'\u001b[0m\u001b[0;34m)\u001b[0m\u001b[0;34m\u001b[0m\u001b[0;34m\u001b[0m\u001b[0m\n\u001b[1;32m     52\u001b[0m     \u001b[0;32mif\u001b[0m \u001b[0;36m0\u001b[0m\u001b[0;34m:\u001b[0m\u001b[0;34m\u001b[0m\u001b[0;34m\u001b[0m\u001b[0m\n",
      "\u001b[0;32m<ipython-input-5-ca81c716ac85>\u001b[0m in \u001b[0;36mmin_max_vs\u001b[0;34m(dct, corr)\u001b[0m\n\u001b[1;32m      1\u001b[0m \u001b[0;32mdef\u001b[0m \u001b[0mmin_max_vs\u001b[0m\u001b[0;34m(\u001b[0m\u001b[0mdct\u001b[0m\u001b[0;34m,\u001b[0m \u001b[0mcorr\u001b[0m\u001b[0;34m=\u001b[0m\u001b[0;34m{\u001b[0m\u001b[0;34m}\u001b[0m\u001b[0;34m)\u001b[0m\u001b[0;34m:\u001b[0m\u001b[0;34m\u001b[0m\u001b[0;34m\u001b[0m\u001b[0m\n\u001b[1;32m      2\u001b[0m     \u001b[0mvals\u001b[0m \u001b[0;34m=\u001b[0m \u001b[0mnp\u001b[0m\u001b[0;34m.\u001b[0m\u001b[0marray\u001b[0m\u001b[0;34m(\u001b[0m\u001b[0;34m[\u001b[0m\u001b[0mdct\u001b[0m\u001b[0;34m[\u001b[0m\u001b[0mkey\u001b[0m\u001b[0;34m]\u001b[0m \u001b[0;34m-\u001b[0m \u001b[0mcorr\u001b[0m\u001b[0;34m.\u001b[0m\u001b[0mget\u001b[0m\u001b[0;34m(\u001b[0m\u001b[0mkey\u001b[0m\u001b[0;34m,\u001b[0m \u001b[0;36m0.\u001b[0m\u001b[0;34m)\u001b[0m \u001b[0;32mfor\u001b[0m \u001b[0mkey\u001b[0m \u001b[0;32min\u001b[0m \u001b[0mdct\u001b[0m\u001b[0;34m.\u001b[0m\u001b[0mkeys\u001b[0m\u001b[0;34m(\u001b[0m\u001b[0;34m)\u001b[0m\u001b[0;34m]\u001b[0m\u001b[0;34m)\u001b[0m\u001b[0;34m\u001b[0m\u001b[0;34m\u001b[0m\u001b[0m\n\u001b[0;32m----> 3\u001b[0;31m     \u001b[0;32mreturn\u001b[0m \u001b[0mnp\u001b[0m\u001b[0;34m.\u001b[0m\u001b[0mmin\u001b[0m\u001b[0;34m(\u001b[0m\u001b[0mvals\u001b[0m\u001b[0;34m,\u001b[0m \u001b[0maxis\u001b[0m\u001b[0;34m=\u001b[0m\u001b[0;36m0\u001b[0m\u001b[0;34m)\u001b[0m\u001b[0;34m,\u001b[0m \u001b[0mnp\u001b[0m\u001b[0;34m.\u001b[0m\u001b[0mmax\u001b[0m\u001b[0;34m(\u001b[0m\u001b[0mvals\u001b[0m\u001b[0;34m,\u001b[0m \u001b[0maxis\u001b[0m\u001b[0;34m=\u001b[0m\u001b[0;36m0\u001b[0m\u001b[0;34m)\u001b[0m\u001b[0;34m\u001b[0m\u001b[0;34m\u001b[0m\u001b[0m\n\u001b[0m\u001b[1;32m      4\u001b[0m \u001b[0;34m\u001b[0m\u001b[0m\n\u001b[1;32m      5\u001b[0m \u001b[0;32mdef\u001b[0m \u001b[0mplot_mollview\u001b[0m\u001b[0;34m(\u001b[0m\u001b[0mfmap\u001b[0m\u001b[0;34m,\u001b[0m \u001b[0mtitle\u001b[0m\u001b[0;34m=\u001b[0m\u001b[0;34m''\u001b[0m\u001b[0;34m,\u001b[0m \u001b[0mfig\u001b[0m\u001b[0;34m=\u001b[0m\u001b[0;32mNone\u001b[0m\u001b[0;34m,\u001b[0m \u001b[0mvmin\u001b[0m\u001b[0;34m=\u001b[0m\u001b[0;32mNone\u001b[0m\u001b[0;34m,\u001b[0m \u001b[0mvmax\u001b[0m\u001b[0;34m=\u001b[0m\u001b[0;32mNone\u001b[0m\u001b[0;34m,\u001b[0m \u001b[0;34m**\u001b[0m\u001b[0mkwargs\u001b[0m\u001b[0;34m)\u001b[0m\u001b[0;34m:\u001b[0m\u001b[0;34m\u001b[0m\u001b[0;34m\u001b[0m\u001b[0m\n",
      "\u001b[0;32m<__array_function__ internals>\u001b[0m in \u001b[0;36mamin\u001b[0;34m(*args, **kwargs)\u001b[0m\n",
      "\u001b[0;32m~/miniconda3/envs/python3/lib/python3.7/site-packages/numpy/core/fromnumeric.py\u001b[0m in \u001b[0;36mamin\u001b[0;34m(a, axis, out, keepdims, initial, where)\u001b[0m\n\u001b[1;32m   2829\u001b[0m     \"\"\"\n\u001b[1;32m   2830\u001b[0m     return _wrapreduction(a, np.minimum, 'min', axis, None, out,\n\u001b[0;32m-> 2831\u001b[0;31m                           keepdims=keepdims, initial=initial, where=where)\n\u001b[0m\u001b[1;32m   2832\u001b[0m \u001b[0;34m\u001b[0m\u001b[0m\n\u001b[1;32m   2833\u001b[0m \u001b[0;34m\u001b[0m\u001b[0m\n",
      "\u001b[0;32m~/miniconda3/envs/python3/lib/python3.7/site-packages/numpy/core/fromnumeric.py\u001b[0m in \u001b[0;36m_wrapreduction\u001b[0;34m(obj, ufunc, method, axis, dtype, out, **kwargs)\u001b[0m\n\u001b[1;32m     85\u001b[0m                 \u001b[0;32mreturn\u001b[0m \u001b[0mreduction\u001b[0m\u001b[0;34m(\u001b[0m\u001b[0maxis\u001b[0m\u001b[0;34m=\u001b[0m\u001b[0maxis\u001b[0m\u001b[0;34m,\u001b[0m \u001b[0mout\u001b[0m\u001b[0;34m=\u001b[0m\u001b[0mout\u001b[0m\u001b[0;34m,\u001b[0m \u001b[0;34m**\u001b[0m\u001b[0mpasskwargs\u001b[0m\u001b[0;34m)\u001b[0m\u001b[0;34m\u001b[0m\u001b[0;34m\u001b[0m\u001b[0m\n\u001b[1;32m     86\u001b[0m \u001b[0;34m\u001b[0m\u001b[0m\n\u001b[0;32m---> 87\u001b[0;31m     \u001b[0;32mreturn\u001b[0m \u001b[0mufunc\u001b[0m\u001b[0;34m.\u001b[0m\u001b[0mreduce\u001b[0m\u001b[0;34m(\u001b[0m\u001b[0mobj\u001b[0m\u001b[0;34m,\u001b[0m \u001b[0maxis\u001b[0m\u001b[0;34m,\u001b[0m \u001b[0mdtype\u001b[0m\u001b[0;34m,\u001b[0m \u001b[0mout\u001b[0m\u001b[0;34m,\u001b[0m \u001b[0;34m**\u001b[0m\u001b[0mpasskwargs\u001b[0m\u001b[0;34m)\u001b[0m\u001b[0;34m\u001b[0m\u001b[0;34m\u001b[0m\u001b[0m\n\u001b[0m\u001b[1;32m     88\u001b[0m \u001b[0;34m\u001b[0m\u001b[0m\n\u001b[1;32m     89\u001b[0m \u001b[0;34m\u001b[0m\u001b[0m\n",
      "\u001b[0;31mValueError\u001b[0m: zero-size array to reduction operation minimum which has no identity"
     ]
    },
    {
     "data": {
      "image/png": "[encoded data removed]",
      "text/plain": [
       "<Figure size 576x432 with 1 Axes>"
      ]
     },
     "metadata": {
      "needs_background": "light"
     },
     "output_type": "display_data"
    }
   ],
   "source": [
    "SP_colors = ['violet', 'brown']\n",
    "use_sin_glat = 1\n",
    "#plotting.setup_figure_pars()\n",
    "#print(pyplot.rcParams['figure.subplot.left'])\n",
    "#pyplot.rcParams['figure.subplot.bottom'] = 0.15\n",
    "unass_lat_tot = np.histogram(sin_glat[unas_mask], bins=sin_bins_unif)[0]\n",
    "for pop in ['AGN', 'PSR']:\n",
    "    ass_lat = np.histogram(sin_glat[masks[pop]], bins=sin_bins_unif)[0]\n",
    "    unass_lat = {}\n",
    "    if add_os:\n",
    "        unass_lat_os = {}\n",
    "    unass_lat_av = np.zeros(nbins)\n",
    "    for alg in algs0:\n",
    "        if use_sin_glat:\n",
    "            unass_lat[alg] = np.histogram(sin_glat[unas_mask], bins=sin_bins_unif, \n",
    "                                              weights=cat_df['%s_%s' % (pop, alg)][unas_mask])[0]\n",
    "            #if add_os:\n",
    "            #    unass_lat_os[alg] = np.histogram(sin_glat_os, bins=sin_bins_unif, \n",
    "            #                                  weights=pcat_os['%s_%s' % (pop, alg)])[0]\n",
    "\n",
    "        else:\n",
    "            unass_lat[alg] = np.histogram(glat[unas_mask], bins=lat_bins_unif, \n",
    "                                              weights=cat_df['%s_%s' % (pop, alg)][unas_mask])[0]\n",
    "            \n",
    "        unass_lat_av += unass_lat[alg] / len(algs0)\n",
    "    \n",
    "    if cat == '3FGL':\n",
    "        for alg in algs0_SP:\n",
    "            if pop == 'PSR':\n",
    "                weights = pcat_SP['%s_P' % alg][unas_mask_SP]\n",
    "            elif pop == 'AGN':\n",
    "                weights = 1 - pcat_SP['%s_P' % alg][unas_mask_SP]\n",
    "            if use_sin_glat:\n",
    "                unass_lat_SP[alg] = np.histogram(sin_glat_SP[unas_mask_SP], bins=sin_bins_unif, \n",
    "                                              weights=weights)[0]\n",
    "            else:\n",
    "                unass_lat_SP[alg] = np.histogram(glat_SP[unas_mask_SP], bins=lat_bins_unif, \n",
    "                                              weights=weights)[0]\n",
    "                \n",
    "            \n",
    "    minvs, maxvs = min_max_vs(unass_lat)\n",
    "    if use_sin_glat:\n",
    "        xs = sin_bins_unif_c\n",
    "    else:\n",
    "        xs = lat_bins_unif_c\n",
    "    fig = pyplot.figure()\n",
    "    pyplot.plot(xs, ass_lat, label='Assoc')\n",
    "    pyplot.fill_between(xs, minvs, maxvs, color='green', alpha=0.5, label='Unassoc')\n",
    "    if add_os:\n",
    "        minvs, maxvs = min_max_vs(unass_lat_os)\n",
    "        pyplot.fill_between(xs, minvs, maxvs, color='darkred', alpha=0.5, label='Unassoc oversample')\n",
    "    if 0:\n",
    "        for alg in algs0:\n",
    "            pyplot.plot(xs, unass_lat[alg], ls='--', label=alg)\n",
    "    \n",
    "    pyplot.fill_between(xs, ass_lat + minvs, ass_lat + maxvs, color='gray', alpha=0.5, \n",
    "                        label='Assoc + Unassoc')\n",
    "    mean = np.mean(ass_lat + unass_lat_av) * np.ones(nbins)\n",
    "    pyplot.plot(xs, ass_lat + unass_lat_av, label='Assoc + Unassoc av.')\n",
    "    #pyplot.errorbar(xs, ass_lat + unass_lat_av, np.sqrt(mean), ls='', marker='s', label='Assoc + Unassoc av.')\n",
    "    pyplot.plot(xs, unass_lat_tot, ls='-.', color='r', label='Unassoc total')\n",
    "    \n",
    "\n",
    "    if pop == 'AGN':\n",
    "        pyplot.plot(xs, mean, ls=':', label='Mean')\n",
    "    if cat == '3FGL':\n",
    "        for i, alg in enumerate(algs0_SP):\n",
    "            pyplot.plot(xs, unass_lat_SP[alg], ls='--', c=SP_colors[i], \n",
    "                        label='%s (SP16)' % alg)\n",
    "\n",
    "\n",
    "    pyplot.title('%s %s' %(cat, pop))\n",
    "    pyplot.legend(ncol=2)\n",
    "    pyplot.grid()\n",
    "    if use_sin_glat:\n",
    "        pyplot.xlabel('abs(sin(GLAT))')\n",
    "        pyplot.xlim(0, 1)\n",
    "        #x_ticks = fig.axes[0].get_xticks()\n",
    "        #x_ticks_new = np.around(np.rad2deg(np.arcsin(x_ticks)))\n",
    "        #fig.axes[0].set_xticks(x_ticks_new)\n",
    "    else:\n",
    "        pyplot.xlabel('abs(GLAT)')\n",
    "        pyplot.xlim(0, 90)\n",
    "        \n",
    "    pyplot.ylabel('Number of sources')\n",
    "    if cat == '3FGL':\n",
    "        pyplot.ylim(0, 300)\n",
    "    elif cat == '4FGL':\n",
    "        pyplot.ylim(0, 400)\n",
    "\n",
    "    if save_plots:\n",
    "        fn = '%s/lat_profile_%s_%s%s.pdf' % (plots_folder, pop, cat, estr)\n",
    "        print('save figure to file: %s' % fn)\n",
    "        pyplot.savefig(fn)\n",
    "        if not add_os:\n",
    "            cmd = 'cp %s ../ML_3FGL_paper/plots' % fn\n",
    "            print(cmd)\n",
    "            os.system(cmd)\n"
   ]
  },
  {
   "cell_type": "code",
   "execution_count": 18,
   "metadata": {},
   "outputs": [
    {
     "name": "stdout",
     "output_type": "stream",
     "text": [
      "[-0.2  0.   0.2  0.4  0.6  0.8  1.   1.2] [-12.   0.  12.  24.  37.  53.  nan  nan]\n"
     ]
    },
    {
     "name": "stderr",
     "output_type": "stream",
     "text": [
      "/Users/Dmitry/miniconda3/envs/python3/lib/python3.7/site-packages/ipykernel_launcher.py:2: RuntimeWarning: invalid value encountered in arcsin\n",
      "  \n"
     ]
    }
   ],
   "source": [
    "x_ticks = fig.axes[0].get_xticks()\n",
    "x_ticks_new = np.around(np.rad2deg(np.arcsin(x_ticks)))\n",
    "print(x_ticks, x_ticks_new)"
   ]
  },
  {
   "cell_type": "code",
   "execution_count": 19,
   "metadata": {},
   "outputs": [
    {
     "name": "stdout",
     "output_type": "stream",
     "text": [
      "save figure to file: plots/Accuracies/lon_profile_AGN_4FGL.pdf\n",
      "cp plots/Accuracies/lon_profile_AGN_4FGL.pdf ../ML_3FGL_paper/plots\n",
      "save figure to file: plots/Accuracies/lon_profile_PSR_4FGL.pdf\n",
      "cp plots/Accuracies/lon_profile_PSR_4FGL.pdf ../ML_3FGL_paper/plots\n"
     ]
    },
    {
     "data": {
      "image/png": "[encoded data removed]",
      "text/plain": [
       "<Figure size 576x432 with 1 Axes>"
      ]
     },
     "metadata": {
      "needs_background": "light"
     },
     "output_type": "display_data"
    },
    {
     "data": {
      "image/png": "[encoded data removed]",
      "text/plain": [
       "<Figure size 576x432 with 1 Axes>"
      ]
     },
     "metadata": {
      "needs_background": "light"
     },
     "output_type": "display_data"
    }
   ],
   "source": [
    "nbins_lon = 30\n",
    "glon_bins = np.linspace(-180, 180, nbins_lon + 1)\n",
    "glon_bins_c = (glon_bins[1:] + glon_bins[:-1]) / 2.\n",
    "# make the range from -180 to 180\n",
    "glon = cat_df['GLON'] - 360. * (cat_df['GLON'] // 180.)\n",
    "\n",
    "unass_lon_tot = np.histogram(glon[unas_mask], bins=glon_bins)[0]\n",
    "for pop in ['AGN', 'PSR']:\n",
    "    ass_lon = np.histogram(glon[masks[pop]], bins=glon_bins)[0]\n",
    "    unass_lon = {}\n",
    "    unass_lon_SP = {}\n",
    "    unass_lon_av = np.zeros(nbins_lon)\n",
    "    for alg in algs0:\n",
    "        unass_lon[alg] = np.histogram(glon[unas_mask], bins=glon_bins, \n",
    "                                          weights=cat_df['%s_%s' % (pop, alg)][unas_mask])[0]\n",
    "        unass_lon_av += unass_lon[alg] / len(algs0)\n",
    "\n",
    "        \n",
    "    if cat == '3FGL':\n",
    "        for alg in algs0_SP:\n",
    "            if pop == 'PSR':\n",
    "                weights = pcat_SP['%s_P' % alg][unas_mask_SP]\n",
    "            elif pop == 'AGN':\n",
    "                weights = 1 - pcat_SP['%s_P' % alg][unas_mask_SP]\n",
    "            unass_lon_SP[alg] = np.histogram(glon_SP[unas_mask_SP], bins=glon_bins, \n",
    "                                              weights=weights)[0]\n",
    "\n",
    "    \n",
    "    minvs, maxvs = min_max_vs(unass_lon)\n",
    "    xs = glon_bins_c\n",
    "    pyplot.figure()\n",
    "    pyplot.plot(xs, ass_lon, label='Assoc')\n",
    "    pyplot.plot(xs, ass_lon + unass_lon_av, label='Assoc + Unassoc av.')\n",
    "    if pop == 'AGN':\n",
    "        mean = np.mean(ass_lon + unass_lon_av) * np.ones(nbins_lon)\n",
    "        pyplot.plot(xs, mean, ls=':', label='Mean')\n",
    "    pyplot.plot(xs, unass_lon_tot, ls='-.', color='r', label='Unassoc total')\n",
    "    pyplot.fill_between(xs, minvs, maxvs, color='green', alpha=0.5, label='Unassoc')\n",
    "    pyplot.fill_between(xs, ass_lon + minvs, ass_lon + maxvs, color='gray', alpha=0.5, \n",
    "                        label='Assoc + Unassoc')\n",
    "\n",
    "    if 0:\n",
    "        for alg in algs0:\n",
    "            pyplot.plot(xs, unass_lon[alg], ls='--', label=alg)\n",
    "    \n",
    "    \n",
    "    if cat == '3FGL':\n",
    "        for i, alg in enumerate(algs0_SP):\n",
    "            pyplot.plot(xs, unass_lon_SP[alg], ls='--', c=SP_colors[i], \n",
    "                        label='%s (SP16)' % alg)\n",
    "\n",
    "    pyplot.title('%s %s' % (cat, pop))\n",
    "    pyplot.legend(ncol=2)\n",
    "    pyplot.grid()\n",
    "    pyplot.xlabel('GLON (deg)')\n",
    "    pyplot.ylabel('Number of sources')\n",
    "    pyplot.xlim(180, -180)\n",
    "    if cat == '4FGL':\n",
    "        if pop == 'AGN':\n",
    "            pyplot.ylim(0, 250)\n",
    "        else:\n",
    "            pyplot.ylim(0, 160)\n",
    "    else:\n",
    "        if pop == 'AGN':\n",
    "            pyplot.ylim(0, 180)\n",
    "        else:\n",
    "            pyplot.ylim(0, 100)\n",
    "        \n",
    "            \n",
    "    if save_plots:\n",
    "        fn = '%s/lon_profile_%s_%s.pdf' % (plots_folder, pop, cat)\n",
    "        print('save figure to file: %s' % fn)\n",
    "        pyplot.savefig(fn)\n",
    "        cmd = 'cp %s ../ML_3FGL_paper/plots' % fn\n",
    "        print(cmd)\n",
    "        os.system(cmd)\n"
   ]
  },
  {
   "cell_type": "code",
   "execution_count": null,
   "metadata": {},
   "outputs": [],
   "source": []
  },
  {
   "cell_type": "code",
   "execution_count": null,
   "metadata": {},
   "outputs": [],
   "source": []
  },
  {
   "cell_type": "code",
   "execution_count": null,
   "metadata": {},
   "outputs": [],
   "source": [
    "nside = 64\n",
    "npix = hp.nside2npix(nside)\n"
   ]
  },
  {
   "cell_type": "code",
   "execution_count": null,
   "metadata": {},
   "outputs": [],
   "source": [
    "# calculate unass pixels\n",
    "def mask2pixels(mask):\n",
    "    phi = np.deg2rad(cat_df['GLON'][mask])\n",
    "    theta = np.pi/2 - np.deg2rad(cat_df['GLAT'][mask])\n",
    "    return list(hp.ang2pix(nside, theta, phi))\n",
    "\n",
    "pix_dict = {}\n",
    "for pop in ['AGN', 'PSR', 'UNAS']:\n",
    "    pix_dict[pop] = mask2pixels(masks[pop])\n"
   ]
  },
  {
   "cell_type": "code",
   "execution_count": null,
   "metadata": {},
   "outputs": [],
   "source": [
    "alg = 'NN'\n",
    "hpm_dict_ass = {}\n",
    "hpm_dict_unass = {}\n",
    "sigma = np.radians(10.)\n",
    "for pop in ['AGN', 'PSR']:\n",
    "    # associated sources\n",
    "    hpm_dict_ass[pop] = np.zeros(npix)\n",
    "    for i, ind in enumerate(pix_dict[pop]):\n",
    "        hpm_dict_ass[pop][ind] += 1\n",
    "    hpm_dict_ass[pop + '_sm'] = hp.smoothing(hpm_dict_ass[pop], sigma=sigma)\n",
    "        \n",
    "    # probabilities for unassociated sources\n",
    "    probs = cat_df['%s_%s' % (pop, alg)][masks['UNAS']]\n",
    "    hpm_dict_unass[pop] = np.zeros(npix)\n",
    "    for i, ind in enumerate(pix_dict['UNAS']):\n",
    "        hpm_dict_unass[pop][ind] += probs[i]\n",
    "    hpm_dict_unass[pop + '_sm'] = hp.smoothing(hpm_dict_unass[pop], sigma=sigma)"
   ]
  },
  {
   "cell_type": "code",
   "execution_count": null,
   "metadata": {},
   "outputs": [],
   "source": []
  },
  {
   "cell_type": "code",
   "execution_count": null,
   "metadata": {},
   "outputs": [],
   "source": [
    "for pop in ['AGN', 'PSR']:\n",
    "    hp.mollview(hpm_dict_ass[pop], title='%s assoc' % pop)"
   ]
  },
  {
   "cell_type": "code",
   "execution_count": null,
   "metadata": {},
   "outputs": [],
   "source": [
    "for pop in ['AGN', 'PSR']:\n",
    "    hp.mollview(hpm_dict_unass[pop], title='%s unassoc' % pop)"
   ]
  },
  {
   "cell_type": "code",
   "execution_count": null,
   "metadata": {},
   "outputs": [],
   "source": [
    "plot = plot_mollview # hp.mollview\n",
    "nfig = 1\n",
    "for pop in ['AGN', 'PSR']:\n",
    "    pyplot.figure(nfig)\n",
    "    plot(hpm_dict_ass[pop + '_sm'], title='%s assoc smooth' % pop, fig=nfig)\n",
    "    nfig += 1\n",
    "    pyplot.figure(nfig)\n",
    "    plot(hpm_dict_unass[pop + '_sm'], title='%s unassoc smooth' % pop, fig=nfig)\n",
    "    nfig += 1\n",
    "    fig = pyplot.figure(nfig)\n",
    "    hmap = hpm_dict_unass[pop + '_sm'] + hpm_dict_ass[pop + '_sm']\n",
    "    plot(hmap, title='%s assoc + unassoc smooth' % pop, fig=nfig)\n",
    "    fig.savefig('plots/maps/%s_assoc_unassoc.pdf' % pop)\n",
    "    nfig += 1"
   ]
  },
  {
   "cell_type": "code",
   "execution_count": null,
   "metadata": {},
   "outputs": [],
   "source": []
  },
  {
   "cell_type": "code",
   "execution_count": null,
   "metadata": {},
   "outputs": [],
   "source": [
    "# back of the envelop check of flux from pulsars for GC excess\n",
    "Om = 4. * np.pi / npix # pixel area\n",
    "erg2gev = 1.e3 / 1.6\n",
    "sigma = np.radians(2.)\n",
    "vmin = 0\n",
    "vmax = 1.e-5\n",
    "if cat == '3FGL':\n",
    "    fn_cat = '../PS_comparison/gll_psc_v16.fit' # the last release of 3FGL\n",
    "else:\n",
    "    fn_cat = '../PS_comparison/gll_psc_v22.fit' # 4FGL release from 27 May 2020\n",
    "fn_pcat = 'data/%s_prob_catalog.csv' % cat\n",
    "hdu_cat = fits.open(fn_cat)\n",
    "eflux = 'Energy_Flux100'"
   ]
  },
  {
   "cell_type": "code",
   "execution_count": null,
   "metadata": {},
   "outputs": [],
   "source": [
    "# exposure map\n",
    "fn = 'data/expcube_P8_P302_Source_z100_w009_w478_P8R2_SOURCE_V6_healpix_o7_24bins.fits'\n",
    "exp = fits.open(fn)\n",
    "exp_data = np.array(exp[1].data.field('Spectra')).T"
   ]
  },
  {
   "cell_type": "code",
   "execution_count": null,
   "metadata": {},
   "outputs": [],
   "source": [
    "exp_plot = hp.ud_grade(exp_data[10], nside_out=64)\n",
    "#plot(exp_plot, title='Exposure')\n",
    "pop = 'AGN'\n",
    "plot(hmap, title='%s assoc + unassoc smooth' % pop)\n",
    "hmap = hpm_dict_unass[pop + '_sm'] + hpm_dict_ass[pop + '_sm']\n",
    "plot(hmap / exp_plot, title='%s assoc + unassoc smooth / exp' % pop)\n"
   ]
  },
  {
   "cell_type": "code",
   "execution_count": null,
   "metadata": {},
   "outputs": [],
   "source": []
  },
  {
   "cell_type": "code",
   "execution_count": null,
   "metadata": {},
   "outputs": [],
   "source": [
    "fgl_df0 = aux.hdu2df(hdu_cat[1], index_name='Source_Name') # transform hdu table to dataframe\n",
    "fgl_df = fgl_df0.loc[cat_df.index] # remove sources with missing values"
   ]
  },
  {
   "cell_type": "code",
   "execution_count": null,
   "metadata": {},
   "outputs": [],
   "source": [
    "def make_hmap(npix, df, prob_df, mask, name, pop='PSR', method='assoc'):\n",
    "    masked_df = df[mask]\n",
    "    if method == 'assoc':\n",
    "        weights = pd.DataFrame(data=np.ones(len(masked_df)), index=masked_df.index)\n",
    "    else:\n",
    "        weights=cat_df['%s_%s' % (pop, method)][mask]\n",
    "    phi = np.deg2rad(df['GLON'][mask])\n",
    "    theta = np.pi/2 - np.deg2rad(df['GLAT'][mask])\n",
    "    pixels = hp.ang2pix(nside, theta, phi)\n",
    "    hmap = np.zeros(npix)\n",
    "    for ind in masked_df.index:\n",
    "        hmap[pixels.loc[ind]] += fgl_df[name][ind] * weights.loc[ind]\n",
    "    return hmap"
   ]
  },
  {
   "cell_type": "code",
   "execution_count": null,
   "metadata": {},
   "outputs": [],
   "source": [
    "# create a Eflux map for associated sources\n",
    "name = 'Energy_Flux100'\n",
    "hmap_eflux_ass_dict = {}\n",
    "\n",
    "for pop in ['PSR', 'AGN']:\n",
    "    mask = masks[pop]\n",
    "    hmap = make_hmap(npix, fgl_df, cat_df, mask, name, pop=pop, method='assoc') * erg2gev / Om\n",
    "    hmap_eflux_ass_dict[pop] = hmap\n",
    "    hmap_eflux_ass_dict[pop + '_sm'] = hp.smoothing(hmap, sigma=sigma)"
   ]
  },
  {
   "cell_type": "code",
   "execution_count": null,
   "metadata": {},
   "outputs": [],
   "source": [
    "for nfig, pop in enumerate(['PSR', 'AGN']):\n",
    "    fig = pyplot.figure(nfig)\n",
    "    plot_mollview(hmap_eflux_ass_dict[pop + '_sm'], title='%s Eflux assoc' % pop, fig=nfig,\n",
    "                  vmin=vmin, vmax=vmax)"
   ]
  },
  {
   "cell_type": "code",
   "execution_count": null,
   "metadata": {},
   "outputs": [],
   "source": [
    "# create a Eflux map for unassociated sources\n",
    "name = 'Energy_Flux100'\n",
    "hmap_eflux_unass_dict = {}\n",
    "\n",
    "for pop in ['PSR', 'AGN']:\n",
    "    mask = masks['UNAS']\n",
    "    hmap = make_hmap(npix, fgl_df, cat_df, mask, name, pop=pop, method='NN') * erg2gev / Om\n",
    "    hmap_eflux_unass_dict[pop] = hmap\n",
    "    hmap_eflux_unass_dict[pop + '_sm'] = hp.smoothing(hmap, sigma=sigma)"
   ]
  },
  {
   "cell_type": "code",
   "execution_count": null,
   "metadata": {},
   "outputs": [],
   "source": [
    "for nfig, pop in enumerate(['PSR', 'AGN']):\n",
    "    fig = pyplot.figure(nfig)\n",
    "    plot_mollview(hmap_eflux_unass_dict[pop + '_sm'], title='%s Eflux unassoc' % pop, fig=nfig,\n",
    "                  vmin=vmin, vmax=vmax)"
   ]
  },
  {
   "cell_type": "code",
   "execution_count": null,
   "metadata": {},
   "outputs": [],
   "source": [
    "for nfig, pop in enumerate(['PSR', 'AGN']):\n",
    "    fig = pyplot.figure(nfig)\n",
    "    hmap = hmap_eflux_ass_dict[pop + '_sm'] + hmap_eflux_unass_dict[pop + '_sm']\n",
    "    plot_mollview(hmap, title='%s Eflux assoc + unassoc' % pop, fig=nfig, \n",
    "                  vmin=vmin, vmax=vmax)"
   ]
  },
  {
   "cell_type": "code",
   "execution_count": null,
   "metadata": {},
   "outputs": [],
   "source": []
  },
  {
   "cell_type": "code",
   "execution_count": null,
   "metadata": {},
   "outputs": [],
   "source": []
  },
  {
   "cell_type": "code",
   "execution_count": null,
   "metadata": {},
   "outputs": [],
   "source": [
    "nL = 9\n",
    "dL = 3.\n",
    "Lbins = np.linspace(-nL * dL / 2., nL * dL / 2., nL + 1)\n",
    "Lc = (Lbins[1:] + Lbins[:-1]) / 2\n",
    "nB = 21\n",
    "dB = 3.\n",
    "Bbins = np.linspace(-nB * dB / 2., nB * dB / 2., nB + 1)\n",
    "Bc = (Bbins[1:] + Bbins[:-1]) / 2"
   ]
  },
  {
   "cell_type": "code",
   "execution_count": null,
   "metadata": {},
   "outputs": [],
   "source": [
    "inds_dict = hlib.lb_profiles_hinds_dict(nside, Bbins, Lbins, mask=None)"
   ]
  },
  {
   "cell_type": "code",
   "execution_count": null,
   "metadata": {},
   "outputs": [],
   "source": [
    "fpix = hmap_eflux_unass_dict['PSR']\n",
    "profiles = hlib.fpix_lb_profiles(fpix, inds_dict, nB, nL, std=0)"
   ]
  },
  {
   "cell_type": "code",
   "execution_count": null,
   "metadata": {},
   "outputs": [],
   "source": [
    "# latitude profiles\n",
    "fig = pyplot.figure()\n",
    "for i in range(nL):\n",
    "    ys = profiles[:, i]\n",
    "    pyplot.plot(Bc, ys, label='L = %i' % Lc[i])\n",
    "pyplot.legend()\n",
    "fig.axes[0].ticklabel_format(axis='both', style='sci', scilimits=(-2,2))\n",
    "pyplot.grid()"
   ]
  },
  {
   "cell_type": "code",
   "execution_count": null,
   "metadata": {},
   "outputs": [],
   "source": []
  },
  {
   "cell_type": "code",
   "execution_count": null,
   "metadata": {},
   "outputs": [],
   "source": [
    "# longitude profiles\n",
    "fig = pyplot.figure()\n",
    "for i in range(8, 13):\n",
    "    ys = profiles[i]\n",
    "    pyplot.plot(Lc, ys, label='B = %i' % Bc[i])\n",
    "fig.axes[0].ticklabel_format(axis='both', style='sci', scilimits=(-2,2))\n",
    "pyplot.legend()\n",
    "pyplot.grid()"
   ]
  },
  {
   "cell_type": "code",
   "execution_count": null,
   "metadata": {},
   "outputs": [],
   "source": [
    "thres = 0.5\n",
    "ang = 20\n",
    "bl_mask = (cat_df['GLON'] < ang) | (cat_df['GLON'] > 360 - ang)\n",
    "print(np.sum(bl_mask))\n",
    "bl_mask &= (cat_df['GLAT'] < ang) & (cat_df['GLAT'] > - ang)\n",
    "print(np.sum(bl_mask))\n",
    "bl_mask &= masks['UNAS']\n",
    "print('Number of unassociated sources: %i' % np.sum(bl_mask))\n",
    "bl_mask_thres = bl_mask & (cat_df['PSR_NN'] > thres)\n",
    "print('%i sources above threshold %.1f' % (np.sum(bl_mask_thres), thres))\n",
    "print('Sum of probabilities: %.1f' % np.sum(cat_df['PSR_NN'][bl_mask]))"
   ]
  },
  {
   "cell_type": "code",
   "execution_count": null,
   "metadata": {},
   "outputs": [],
   "source": [
    "min_psr_eflux = np.min(fgl_df[eflux][bl_mask])"
   ]
  },
  {
   "cell_type": "code",
   "execution_count": null,
   "metadata": {},
   "outputs": [],
   "source": [
    "kpc2sm = 3.e21 # kpc in cm\n",
    "def eflux2elum(eflux, dist):\n",
    "    dist_cm = dist * kpc2sm\n",
    "    return 4. * np.pi * eflux * dist_cm**2"
   ]
  },
  {
   "cell_type": "code",
   "execution_count": null,
   "metadata": {},
   "outputs": [],
   "source": [
    "Elums = eflux2elum(fgl_df[eflux][bl_mask], 8.5)"
   ]
  },
  {
   "cell_type": "code",
   "execution_count": null,
   "metadata": {},
   "outputs": [],
   "source": [
    "pyplot.hist(np.log10(Elums), bins=20)"
   ]
  },
  {
   "cell_type": "code",
   "execution_count": null,
   "metadata": {},
   "outputs": [],
   "source": []
  },
  {
   "cell_type": "code",
   "execution_count": null,
   "metadata": {},
   "outputs": [],
   "source": [
    "pcat_SP"
   ]
  },
  {
   "cell_type": "code",
   "execution_count": null,
   "metadata": {},
   "outputs": [],
   "source": [
    "vmin = -15.\n",
    "vmax = 0.\n",
    "for alg in ['RF', 'LR']:\n",
    "    for pop in ['UNAS', 'AGN & PSR']:\n",
    "        pyplot.figure()\n",
    "        print(pop)\n",
    "        vals_SP = 2 * np.log(pcat_SP['%s_P' % alg][masks[pop]])\n",
    "        vals_we = 2 * np.log(cat_df['PSR_%s' % alg][masks[pop]])\n",
    "        mask = (vals_SP < vmax) & (vals_SP > vmin) & (vals_we < vmax) & (vals_we > vmin)\n",
    "        print(sum(mask), len(mask))\n",
    "        print('SP:', np.sum(pcat_SP['%s_P' % alg][masks[pop] & mask]))\n",
    "        print('we:', np.sum(cat_df['PSR_%s' % alg][masks[pop] & mask]))\n",
    "        hst = pyplot.hist(vals_SP[mask], bins=np.linspace(vmin, vmax, 51), alpha = 0.5, \n",
    "                          label=pop + ' SP')\n",
    "        hst = pyplot.hist(vals_we[mask], bins=np.linspace(vmin, vmax, 51), alpha = 0.5, \n",
    "                          label=pop + ' we')\n",
    "        pyplot.legend()\n",
    "        pyplot.title(alg + ' PSR')"
   ]
  },
  {
   "cell_type": "code",
   "execution_count": null,
   "metadata": {},
   "outputs": [],
   "source": [
    "masks.keys()"
   ]
  },
  {
   "cell_type": "code",
   "execution_count": null,
   "metadata": {},
   "outputs": [],
   "source": []
  }
 ],
 "metadata": {
  "kernelspec": {
   "display_name": "Python 3",
   "language": "python",
   "name": "python3"
  },
  "language_info": {
   "codemirror_mode": {
    "name": "ipython",
    "version": 3
   },
   "file_extension": ".py",
   "mimetype": "text/x-python",
   "name": "python",
   "nbconvert_exporter": "python",
   "pygments_lexer": "ipython3",
   "version": "3.7.5"
  }
 },
 "nbformat": 4,
 "nbformat_minor": 2
}
