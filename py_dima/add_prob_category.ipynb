{
 "cells": [
  {
   "cell_type": "code",
   "execution_count": 1,
   "metadata": {},
   "outputs": [],
   "source": [
    "import numpy as np\n",
    "import pandas as pd\n",
    "import os"
   ]
  },
  {
   "cell_type": "code",
   "execution_count": 68,
   "metadata": {},
   "outputs": [],
   "source": [
    "def get_classes(arr):\n",
    "    cls = np.floor(arr + 0.5)\n",
    "    cls = np.sum(cls, axis=0)\n",
    "    res = np.array([\"MIXED\"]*len(cls))\n",
    "    nalgs = arr.shape[0]\n",
    "    res[cls == nalgs] = 'AGN'\n",
    "    res[cls == 0] = 'PSR'\n",
    "    return res"
   ]
  },
  {
   "cell_type": "code",
   "execution_count": 139,
   "metadata": {},
   "outputs": [],
   "source": [
    "folder = '../ML_3FGL_paper/SOM'\n",
    "#folder = '../ML_3FGL_paper_extra/data/python files/catas'\n",
    "\n",
    "cat = '4FGL'\n",
    "if cat == '4FGL':\n",
    "    #cat_name0 = '4FGL'\n",
    "    cat_name0 = '4FGL-DR2'\n",
    "else:\n",
    "    cat_name0 = cat\n",
    "\n",
    "#cat_name = '%s_catalog_newfeats' % cat_name0\n",
    "cat_name = '%s_prob_catalog' % cat_name0\n",
    "#cat_name = '4fgl_all_assoc_catalog_unweighted'\n",
    "\n",
    "category_name_PC = 'Category_Prob'\n",
    "#category_name_fgl = 'Category_%s' % cat\n",
    "category_name_fgl = 'Category_%s' % cat\n",
    "cat_fn = '%s/%s.csv' % (folder, cat_name)\n",
    "#cat_PC_fn = '%s/%s_PC.csv' % (folder, cat_name)\n",
    "pcat = pd.read_csv(cat_fn, index_col=0)"
   ]
  },
  {
   "cell_type": "code",
   "execution_count": 140,
   "metadata": {},
   "outputs": [],
   "source": [
    "if 0:\n",
    "    # drop columns if needed\n",
    "    ou_cats = ['Category_Prob_O', 'Category_Prob_U']\n",
    "    pcat.drop(columns=ou_cats, inplace=True)\n",
    "if 0:\n",
    "    for clm in ou_cats:\n",
    "        if com in pcat.columns:\n",
    "            pcat.drop(columns=['Category_Prob_O'], inplace=True)"
   ]
  },
  {
   "cell_type": "code",
   "execution_count": 141,
   "metadata": {},
   "outputs": [
    {
     "name": "stdout",
     "output_type": "stream",
     "text": [
      "nPSR 4FGL_DR2 = 271\n"
     ]
    }
   ],
   "source": [
    "# number of pulsars in the catalogs (abstract) - check also sources with missing values\n",
    "print('nPSR %s = %i' % (cat_name0, np.sum(pcat['Category_%s' % cat] == 'PSR')))"
   ]
  },
  {
   "cell_type": "code",
   "execution_count": 92,
   "metadata": {},
   "outputs": [
    {
     "name": "stdout",
     "output_type": "stream",
     "text": [
      "Index(['GLON', 'GLAT', 'ln(Energy_Flux100)', 'ln(Unc_Energy_Flux100)',\n",
      "       'ln(Pivot_Energy)', 'LP_Index', 'Unc_LP_Index', 'LP_beta', 'LP_SigCurv',\n",
      "       'ln(Variability_Index)', 'HR12', 'HR23', 'HR34', 'HR45', 'HR56', 'HR67',\n",
      "       'Category_4FGL', 'Class_4FGL', 'ASSOC_FGL', 'ASSOC_FHL', 'ASSOC1',\n",
      "       'AGN_BDT', 'AGN_BDT_STD', 'PSR_BDT', 'PSR_BDT_STD', 'AGN_NN',\n",
      "       'AGN_NN_STD', 'PSR_NN', 'PSR_NN_STD', 'AGN_RF', 'AGN_RF_STD', 'PSR_RF',\n",
      "       'PSR_RF_STD', 'AGN_LR', 'AGN_LR_STD', 'PSR_LR', 'PSR_LR_STD',\n",
      "       'AGN_BDT_O', 'AGN_BDT_STD_O', 'PSR_BDT_O', 'PSR_BDT_STD_O', 'AGN_NN_O',\n",
      "       'AGN_NN_STD_O', 'PSR_NN_O', 'PSR_NN_STD_O', 'AGN_RF_O', 'AGN_RF_STD_O',\n",
      "       'PSR_RF_O', 'PSR_RF_STD_O', 'AGN_LR_O', 'AGN_LR_STD_O', 'PSR_LR_O',\n",
      "       'PSR_LR_STD_O', 'Flags'],\n",
      "      dtype='object')\n",
      "Index(['4FGL J0001.2+4741', '4FGL J0001.2-0747', '4FGL J0001.5+2113',\n",
      "       '4FGL J0001.6-4156', '4FGL J0002.1-6728', '4FGL J0002.3-0815',\n",
      "       '4FGL J0002.4-5156', '4FGL J0003.1-5248', '4FGL J0003.2+2207',\n",
      "       '4FGL J0003.3-1928',\n",
      "       ...\n",
      "       '4FGL J2346.2-4322', '4FGL J2347.0-5720', '4FGL J2347.9-5106',\n",
      "       '4FGL J2350.5-3930', '4FGL J2351.4-2818', '4FGL J2353.2+3135',\n",
      "       '4FGL J2355.2-5247', '4FGL J2355.5-6614', '4FGL J2357.8+6839',\n",
      "       '4FGL J2359.3+1444'],\n",
      "      dtype='object', name='Source_Name_4FGL', length=5774)\n",
      "5774\n"
     ]
    }
   ],
   "source": [
    "print(pcat.columns)\n",
    "print(pcat.index)\n",
    "print(len(pcat.index))"
   ]
  },
  {
   "cell_type": "code",
   "execution_count": 93,
   "metadata": {},
   "outputs": [],
   "source": [
    "agn_probs = np.array([pcat[col] for col in pcat.columns if col.find('AGN') > -1 and col.find('_STD') == -1])\n",
    "agn_probs_u = np.array([pcat[col] for col in pcat.columns if col.find('AGN') > -1 and col.find('_O') == -1 and col.find('_STD') == -1])\n",
    "agn_probs_o = np.array([pcat[col] for col in pcat.columns if col.find('AGN') > -1 and col.find('_O') > -1 and col.find('_STD') == -1])"
   ]
  },
  {
   "cell_type": "code",
   "execution_count": null,
   "metadata": {},
   "outputs": [],
   "source": []
  },
  {
   "cell_type": "code",
   "execution_count": 94,
   "metadata": {},
   "outputs": [
    {
     "data": {
      "text/plain": [
       "((8, 5774), (4, 5774), (4, 5774))"
      ]
     },
     "execution_count": 94,
     "metadata": {},
     "output_type": "execute_result"
    }
   ],
   "source": [
    "agn_probs.shape, agn_probs_u.shape, agn_probs_o.shape"
   ]
  },
  {
   "cell_type": "code",
   "execution_count": null,
   "metadata": {},
   "outputs": [],
   "source": []
  },
  {
   "cell_type": "code",
   "execution_count": 95,
   "metadata": {},
   "outputs": [],
   "source": [
    "pclasses = get_classes(agn_probs)\n",
    "pclasses_u = get_classes(agn_probs_u)\n",
    "pclasses_o = get_classes(agn_probs_o)\n",
    "diff_mask = pclasses_u != pclasses_o"
   ]
  },
  {
   "cell_type": "code",
   "execution_count": 96,
   "metadata": {},
   "outputs": [],
   "source": [
    "pcat[category_name_PC] = pclasses"
   ]
  },
  {
   "cell_type": "code",
   "execution_count": 97,
   "metadata": {},
   "outputs": [],
   "source": [
    "if 0:\n",
    "    # change the label of unas sources\n",
    "    unas_mask = pcat['Category_%s' % cat] == 'UNAS'\n",
    "    pcat['Category_%s' % cat][unas_mask] = 'UNAS'"
   ]
  },
  {
   "cell_type": "code",
   "execution_count": 112,
   "metadata": {},
   "outputs": [
    {
     "name": "stdout",
     "output_type": "stream",
     "text": [
      "1658\n"
     ]
    }
   ],
   "source": [
    "unas_mask = pcat['Category_%s' % cat] == 'UNAS'\n",
    "print(sum(unas_mask))"
   ]
  },
  {
   "cell_type": "code",
   "execution_count": 99,
   "metadata": {},
   "outputs": [],
   "source": [
    "# add missing columns\n",
    "if 0:\n",
    "    pcat['Category_%s' % cat] = 'UNAS'\n",
    "    pcat['CLASS_%s' % cat] = 'none'\n",
    "    pcat['ASSOC1'] = 'none'\n",
    "    pcat['Times_in_Testing'] = 0\n",
    "    "
   ]
  },
  {
   "cell_type": "code",
   "execution_count": 100,
   "metadata": {},
   "outputs": [
    {
     "data": {
      "text/plain": [
       "Index(['GLON', 'GLAT', 'ln(Energy_Flux100)', 'ln(Unc_Energy_Flux100)',\n",
       "       'ln(Pivot_Energy)', 'LP_Index', 'Unc_LP_Index', 'LP_beta', 'LP_SigCurv',\n",
       "       'ln(Variability_Index)', 'HR12', 'HR23', 'HR34', 'HR45', 'HR56', 'HR67',\n",
       "       'Category_4FGL', 'Class_4FGL', 'ASSOC_FGL', 'ASSOC_FHL', 'ASSOC1',\n",
       "       'AGN_BDT', 'AGN_BDT_STD', 'PSR_BDT', 'PSR_BDT_STD', 'AGN_NN',\n",
       "       'AGN_NN_STD', 'PSR_NN', 'PSR_NN_STD', 'AGN_RF', 'AGN_RF_STD', 'PSR_RF',\n",
       "       'PSR_RF_STD', 'AGN_LR', 'AGN_LR_STD', 'PSR_LR', 'PSR_LR_STD',\n",
       "       'AGN_BDT_O', 'AGN_BDT_STD_O', 'PSR_BDT_O', 'PSR_BDT_STD_O', 'AGN_NN_O',\n",
       "       'AGN_NN_STD_O', 'PSR_NN_O', 'PSR_NN_STD_O', 'AGN_RF_O', 'AGN_RF_STD_O',\n",
       "       'PSR_RF_O', 'PSR_RF_STD_O', 'AGN_LR_O', 'AGN_LR_STD_O', 'PSR_LR_O',\n",
       "       'PSR_LR_STD_O', 'Flags', 'Category_Prob'],\n",
       "      dtype='object')"
      ]
     },
     "execution_count": 100,
     "metadata": {},
     "output_type": "execute_result"
    }
   ],
   "source": [
    "pcat.columns"
   ]
  },
  {
   "cell_type": "code",
   "execution_count": 101,
   "metadata": {},
   "outputs": [
    {
     "name": "stdout",
     "output_type": "stream",
     "text": [
      "save to file:\n",
      "../ML_3FGL_paper_extra/data/python files/catas/4FGL_DR2_catalog_newfeats.csv\n",
      "cp ../ML_3FGL_paper_extra/data/python\\ files/catas/4FGL_DR2_catalog_newfeats.csv ../ML_3FGL_paper/SOM/4FGL_DR2_prob_catalog\n"
     ]
    }
   ],
   "source": [
    "if 1:\n",
    "    print('save to file:')\n",
    "    print(cat_fn)\n",
    "    pcat.to_csv(cat_fn, index=True, float_format='%.9g')\n",
    "    if 1:\n",
    "        cmd = 'cp %s ../ML_3FGL_paper/SOM/%s_prob_catalog' % (cat_fn.replace(' ', '\\ '), cat_name0)\n",
    "        print(cmd)\n",
    "        os.system(cmd)\n"
   ]
  },
  {
   "cell_type": "code",
   "execution_count": 102,
   "metadata": {},
   "outputs": [
    {
     "name": "stdout",
     "output_type": "stream",
     "text": [
      "                   Category_Prob_U Category_Prob_O\n",
      "Source_Name_4FGL                                  \n",
      "4FGL J0003.9-1149              AGN           MIXED\n",
      "4FGL J0008.0+4711              AGN           MIXED\n",
      "4FGL J0020.3+6919              AGN           MIXED\n",
      "4FGL J0129.0+6312              AGN             PSR\n",
      "4FGL J0135.0+5338              AGN             PSR\n",
      "...                            ...             ...\n",
      "4FGL J2233.3+6530c             AGN             PSR\n",
      "4FGL J2241.4-8327              AGN           MIXED\n",
      "4FGL J2304.0+5406e             AGN           MIXED\n",
      "4FGL J2317.8+6140c           MIXED             PSR\n",
      "4FGL J2342.4-4739              AGN           MIXED\n",
      "\n",
      "[871 rows x 2 columns]\n"
     ]
    }
   ],
   "source": [
    "pcat[category_name_PC + '_U'] = pclasses_u\n",
    "pcat[category_name_PC + '_O'] = pclasses_o\n",
    "print(pcat.loc[diff_mask][[category_name_PC + '_U', category_name_PC +'_O']])\n",
    "#print(pcat.loc[diff_mask][])"
   ]
  },
  {
   "cell_type": "code",
   "execution_count": 103,
   "metadata": {},
   "outputs": [],
   "source": [
    "category_name_PC = 'Category_Prob'\n",
    "#category_name_PC = 'Category_Prob_O'"
   ]
  },
  {
   "cell_type": "code",
   "execution_count": 104,
   "metadata": {},
   "outputs": [],
   "source": [
    "#unas_mask = pcat['Category_%s' % cat] == 'UNASOC'"
   ]
  },
  {
   "cell_type": "code",
   "execution_count": 105,
   "metadata": {},
   "outputs": [
    {
     "data": {
      "text/plain": [
       "Source_Name_4FGL\n",
       "4FGL J0001.2+4741     AGN\n",
       "4FGL J0001.2-0747     AGN\n",
       "4FGL J0001.5+2113     AGN\n",
       "4FGL J0001.6-4156     AGN\n",
       "4FGL J0002.1-6728     AGN\n",
       "                     ... \n",
       "4FGL J2353.2+3135    UNAS\n",
       "4FGL J2355.2-5247    UNAS\n",
       "4FGL J2355.5-6614    UNAS\n",
       "4FGL J2357.8+6839    UNAS\n",
       "4FGL J2359.3+1444    UNAS\n",
       "Name: Category_4FGL, Length: 5774, dtype: object"
      ]
     },
     "execution_count": 105,
     "metadata": {},
     "output_type": "execute_result"
    }
   ],
   "source": [
    "pcat['Category_%s' % cat]"
   ]
  },
  {
   "cell_type": "code",
   "execution_count": 113,
   "metadata": {},
   "outputs": [
    {
     "name": "stdout",
     "output_type": "stream",
     "text": [
      "1658\n"
     ]
    }
   ],
   "source": [
    "print(np.sum(unas_mask))"
   ]
  },
  {
   "cell_type": "code",
   "execution_count": null,
   "metadata": {},
   "outputs": [],
   "source": []
  },
  {
   "cell_type": "code",
   "execution_count": 114,
   "metadata": {},
   "outputs": [
    {
     "name": "stdout",
     "output_type": "stream",
     "text": [
      "nPSR = 162, nAGN = 872, nMIXED = 624\n",
      "Total = 1658\n"
     ]
    }
   ],
   "source": [
    "nPSR = np.sum((pcat[category_name_PC] == 'PSR') & unas_mask)\n",
    "nAGN = np.sum((pcat[category_name_PC] == 'AGN') & unas_mask)\n",
    "nMIX = np.sum((pcat[category_name_PC] == 'MIXED') & unas_mask)\n",
    "print('nPSR = %i, nAGN = %i, nMIXED = %i' % (nPSR, nAGN, nMIX))\n",
    "print('Total = %i' % (nPSR + nAGN + nMIX))"
   ]
  },
  {
   "cell_type": "code",
   "execution_count": 115,
   "metadata": {},
   "outputs": [
    {
     "data": {
      "text/plain": [
       "9"
      ]
     },
     "execution_count": 115,
     "metadata": {},
     "output_type": "execute_result"
    }
   ],
   "source": [
    "np.sum((pcat[category_name_PC] == 'AGN') & (pcat[category_name_fgl] == 'PSR'))"
   ]
  },
  {
   "cell_type": "code",
   "execution_count": 116,
   "metadata": {},
   "outputs": [
    {
     "data": {
      "text/plain": [
       "3341"
      ]
     },
     "execution_count": 116,
     "metadata": {},
     "output_type": "execute_result"
    }
   ],
   "source": [
    "np.sum((pcat[category_name_PC] == 'AGN') & (pcat[category_name_fgl] == 'AGN'))"
   ]
  },
  {
   "cell_type": "code",
   "execution_count": 117,
   "metadata": {},
   "outputs": [
    {
     "data": {
      "text/plain": [
       "11"
      ]
     },
     "execution_count": 117,
     "metadata": {},
     "output_type": "execute_result"
    }
   ],
   "source": [
    "np.sum((pcat[category_name_PC] == 'PSR') & (pcat[category_name_fgl] == 'AGN'))"
   ]
  },
  {
   "cell_type": "code",
   "execution_count": 118,
   "metadata": {},
   "outputs": [
    {
     "data": {
      "text/plain": [
       "190"
      ]
     },
     "execution_count": 118,
     "metadata": {},
     "output_type": "execute_result"
    }
   ],
   "source": [
    "np.sum((pcat[category_name_PC] == 'PSR') & (pcat[category_name_fgl] == 'PSR'))"
   ]
  },
  {
   "cell_type": "code",
   "execution_count": 119,
   "metadata": {},
   "outputs": [],
   "source": [
    "# parkes associations\n",
    "if cat == '3FGL':\n",
    "    fn = '../ML_3FGL_paper/SOM/PSR_Candidates_Parkes.csv'\n",
    "    prk = pd.read_csv(fn, index_col=0)\n",
    "    print(pcat.loc[prk.index][['Category_Prob', 'Category_Prob_O', 'Category_Prob_U']])"
   ]
  },
  {
   "cell_type": "code",
   "execution_count": null,
   "metadata": {},
   "outputs": [],
   "source": []
  },
  {
   "cell_type": "code",
   "execution_count": null,
   "metadata": {},
   "outputs": [],
   "source": []
  }
 ],
 "metadata": {
  "kernelspec": {
   "display_name": "Python 3",
   "language": "python",
   "name": "python3"
  },
  "language_info": {
   "codemirror_mode": {
    "name": "ipython",
    "version": 3
   },
   "file_extension": ".py",
   "mimetype": "text/x-python",
   "name": "python",
   "nbconvert_exporter": "python",
   "pygments_lexer": "ipython3",
   "version": "3.7.5"
  }
 },
 "nbformat": 4,
 "nbformat_minor": 2
}
