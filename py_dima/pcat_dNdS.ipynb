{
 "cells": [
  {
   "cell_type": "code",
   "execution_count": 1,
   "metadata": {},
   "outputs": [],
   "source": [
    "import numpy as np\n",
    "import astropy\n",
    "from astropy.io import fits\n",
    "from matplotlib import pyplot\n",
    "import pandas as pd\n",
    "import plotting as my_plot"
   ]
  },
  {
   "cell_type": "code",
   "execution_count": 2,
   "metadata": {},
   "outputs": [],
   "source": [
    "def h2cum(arr):\n",
    "    res = 1. * arr[::-1]\n",
    "    for i in range(1, len(arr)):\n",
    "        res[i] += res[i - 1]\n",
    "    return res[::-1]"
   ]
  },
  {
   "cell_type": "code",
   "execution_count": 3,
   "metadata": {},
   "outputs": [
    {
     "ename": "FileNotFoundError",
     "evalue": "[Errno 2] File ../ML_3FGL_paper/data/python files/catas/3FGL_assoc_catalog_unweighted.csv does not exist: '../ML_3FGL_paper/data/python files/catas/3FGL_assoc_catalog_unweighted.csv'",
     "output_type": "error",
     "traceback": [
      "\u001b[0;31m---------------------------------------------------------------------------\u001b[0m",
      "\u001b[0;31mFileNotFoundError\u001b[0m                         Traceback (most recent call last)",
      "\u001b[0;32m<ipython-input-3-244bc3da3934>\u001b[0m in \u001b[0;36m<module>\u001b[0;34m\u001b[0m\n\u001b[1;32m     42\u001b[0m \u001b[0mhdu4\u001b[0m \u001b[0;34m=\u001b[0m \u001b[0mfits\u001b[0m\u001b[0;34m.\u001b[0m\u001b[0mopen\u001b[0m\u001b[0;34m(\u001b[0m\u001b[0mfn4\u001b[0m\u001b[0;34m)\u001b[0m\u001b[0;34m\u001b[0m\u001b[0;34m\u001b[0m\u001b[0m\n\u001b[1;32m     43\u001b[0m \u001b[0;31m#pcat_3fgl_vs_4fgl = pd.read_csv(fn3pcat, index_col='Source_Name_3FGL')\u001b[0m\u001b[0;34m\u001b[0m\u001b[0;34m\u001b[0m\u001b[0;34m\u001b[0m\u001b[0m\n\u001b[0;32m---> 44\u001b[0;31m \u001b[0mpcat_3fgl_assoc\u001b[0m \u001b[0;34m=\u001b[0m \u001b[0mpd\u001b[0m\u001b[0;34m.\u001b[0m\u001b[0mread_csv\u001b[0m\u001b[0;34m(\u001b[0m\u001b[0mfn3fgl_assoc\u001b[0m\u001b[0;34m,\u001b[0m \u001b[0mindex_col\u001b[0m\u001b[0;34m=\u001b[0m\u001b[0;34m'Source_Name_3FGL'\u001b[0m\u001b[0;34m)\u001b[0m\u001b[0;34m\u001b[0m\u001b[0;34m\u001b[0m\u001b[0m\n\u001b[0m\u001b[1;32m     45\u001b[0m \u001b[0mpcat_3fgl_unassoc\u001b[0m \u001b[0;34m=\u001b[0m \u001b[0mpd\u001b[0m\u001b[0;34m.\u001b[0m\u001b[0mread_csv\u001b[0m\u001b[0;34m(\u001b[0m\u001b[0mfn3fgl_unassoc\u001b[0m\u001b[0;34m,\u001b[0m \u001b[0mindex_col\u001b[0m\u001b[0;34m=\u001b[0m\u001b[0;34m'Source_Name_3FGL'\u001b[0m\u001b[0;34m)\u001b[0m\u001b[0;34m\u001b[0m\u001b[0;34m\u001b[0m\u001b[0m\n\u001b[1;32m     46\u001b[0m \u001b[0mpcat_4fgl_assoc\u001b[0m \u001b[0;34m=\u001b[0m \u001b[0mpd\u001b[0m\u001b[0;34m.\u001b[0m\u001b[0mread_csv\u001b[0m\u001b[0;34m(\u001b[0m\u001b[0mfn4fgl_assoc\u001b[0m\u001b[0;34m,\u001b[0m \u001b[0mindex_col\u001b[0m\u001b[0;34m=\u001b[0m\u001b[0;34m'Source_Name_4FGL'\u001b[0m\u001b[0;34m)\u001b[0m\u001b[0;34m\u001b[0m\u001b[0;34m\u001b[0m\u001b[0m\n",
      "\u001b[0;32m~/miniconda3/envs/python3/lib/python3.7/site-packages/pandas/io/parsers.py\u001b[0m in \u001b[0;36mparser_f\u001b[0;34m(filepath_or_buffer, sep, delimiter, header, names, index_col, usecols, squeeze, prefix, mangle_dupe_cols, dtype, engine, converters, true_values, false_values, skipinitialspace, skiprows, skipfooter, nrows, na_values, keep_default_na, na_filter, verbose, skip_blank_lines, parse_dates, infer_datetime_format, keep_date_col, date_parser, dayfirst, cache_dates, iterator, chunksize, compression, thousands, decimal, lineterminator, quotechar, quoting, doublequote, escapechar, comment, encoding, dialect, error_bad_lines, warn_bad_lines, delim_whitespace, low_memory, memory_map, float_precision)\u001b[0m\n\u001b[1;32m    674\u001b[0m         )\n\u001b[1;32m    675\u001b[0m \u001b[0;34m\u001b[0m\u001b[0m\n\u001b[0;32m--> 676\u001b[0;31m         \u001b[0;32mreturn\u001b[0m \u001b[0m_read\u001b[0m\u001b[0;34m(\u001b[0m\u001b[0mfilepath_or_buffer\u001b[0m\u001b[0;34m,\u001b[0m \u001b[0mkwds\u001b[0m\u001b[0;34m)\u001b[0m\u001b[0;34m\u001b[0m\u001b[0;34m\u001b[0m\u001b[0m\n\u001b[0m\u001b[1;32m    677\u001b[0m \u001b[0;34m\u001b[0m\u001b[0m\n\u001b[1;32m    678\u001b[0m     \u001b[0mparser_f\u001b[0m\u001b[0;34m.\u001b[0m\u001b[0m__name__\u001b[0m \u001b[0;34m=\u001b[0m \u001b[0mname\u001b[0m\u001b[0;34m\u001b[0m\u001b[0;34m\u001b[0m\u001b[0m\n",
      "\u001b[0;32m~/miniconda3/envs/python3/lib/python3.7/site-packages/pandas/io/parsers.py\u001b[0m in \u001b[0;36m_read\u001b[0;34m(filepath_or_buffer, kwds)\u001b[0m\n\u001b[1;32m    446\u001b[0m \u001b[0;34m\u001b[0m\u001b[0m\n\u001b[1;32m    447\u001b[0m     \u001b[0;31m# Create the parser.\u001b[0m\u001b[0;34m\u001b[0m\u001b[0;34m\u001b[0m\u001b[0;34m\u001b[0m\u001b[0m\n\u001b[0;32m--> 448\u001b[0;31m     \u001b[0mparser\u001b[0m \u001b[0;34m=\u001b[0m \u001b[0mTextFileReader\u001b[0m\u001b[0;34m(\u001b[0m\u001b[0mfp_or_buf\u001b[0m\u001b[0;34m,\u001b[0m \u001b[0;34m**\u001b[0m\u001b[0mkwds\u001b[0m\u001b[0;34m)\u001b[0m\u001b[0;34m\u001b[0m\u001b[0;34m\u001b[0m\u001b[0m\n\u001b[0m\u001b[1;32m    449\u001b[0m \u001b[0;34m\u001b[0m\u001b[0m\n\u001b[1;32m    450\u001b[0m     \u001b[0;32mif\u001b[0m \u001b[0mchunksize\u001b[0m \u001b[0;32mor\u001b[0m \u001b[0miterator\u001b[0m\u001b[0;34m:\u001b[0m\u001b[0;34m\u001b[0m\u001b[0;34m\u001b[0m\u001b[0m\n",
      "\u001b[0;32m~/miniconda3/envs/python3/lib/python3.7/site-packages/pandas/io/parsers.py\u001b[0m in \u001b[0;36m__init__\u001b[0;34m(self, f, engine, **kwds)\u001b[0m\n\u001b[1;32m    878\u001b[0m             \u001b[0mself\u001b[0m\u001b[0;34m.\u001b[0m\u001b[0moptions\u001b[0m\u001b[0;34m[\u001b[0m\u001b[0;34m\"has_index_names\"\u001b[0m\u001b[0;34m]\u001b[0m \u001b[0;34m=\u001b[0m \u001b[0mkwds\u001b[0m\u001b[0;34m[\u001b[0m\u001b[0;34m\"has_index_names\"\u001b[0m\u001b[0;34m]\u001b[0m\u001b[0;34m\u001b[0m\u001b[0;34m\u001b[0m\u001b[0m\n\u001b[1;32m    879\u001b[0m \u001b[0;34m\u001b[0m\u001b[0m\n\u001b[0;32m--> 880\u001b[0;31m         \u001b[0mself\u001b[0m\u001b[0;34m.\u001b[0m\u001b[0m_make_engine\u001b[0m\u001b[0;34m(\u001b[0m\u001b[0mself\u001b[0m\u001b[0;34m.\u001b[0m\u001b[0mengine\u001b[0m\u001b[0;34m)\u001b[0m\u001b[0;34m\u001b[0m\u001b[0;34m\u001b[0m\u001b[0m\n\u001b[0m\u001b[1;32m    881\u001b[0m \u001b[0;34m\u001b[0m\u001b[0m\n\u001b[1;32m    882\u001b[0m     \u001b[0;32mdef\u001b[0m \u001b[0mclose\u001b[0m\u001b[0;34m(\u001b[0m\u001b[0mself\u001b[0m\u001b[0;34m)\u001b[0m\u001b[0;34m:\u001b[0m\u001b[0;34m\u001b[0m\u001b[0;34m\u001b[0m\u001b[0m\n",
      "\u001b[0;32m~/miniconda3/envs/python3/lib/python3.7/site-packages/pandas/io/parsers.py\u001b[0m in \u001b[0;36m_make_engine\u001b[0;34m(self, engine)\u001b[0m\n\u001b[1;32m   1112\u001b[0m     \u001b[0;32mdef\u001b[0m \u001b[0m_make_engine\u001b[0m\u001b[0;34m(\u001b[0m\u001b[0mself\u001b[0m\u001b[0;34m,\u001b[0m \u001b[0mengine\u001b[0m\u001b[0;34m=\u001b[0m\u001b[0;34m\"c\"\u001b[0m\u001b[0;34m)\u001b[0m\u001b[0;34m:\u001b[0m\u001b[0;34m\u001b[0m\u001b[0;34m\u001b[0m\u001b[0m\n\u001b[1;32m   1113\u001b[0m         \u001b[0;32mif\u001b[0m \u001b[0mengine\u001b[0m \u001b[0;34m==\u001b[0m \u001b[0;34m\"c\"\u001b[0m\u001b[0;34m:\u001b[0m\u001b[0;34m\u001b[0m\u001b[0;34m\u001b[0m\u001b[0m\n\u001b[0;32m-> 1114\u001b[0;31m             \u001b[0mself\u001b[0m\u001b[0;34m.\u001b[0m\u001b[0m_engine\u001b[0m \u001b[0;34m=\u001b[0m \u001b[0mCParserWrapper\u001b[0m\u001b[0;34m(\u001b[0m\u001b[0mself\u001b[0m\u001b[0;34m.\u001b[0m\u001b[0mf\u001b[0m\u001b[0;34m,\u001b[0m \u001b[0;34m**\u001b[0m\u001b[0mself\u001b[0m\u001b[0;34m.\u001b[0m\u001b[0moptions\u001b[0m\u001b[0;34m)\u001b[0m\u001b[0;34m\u001b[0m\u001b[0;34m\u001b[0m\u001b[0m\n\u001b[0m\u001b[1;32m   1115\u001b[0m         \u001b[0;32melse\u001b[0m\u001b[0;34m:\u001b[0m\u001b[0;34m\u001b[0m\u001b[0;34m\u001b[0m\u001b[0m\n\u001b[1;32m   1116\u001b[0m             \u001b[0;32mif\u001b[0m \u001b[0mengine\u001b[0m \u001b[0;34m==\u001b[0m \u001b[0;34m\"python\"\u001b[0m\u001b[0;34m:\u001b[0m\u001b[0;34m\u001b[0m\u001b[0;34m\u001b[0m\u001b[0m\n",
      "\u001b[0;32m~/miniconda3/envs/python3/lib/python3.7/site-packages/pandas/io/parsers.py\u001b[0m in \u001b[0;36m__init__\u001b[0;34m(self, src, **kwds)\u001b[0m\n\u001b[1;32m   1889\u001b[0m         \u001b[0mkwds\u001b[0m\u001b[0;34m[\u001b[0m\u001b[0;34m\"usecols\"\u001b[0m\u001b[0;34m]\u001b[0m \u001b[0;34m=\u001b[0m \u001b[0mself\u001b[0m\u001b[0;34m.\u001b[0m\u001b[0musecols\u001b[0m\u001b[0;34m\u001b[0m\u001b[0;34m\u001b[0m\u001b[0m\n\u001b[1;32m   1890\u001b[0m \u001b[0;34m\u001b[0m\u001b[0m\n\u001b[0;32m-> 1891\u001b[0;31m         \u001b[0mself\u001b[0m\u001b[0;34m.\u001b[0m\u001b[0m_reader\u001b[0m \u001b[0;34m=\u001b[0m \u001b[0mparsers\u001b[0m\u001b[0;34m.\u001b[0m\u001b[0mTextReader\u001b[0m\u001b[0;34m(\u001b[0m\u001b[0msrc\u001b[0m\u001b[0;34m,\u001b[0m \u001b[0;34m**\u001b[0m\u001b[0mkwds\u001b[0m\u001b[0;34m)\u001b[0m\u001b[0;34m\u001b[0m\u001b[0;34m\u001b[0m\u001b[0m\n\u001b[0m\u001b[1;32m   1892\u001b[0m         \u001b[0mself\u001b[0m\u001b[0;34m.\u001b[0m\u001b[0munnamed_cols\u001b[0m \u001b[0;34m=\u001b[0m \u001b[0mself\u001b[0m\u001b[0;34m.\u001b[0m\u001b[0m_reader\u001b[0m\u001b[0;34m.\u001b[0m\u001b[0munnamed_cols\u001b[0m\u001b[0;34m\u001b[0m\u001b[0;34m\u001b[0m\u001b[0m\n\u001b[1;32m   1893\u001b[0m \u001b[0;34m\u001b[0m\u001b[0m\n",
      "\u001b[0;32mpandas/_libs/parsers.pyx\u001b[0m in \u001b[0;36mpandas._libs.parsers.TextReader.__cinit__\u001b[0;34m()\u001b[0m\n",
      "\u001b[0;32mpandas/_libs/parsers.pyx\u001b[0m in \u001b[0;36mpandas._libs.parsers.TextReader._setup_parser_source\u001b[0;34m()\u001b[0m\n",
      "\u001b[0;31mFileNotFoundError\u001b[0m: [Errno 2] File ../ML_3FGL_paper/data/python files/catas/3FGL_assoc_catalog_unweighted.csv does not exist: '../ML_3FGL_paper/data/python files/catas/3FGL_assoc_catalog_unweighted.csv'"
     ]
    }
   ],
   "source": [
    "my_plot.setup_figure_pars()\n",
    "save_plots = 1\n",
    "plot_assoc_prob = 1\n",
    "weight_str = 'unweighted' # 'unweighted'\n",
    "alg0 = 'LR' # 'RF', 'BDT', 'LL', 'NN'\n",
    "algs = ['RF', 'BDT', 'LR', 'NN']\n",
    "\n",
    "prop_cycle = pyplot.rcParams['axes.prop_cycle']\n",
    "cs = prop_cycle.by_key()['color']\n",
    "\n",
    "\n",
    "\n",
    "high_lat = True\n",
    "#cat = '4FGL' # '3FGL', '4FGL'\n",
    "fn3 = '../PS_comparison/gll_psc_v16.fit' # the last release of 3FGL\n",
    "fn4 = '../PS_comparison/gll_psc_v22.fit' # 4FGL release from 27 May 2020\n",
    "fn4dr2 = '../PS_comparison/gll_psc_v24.fit' # 4FGL DR2\n",
    "fn3pcat = '../ML_3FGL_paper/data/3fgl_unassoc_vs_4fgl_assoc.csv'\n",
    "\n",
    "folder = '../ML_3FGL_paper/data/python files/catas'\n",
    "if 1:\n",
    "    fn3fgl_assoc = '%s/3FGL_assoc_catalog_%s.csv' % (folder, weight_str)\n",
    "    fn3fgl_unassoc = '%s/3FGL_unassoc_catalog_%s.csv' % (folder, weight_str)\n",
    "    fn4fgl_assoc = '%s/4FGL_assoc_catalog_%s.csv' % (folder, weight_str)\n",
    "    fn4fgl_unassoc = '%s/4FGL_unassoc_catalog_%s.csv' % (folder, weight_str)\n",
    "else:\n",
    "    fn3fgl_assoc = '%s/3fgl_all_assoc_catalog_%s.csv' % (folder, weight_str)\n",
    "    fn3fgl_unassoc = '%s/3fgl_all_unassoc_catalog_%s.csv' % (folder, weight_str)\n",
    "    fn4fgl_assoc = '%s/4fgl_all_assoc_catalog_%s.csv' % (folder, weight_str)\n",
    "    fn4fgl_unassoc = '%s/4fgl_all_unassoc_catalog_%s.csv' % (folder, weight_str)\n",
    "    \n",
    "pop = 'AGN' #'PSR', 'AGN'\n",
    "quantity = 'Flux1000'\n",
    "if plot_assoc_prob:\n",
    "    figfn = 'plots/logN_logS_%s_%s.pdf' % (pop, weight_str)\n",
    "    figfn_diff = 'plots/logN_logS_diff_%s_%s.pdf' % (pop, weight_str)\n",
    "else:\n",
    "    figfn = 'plots/logN_logS_%s.pdf' % (pop)\n",
    "    figfn_diff = 'plots/logN_logS_diff_%s.pdf' % (pop)\n",
    "    \n",
    "hdu3 = fits.open(fn3)\n",
    "hdu4 = fits.open(fn4)\n",
    "#pcat_3fgl_vs_4fgl = pd.read_csv(fn3pcat, index_col='Source_Name_3FGL')\n",
    "pcat_3fgl_assoc = pd.read_csv(fn3fgl_assoc, index_col='Source_Name_3FGL')\n",
    "pcat_3fgl_unassoc = pd.read_csv(fn3fgl_unassoc, index_col='Source_Name_3FGL')\n",
    "pcat_4fgl_assoc = pd.read_csv(fn4fgl_assoc, index_col='Source_Name_4FGL')\n",
    "pcat_4fgl_unassoc = pd.read_csv(fn4fgl_unassoc, index_col='Source_Name_4FGL')\n",
    "#pcat = np.loadtxt(fn3pcat, delimiter=',', dtype=str)\n",
    "\n",
    "#pcat_3fgl_unassoc = pcat_3fgl_unassoc\n",
    "#pcat_4fgl_unassoc = pcat_4fgl_unassoc\n",
    "\n",
    "index = np.array(hdu3[1].data.field('Source_Name'), dtype=str)\n",
    "data = {quantity:np.array(hdu3[1].data.field(quantity), dtype=float)}\n",
    "df_3fgl = pd.DataFrame(data=data, index=index)\n",
    "df_3fgl.index = [st.strip() for st in df_3fgl.index]\n",
    "index = hdu4[1].data.field('Source_Name')\n",
    "data = {quantity:np.array(hdu4[1].data.field(quantity), dtype=float)}\n",
    "df_4fgl = pd.DataFrame(index=index, data=data)\n",
    "df_4fgl.index = [st.strip() for st in df_4fgl.index]"
   ]
  },
  {
   "cell_type": "code",
   "execution_count": 4,
   "metadata": {},
   "outputs": [],
   "source": [
    "hdu = fits.open(fn4dr2)"
   ]
  },
  {
   "cell_type": "code",
   "execution_count": 15,
   "metadata": {},
   "outputs": [
    {
     "data": {
      "text/plain": [
       "235"
      ]
     },
     "execution_count": 15,
     "metadata": {},
     "output_type": "execute_result"
    }
   ],
   "source": [
    "np.sum(hdu[1].data.field('CLASS1') == 'PSR')"
   ]
  },
  {
   "cell_type": "code",
   "execution_count": null,
   "metadata": {},
   "outputs": [],
   "source": [
    "# flux or another value for associated and unassociated sources\n",
    "if quantity == 'index':\n",
    "    value_3fgl = hdu3[1].data.field('Spectral_Index')\n",
    "    value_4fgl = hdu4[1].data.field('PL_Index')\n",
    "elif quantity == 'Flux1000':\n",
    "    df_3fgl['value'] = np.log10(np.array(df_3fgl[quantity]))\n",
    "    df_4fgl['value'] = np.log10(np.array(df_4fgl[quantity]))\n",
    "    if 0:\n",
    "        index = pcat_3fgl_unassoc.index\n",
    "        value_pcat_3fgl = np.array(df_3fgl.loc[index, quantity])\n",
    "        value_pcat_3fgl = np.log10(value_pcat_3fgl)\n",
    "        index = pcat_4fgl_unassoc.index\n",
    "        value_pcat_4fgl = np.array(df_4fgl.loc[index, quantity])\n",
    "        value_pcat_4fgl = np.log10(value_pcat_4fgl)\n"
   ]
  },
  {
   "cell_type": "code",
   "execution_count": null,
   "metadata": {},
   "outputs": [],
   "source": [
    "psclass3 = np.array(list(hdu3[1].data.field('CLASS1')))\n",
    "print(np.sum(psclass3 == 'PSR') + np.sum(psclass3 == 'psr'))\n",
    "psclass4 = np.array(list(hdu4[1].data.field('CLASS1')))\n",
    "print(np.sum(psclass4 == 'PSR') + np.sum(psclass4 == 'psr'))"
   ]
  },
  {
   "cell_type": "code",
   "execution_count": null,
   "metadata": {},
   "outputs": [],
   "source": [
    "class_mask_3fgl_assoc = (pcat_3fgl_assoc['Category_3FGL'] == pop)\n",
    "source_names_3fgl = [name for name in pcat_3fgl_assoc.index if class_mask_3fgl_assoc[name]]\n",
    "# temporary hack:\n",
    "if 0:\n",
    "    labels = {}\n",
    "    labels['AGN'] = [\"agn\", \"bcu\", \"bll\", \"css\", \"fsrq\", \"nlsy1\", \"rdg\", \"sey\", \"ssrq\"]\n",
    "    labels['PSR'] = [\"PSR\", \"psr\",]\n",
    "    labels['other'] = [\"bin\", \"hmb\", \"nov\", \"PSR\", \"psr\", \"pwn\",  \"snr\", \"spp\", \"glc\", \"sfr\"]\n",
    "    psclass4 = list(hdu4[1].data.field('CLASS1'))\n",
    "\n",
    "    n4 = len(df_4fgl.index)\n",
    "    source_names_4fgl = [df_4fgl.index[i] for i in range(n4) if psclass4[i] in labels[pop]]\n",
    "else:\n",
    "    class_mask_4fgl_assoc = (pcat_4fgl_assoc['Category_4FGL'] == pop)\n",
    "    source_names_4fgl = [name for name in pcat_4fgl_assoc.index if class_mask_4fgl_assoc[name]]\n",
    "\n",
    "minv = np.min(df_3fgl.loc[source_names_3fgl, 'value'])\n",
    "maxv = np.max(df_3fgl.loc[source_names_3fgl, 'value'])\n",
    "bins = np.linspace(minv,maxv, 20)\n",
    "binsc = (bins[1:] + bins[:-1])/2\n",
    "print(bins)"
   ]
  },
  {
   "cell_type": "code",
   "execution_count": null,
   "metadata": {},
   "outputs": [],
   "source": [
    "\n",
    "# correction for other sources\n",
    "other_names_3fgl = [name for name in pcat_3fgl_assoc.index if \n",
    "                        pcat_3fgl_assoc.loc[name, 'Category_3FGL'] == 'OTHER']\n",
    "other_values_3fgl = df_3fgl.loc[other_names_3fgl, 'value']\n",
    "\n",
    "hist_all_assoc_3fgl = np.histogram(df_3fgl.loc[pcat_3fgl_assoc.index, 'value'], bins=bins)\n",
    "\n",
    "#hist_all_assoc_3fgl = np.histogram(df_3fgl.loc[pcat_3fgl_assoc.index, 'value'], bins=bins)\n",
    "hist_all_unassoc_3fgl = np.histogram(df_3fgl.loc[pcat_3fgl_unassoc.index, 'value'], bins=bins)\n",
    "other_3fgl_corr = {}\n",
    "other_3fgl_assoc_corr = {}\n",
    "for alg in algs:\n",
    "    label = '%s_%s' % (pop, alg)\n",
    "    probs = pcat_3fgl_assoc.loc[other_names_3fgl, label]\n",
    "    hist_other_3fgl = np.histogram(other_values_3fgl, bins=bins, weights=probs)\n",
    "    other_3fgl_corr[alg] = hist_other_3fgl[0]/(hist_all_assoc_3fgl[0] + 0.00001) * hist_all_unassoc_3fgl[0]\n",
    "    #other_3fgl_corr = 0.\n",
    "    other_3fgl_assoc_corr[alg] = hist_other_3fgl[0]\n",
    "\n",
    "# 4FGL\n",
    "other_names_4fgl = [name for name in pcat_4fgl_assoc.index if \n",
    "                        pcat_4fgl_assoc.loc[name, 'Category_4FGL'] == 'OTHER']\n",
    "other_values_4fgl = df_4fgl.loc[other_names_4fgl, 'value']\n",
    "\n",
    "hist_all_assoc_4fgl = np.histogram(df_4fgl.loc[pcat_4fgl_assoc.index, 'value'], bins=bins)\n",
    "hist_all_unassoc_4fgl = np.histogram(df_4fgl.loc[pcat_4fgl_unassoc.index, 'value'], bins=bins)\n",
    "other_4fgl_corr = {}\n",
    "other_4fgl_assoc_corr = {}\n",
    "for alg in algs:\n",
    "    label = '%s_%s' % (pop, alg)\n",
    "    probs = pcat_4fgl_assoc.loc[other_names_4fgl, label]\n",
    "    hist_other_4fgl = np.histogram(other_values_4fgl, bins=bins, weights=probs)\n",
    "    other_4fgl_corr[alg] = hist_other_4fgl[0]/(hist_all_assoc_4fgl[0] + 0.00001) * hist_all_unassoc_4fgl[0]\n",
    "    other_4fgl_assoc_corr[alg] = hist_other_4fgl[0]\n"
   ]
  },
  {
   "cell_type": "code",
   "execution_count": null,
   "metadata": {},
   "outputs": [],
   "source": []
  },
  {
   "cell_type": "code",
   "execution_count": null,
   "metadata": {},
   "outputs": [],
   "source": [
    "# probabilities and masks (for associated sources)\n",
    "unassoc_values_3fgl = df_3fgl.loc[pcat_3fgl_unassoc.index, 'value']\n",
    "assoc_values_3fgl = df_3fgl.loc[pcat_3fgl_assoc.index, 'value']\n",
    "unassoc_values_4fgl = df_4fgl.loc[pcat_4fgl_unassoc.index, 'value']\n",
    "assoc_values_4fgl = df_4fgl.loc[pcat_4fgl_assoc.index, 'value']\n",
    "hpcat_3fgl = {}\n",
    "hpcat_4fgl = {}\n",
    "hpcat_3fgl_assoc = {}\n",
    "hpcat_4fgl_assoc = {}\n",
    "prob_3fgl_unassoc = {}\n",
    "prob_3fgl_assoc = {}\n",
    "prob_4fgl_unassoc = {}\n",
    "prob_4fgl_assoc = {}\n",
    "for alg in algs:\n",
    "    label = '%s_%s' % (pop, alg)\n",
    "    prob_3fgl_unassoc[alg] = np.array(pcat_3fgl_unassoc[label]) # prob\n",
    "    prob_4fgl_unassoc[alg] = np.array(pcat_4fgl_unassoc[label]) # prob4\n",
    "    prob_3fgl_assoc[alg] = np.array(pcat_3fgl_assoc[label]) # prob\n",
    "    prob_4fgl_assoc[alg] = np.array(pcat_4fgl_assoc[label]) # prob4\n",
    "    hpcat_3fgl[alg] = np.histogram(unassoc_values_3fgl, bins=bins, \n",
    "                                   weights=prob_3fgl_unassoc[alg])[0]\n",
    "    hpcat_4fgl[alg] = np.histogram(unassoc_values_4fgl, bins=bins, \n",
    "                                   weights=prob_4fgl_unassoc[alg])[0]\n",
    "    hpcat_3fgl_assoc[alg] = np.histogram(assoc_values_3fgl, bins=bins, \n",
    "                                   weights=prob_3fgl_assoc[alg])[0]\n",
    "    hpcat_4fgl_assoc[alg] = np.histogram(assoc_values_4fgl, bins=bins, \n",
    "                                   weights=prob_4fgl_assoc[alg])[0]"
   ]
  },
  {
   "cell_type": "code",
   "execution_count": null,
   "metadata": {},
   "outputs": [],
   "source": []
  },
  {
   "cell_type": "code",
   "execution_count": null,
   "metadata": {},
   "outputs": [],
   "source": [
    "print(other_3fgl_corr['LR']/(hpcat_3fgl['LR'] + 0.0001))"
   ]
  },
  {
   "cell_type": "code",
   "execution_count": null,
   "metadata": {},
   "outputs": [],
   "source": [
    "print(hpcat_3fgl_assoc['LR'])\n"
   ]
  },
  {
   "cell_type": "code",
   "execution_count": null,
   "metadata": {},
   "outputs": [],
   "source": [
    "print(hpcat_3fgl['LR'])"
   ]
  },
  {
   "cell_type": "code",
   "execution_count": null,
   "metadata": {},
   "outputs": [],
   "source": [
    "if 1:\n",
    "    pyplot.figure()\n",
    "    h3 = pyplot.hist(df_3fgl.loc[source_names_3fgl, 'value'], \n",
    "                         bins=bins, color='b', alpha=0.3)\n",
    "    h4 = pyplot.hist(df_4fgl.loc[source_names_4fgl, 'value'], \n",
    "                         bins=bins, color='g', alpha=0.3)\n",
    "    hpcat_3fgl0 = pyplot.hist(unassoc_values_3fgl, bins=bins, color='r', \n",
    "                                alpha=0.3, weights=prob_3fgl_unassoc[alg0])\n",
    "    hpcat_4fgl0 = pyplot.hist(unassoc_values_4fgl, bins=bins, color='k', \n",
    "                                 alpha=0.3, weights=prob_4fgl_unassoc[alg0])"
   ]
  },
  {
   "cell_type": "code",
   "execution_count": null,
   "metadata": {},
   "outputs": [],
   "source": [
    "def min_max_vs(dct, corr={}):\n",
    "    vals = np.array([dct[key] - corr.get(key, 0.) for key in dct.keys()])\n",
    "    return np.min(vals, axis=0), np.max(vals, axis=0)"
   ]
  },
  {
   "cell_type": "code",
   "execution_count": null,
   "metadata": {},
   "outputs": [],
   "source": [
    "hpcat_3fgl0[0]/(h3[0] + 0.0000001)"
   ]
  },
  {
   "cell_type": "code",
   "execution_count": null,
   "metadata": {},
   "outputs": [],
   "source": [
    "if pop == 'AGN' or 1:\n",
    "    pyplot.rcParams['figure.subplot.left'] = 0.18\n",
    "    pyplot.rcParams['figure.subplot.right'] = 0.98\n",
    "elif pop == 'PSR':\n",
    "    pyplot.rcParams['figure.subplot.left'] = 0.15\n",
    "    pyplot.rcParams['figure.subplot.right'] = 0.95\n",
    "\n",
    "\n",
    "#plot = pyplot.semilogy \n",
    "plot = pyplot.plot\n",
    "    \n",
    "xs = binsc\n",
    "pyplot.figure()\n",
    "plot(xs, h2cum(h3[0]), c=cs[0], ls='-', label='3FGL')\n",
    "pcat_hist_3fgl = hpcat_3fgl[alg0] - other_3fgl_corr[alg0]\n",
    "pcat_hist_3fgl_assoc = hpcat_3fgl_assoc[alg0] - other_3fgl_assoc_corr[alg0]\n",
    "\n",
    "plot(xs, h2cum(h3[0] + pcat_hist_3fgl), c=cs[2], ls='--', label='3FGL + unassoc. prob.')\n",
    "if plot_assoc_prob:\n",
    "    plot(xs, h2cum(pcat_hist_3fgl_assoc), c=cs[4], ls='--', label='3FGL assoc. prob.')\n",
    "    minvs, maxvs = min_max_vs(hpcat_3fgl_assoc, corr=other_3fgl_assoc_corr)\n",
    "    pyplot.fill_between(xs, h2cum(minvs), h2cum(maxvs), color=cs[4], alpha=0.5)\n",
    "    \n",
    "if 0:\n",
    "    pcat_hist = hpcat_3fgl[alg0]\n",
    "    plot(xs, h2cum(h3[0] + pcat_hist), c=cs[5], ls=':', label='3FGL + unassoc. prob. (uncorr)')\n",
    "minvs, maxvs = min_max_vs(hpcat_3fgl, corr=other_3fgl_corr)\n",
    "pyplot.fill_between(xs, h2cum(h3[0] + minvs), h2cum(h3[0] + maxvs), color=cs[2], alpha=0.5)\n",
    "\n",
    "\n",
    "plot(xs, h2cum(h4[0]), c=cs[1], ls='-.', label='4FGL')\n",
    "pcat_hist_4fgl = hpcat_4fgl[alg0] - other_4fgl_corr[alg0]\n",
    "pcat_hist_4fgl_assoc = hpcat_4fgl_assoc[alg0] - other_4fgl_assoc_corr[alg0]\n",
    "\n",
    "plot(xs, h2cum(h4[0] + pcat_hist_4fgl), c=cs[3], ls=':', label='4FGL + unassoc. prob.')\n",
    "if plot_assoc_prob:\n",
    "    plot(xs, h2cum(pcat_hist_4fgl_assoc), c=cs[7], ls=':', label='4FGL assoc. prob.')\n",
    "    minvs, maxvs = min_max_vs(hpcat_4fgl_assoc, corr=other_4fgl_assoc_corr)\n",
    "    pyplot.fill_between(xs, h2cum(minvs), h2cum(maxvs), color=cs[7], alpha=0.5)\n",
    "\n",
    "minvs, maxvs = min_max_vs(hpcat_4fgl, corr=other_4fgl_corr)\n",
    "pyplot.fill_between(xs, h2cum(h4[0] + minvs), h2cum(h4[0] + maxvs), color=cs[3], alpha=0.5)\n",
    "pyplot.xlabel(r'$\\log_{10} F_{>1 GeV}\\ [\\rm cm^{-2}s^{-1}]$')\n",
    "pyplot.ylabel('Number of sources')\n",
    "pyplot.legend()\n",
    "title = pop\n",
    "#if plot_assoc_prob:\n",
    "#    title += ' (%s)' % weight_str\n",
    "pyplot.title(title)\n",
    "if save_plots:\n",
    "    print('Save figure to file:', figfn)\n",
    "    pyplot.savefig(figfn)"
   ]
  },
  {
   "cell_type": "code",
   "execution_count": null,
   "metadata": {},
   "outputs": [],
   "source": [
    "# checks\n",
    "print('All unassociated surces')\n",
    "print(hist_all_unassoc_3fgl[0])\n",
    "print('All associated surces')\n",
    "print(hist_all_assoc_3fgl[0])\n",
    "print('Associated surces of %s class' % pop)\n",
    "print(h3[0])\n",
    "print('Other associated surces')\n",
    "print(hist_other_3fgl[0])\n",
    "print('Estimated number of %s sources from probabilities' % pop)\n",
    "print(pcat_hist_3fgl_assoc)\n",
    "#print(other_3fgl_corr['LR']/(hpcat_3fgl['LR'] + 0.0001))\n"
   ]
  },
  {
   "cell_type": "code",
   "execution_count": null,
   "metadata": {
    "scrolled": true
   },
   "outputs": [],
   "source": [
    "print(other_3fgl_corr[alg0] / (h3[0] + hpcat_3fgl[alg0] + 0.0001))"
   ]
  },
  {
   "cell_type": "code",
   "execution_count": null,
   "metadata": {},
   "outputs": [],
   "source": [
    "eps = 1.e-10\n",
    "pyplot.rcParams['figure.subplot.left'] = 0.18\n",
    "pyplot.rcParams['figure.subplot.right'] = 0.98\n",
    "\n",
    "pyplot.figure()\n",
    "pyplot.plot(binsc, pcat_hist_3fgl / (h3[0] + eps), c=cs[0], ls='-', label='3FGL')\n",
    "#pyplot.plot(binsc, hpcat_3fgl0[0], c=cs[2], ls='--', label='3FGL unassoc. prob.')\n",
    "pyplot.plot(binsc, np.sign(h4[0]) * pcat_hist_4fgl / (h4[0] + eps), c=cs[1], ls='-.', label='4FGL')\n",
    "#pyplot.plot(binsc, hpcat_4fgl0[0], c=cs[3], ls=':', label='4FGL unassoc. prob.')\n",
    "\n",
    "pyplot.legend()\n",
    "\n",
    "pyplot.xlabel(r'$\\log_{10} F_{>1 GeV}\\ [\\rm cm^{-2}s^{-1}]$')\n",
    "pyplot.ylabel('unassoc. / assoc. fraction')\n",
    "pyplot.legend()\n",
    "title = pop\n",
    "#if plot_assoc_prob:\n",
    "#    title += ' (%s)' % weight_str\n",
    "pyplot.title(title)\n",
    "\n",
    "if save_plots:\n",
    "    print('Save figure to file:', figfn_diff)\n",
    "    pyplot.savefig(figfn_diff)\n",
    "    command = 'cp %s ../ML_3FGL_paper/plots' % figfn_diff\n",
    "    os.system(command)"
   ]
  },
  {
   "cell_type": "code",
   "execution_count": null,
   "metadata": {},
   "outputs": [],
   "source": []
  },
  {
   "cell_type": "code",
   "execution_count": null,
   "metadata": {},
   "outputs": [],
   "source": []
  },
  {
   "cell_type": "code",
   "execution_count": null,
   "metadata": {},
   "outputs": [],
   "source": [
    "if 0:\n",
    "    col_names3 = [hdu3[1].header[key] for key in hdu3[1].header.keys() if key.startswith('TTYPE')]\n",
    "    col_names4 = [hdu4[1].header[key] for key in hdu4[1].header.keys() if key.startswith('TTYPE')]\n",
    "    #print(col_names3)\n",
    "    #print(col_names4)\n",
    "    \n",
    "    labels = {}\n",
    "    labels['AGN'] = [\"agn\", \"bcu\", \"bll\", \"css\", \"fsrq\", \"nlsy1\", \"rdg\", \"sey\", \"ssrq\"]\n",
    "    labels['PSR'] = [\"PSR\", \"psr\",]\n",
    "    labels['other'] = [\"bin\", \"hmb\", \"nov\", \"PSR\", \"psr\", \"pwn\",  \"snr\", \"spp\", \"glc\", \"sfr\"]\n",
    "    psclass4 = list(hdu4[1].data.field('CLASS1'))\n"
   ]
  },
  {
   "cell_type": "code",
   "execution_count": null,
   "metadata": {},
   "outputs": [],
   "source": [
    "if 0:\n",
    "    psclass3 = list(hdu3[1].data.field('CLASS1'))\n",
    "    psclass4 = list(hdu4[1].data.field('CLASS1'))\n",
    "\n",
    "    n3 = len(psclass3)\n",
    "    n4 = len(psclass4)\n",
    "\n",
    "    inds3 = [i for i in range(n3) if psclass3[i] in pop_key]\n",
    "    inds4 = [i for i in range(n4) if psclass4[i] in pop_key]\n",
    "\n",
    "    \n",
    "    print(len(value_pcat_3fgl))\n",
    "    print(len(prob), sum(prob))"
   ]
  },
  {
   "cell_type": "code",
   "execution_count": null,
   "metadata": {},
   "outputs": [],
   "source": []
  },
  {
   "cell_type": "code",
   "execution_count": null,
   "metadata": {},
   "outputs": [],
   "source": []
  },
  {
   "cell_type": "code",
   "execution_count": null,
   "metadata": {},
   "outputs": [],
   "source": []
  }
 ],
 "metadata": {
  "kernelspec": {
   "display_name": "Python 3",
   "language": "python",
   "name": "python3"
  },
  "language_info": {
   "codemirror_mode": {
    "name": "ipython",
    "version": 3
   },
   "file_extension": ".py",
   "mimetype": "text/x-python",
   "name": "python",
   "nbconvert_exporter": "python",
   "pygments_lexer": "ipython3",
   "version": "3.7.5"
  }
 },
 "nbformat": 4,
 "nbformat_minor": 2
}
