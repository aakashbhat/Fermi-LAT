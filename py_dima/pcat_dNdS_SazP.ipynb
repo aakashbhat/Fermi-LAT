{
 "cells": [
  {
   "cell_type": "code",
   "execution_count": 1,
   "metadata": {},
   "outputs": [],
   "source": [
    "import numpy as np\n",
    "import astropy\n",
    "from astropy.io import fits\n",
    "from matplotlib import pyplot\n",
    "import pandas as pd\n",
    "import plotting as my_plot\n",
    "import os\n",
    "\n",
    "import auxil_ML as aux\n",
    "import dio3 as dio"
   ]
  },
  {
   "cell_type": "code",
   "execution_count": 2,
   "metadata": {},
   "outputs": [],
   "source": [
    "def h2cum(arr):\n",
    "    res = 1. * arr[::-1]\n",
    "    for i in range(1, len(arr)):\n",
    "        res[i] += res[i - 1]\n",
    "    return res[::-1]"
   ]
  },
  {
   "cell_type": "code",
   "execution_count": 147,
   "metadata": {},
   "outputs": [],
   "source": [
    "#folder = '../ML_3FGL_paper_extra/data/python files/catas'\n",
    "#folder = 'data'\n",
    "folder = '../SOM'\n",
    "cat = '3FGL'\n",
    "pop = 'AGN' #'PSR', 'AGN'\n",
    "quantity = 'Flux1000'\n",
    "add_os = True\n",
    "old = False\n",
    "\n",
    "add_SP = 1\n",
    "if cat != '3FGL':\n",
    "    add_SP = False\n",
    "#p3FGL_fn = '%s/%s_prob_catalog.csv' % (folder, cat)"
   ]
  },
  {
   "cell_type": "code",
   "execution_count": 148,
   "metadata": {},
   "outputs": [],
   "source": [
    "try_os = False\n",
    "if try_os:\n",
    "    #weight_str = 'weighted'\n",
    "    weight_str = 'oversample'\n",
    "    fn = '../ML_3FGL_paper_extra/data/python files/catas/%s_unassoc_%s.csv' % (cat, weight_str)\n",
    "    if 1:\n",
    "        pcat_os = pd.read_csv(fn, index_col='Source_Name_%s' % cat)\n",
    "    else:\n",
    "        pcat_os = pd.read_csv(fn)\n",
    "    print(pcat_os.columns)"
   ]
  },
  {
   "cell_type": "code",
   "execution_count": null,
   "metadata": {},
   "outputs": [],
   "source": []
  },
  {
   "cell_type": "code",
   "execution_count": 149,
   "metadata": {},
   "outputs": [],
   "source": [
    "my_plot.setup_figure_pars()\n",
    "save_plots = 0\n",
    "plot_assoc_prob = 1\n",
    "correct_other = 1\n",
    "test = 0\n",
    "#add_os = True\n",
    "\n",
    "alg0 = 'LR' # 'RF', 'BDT', 'LL', 'NN'\n",
    "algs0 = ['RF', 'BDT', 'LR', 'NN']\n",
    "if add_os:\n",
    "    algs_os = [alg + '_O' for alg in algs0] # algorithms with oversampling\n",
    "else:\n",
    "    algs_os = []\n",
    "algs = algs0 + algs_os\n",
    "SP_algs = ['LR', 'RF']\n",
    "\n",
    "prop_cycle = pyplot.rcParams['axes.prop_cycle']\n",
    "cs = prop_cycle.by_key()['color']\n",
    "\n",
    "#cat = '4FGL' # '3FGL', '4FGL'\n",
    "if cat == '3FGL':\n",
    "    fn_cat = '../PS_comparison/gll_psc_v16.fit' # the last release of 3FGL\n",
    "else:\n",
    "    #fn_cat = '../PS_comparison/gll_psc_v22.fit' # 4FGL release from 27 May 2020\n",
    "    fn_cat = '../PS_comparison/gll_psc_v27.fit' # 4FGL_DR2\n",
    "\n",
    "\n",
    "if cat == '4FGL':\n",
    "    #cat_name = '4FGL'\n",
    "    cat_name = '4FGL-DR2'\n",
    "else:\n",
    "    cat_name = cat\n",
    "    \n",
    "#fn_pcat = '%s/%s_catalog_newfeats.csv' % (folder, cat)\n",
    "fn_pcat = '%s/%s_prob_catalog_2classes.csv' % (folder, cat_name)\n",
    "#fn_pcat = '%s/%s_prob_catalog_3class.csv' % (folder, cat)\n",
    "\n",
    "if old:\n",
    "    fn_pcat = fn_pcat.replace('.csv', '_old.csv')\n",
    "\n",
    "if add_SP:\n",
    "    SP_str = '_SazP'\n",
    "else:\n",
    "    SP_str = ''\n",
    "\n",
    "if try_os:\n",
    "    SP_str += '_%s' % weight_str\n",
    "    if weight_str == 'weighted':\n",
    "        alg0 = 'LR'\n",
    "        algs = ['RF', 'BDT', 'LR']\n",
    "if add_os:\n",
    "    SP_str += '_add_os'\n",
    "    \n",
    "if old:\n",
    "    SP_str += '_old'\n",
    "    \n",
    "figfn = 'plots/N_logS_%s_%s%s.pdf' % (cat_name, pop, SP_str)\n",
    "figfn_diff = 'plots/N_logS_diff_%s_%s%s.pdf' % (cat, pop, SP_str)\n",
    "    \n",
    "hdu_cat = fits.open(fn_cat)\n",
    "pcat_fgl = pd.read_csv(fn_pcat, index_col='Source_Name_%s' % cat)\n",
    "\n",
    "index = np.array(hdu_cat[1].data.field('Source_Name'), dtype=str)\n",
    "data = {quantity:np.array(hdu_cat[1].data.field(quantity), dtype=float)}\n",
    "df_fgl = pd.DataFrame(data=data, index=index)\n",
    "df_fgl.index = [st.strip() for st in df_fgl.index]\n",
    "\n",
    "# load data from Saz Parkinson\n",
    "pcat_SP = pd.read_csv('data/FGL3_results.csv', index_col='Source_Name')\n",
    "pcat_SP.index = ['3FGL %s' %name.strip() for name in pcat_SP.index]"
   ]
  },
  {
   "cell_type": "code",
   "execution_count": 150,
   "metadata": {},
   "outputs": [],
   "source": [
    "df_fgl_full = aux.hdu2df(hdu_cat[1], index_name='Source_Name')"
   ]
  },
  {
   "cell_type": "code",
   "execution_count": 151,
   "metadata": {},
   "outputs": [
    {
     "data": {
      "text/plain": [
       "Index(['RAJ2000', 'DEJ2000', 'GLON', 'GLAT', 'Conf_68_SemiMajor',\n",
       "       'Conf_68_SemiMinor', 'Conf_68_PosAng', 'Conf_95_SemiMajor',\n",
       "       'Conf_95_SemiMinor', 'Conf_95_PosAng', 'ROI_num', 'Signif_Avg',\n",
       "       'Pivot_Energy', 'Flux_Density', 'Unc_Flux_Density', 'Flux1000',\n",
       "       'Unc_Flux1000', 'Energy_Flux100', 'Unc_Energy_Flux100', 'Signif_Curve',\n",
       "       'SpectrumType', 'Spectral_Index', 'Unc_Spectral_Index', 'beta',\n",
       "       'Unc_beta', 'Cutoff', 'Unc_Cutoff', 'Exp_Index', 'Unc_Exp_Index',\n",
       "       'PowerLaw_Index', 'Flux30_100', 'Unc_Flux30_100', 'nuFnu30_100',\n",
       "       'Sqrt_TS30_100', 'Flux100_300', 'nuFnu100_300', 'Sqrt_TS100_300',\n",
       "       'Flux300_1000', 'nuFnu300_1000', 'Sqrt_TS300_1000', 'Flux1000_3000',\n",
       "       'nuFnu1000_3000', 'Sqrt_TS1000_3000', 'Flux3000_10000',\n",
       "       'nuFnu3000_10000', 'Sqrt_TS3000_10000', 'Flux10000_100000',\n",
       "       'nuFnu10000_100000', 'Sqrt_TS10000_100000', 'Variability_Index',\n",
       "       'Signif_Peak', 'Flux_Peak', 'Unc_Flux_Peak', 'Time_Peak',\n",
       "       'Peak_Interval', 'Extended_Source_Name', '0FGL_Name', '1FGL_Name',\n",
       "       '2FGL_Name', '1FHL_Name', 'Flags', 'ASSOC_GAM1', 'ASSOC_GAM2',\n",
       "       'ASSOC_GAM3', 'TEVCAT_FLAG', 'ASSOC_TEV', 'CLASS1', 'ASSOC1', 'ASSOC2'],\n",
       "      dtype='object')"
      ]
     },
     "execution_count": 151,
     "metadata": {},
     "output_type": "execute_result"
    }
   ],
   "source": [
    "df_fgl_full.columns"
   ]
  },
  {
   "cell_type": "code",
   "execution_count": 152,
   "metadata": {},
   "outputs": [
    {
     "data": {
      "text/plain": [
       "Index(['GLON', 'GLAT', 'ln(Energy_Flux100)', 'ln(Unc_Energy_Flux100)',\n",
       "       'ln(Signif_Curve)', 'ln(Variability_Index)', '500MeV_Index', 'HR12',\n",
       "       'HR23', 'HR34', 'HR45', 'Category_3FGL', 'CLASS_3FGL', 'Pivot_Energy',\n",
       "       'Spectrum_Type', 'ASSOC1', 'Flags_3FGL', 'AGN_BDT', 'AGN_BDT_STD',\n",
       "       'PSR_BDT', 'PSR_BDT_STD', 'AGN_NN', 'AGN_NN_STD', 'PSR_NN',\n",
       "       'PSR_NN_STD', 'AGN_RF', 'AGN_RF_STD', 'PSR_RF', 'PSR_RF_STD', 'AGN_LR',\n",
       "       'AGN_LR_STD', 'PSR_LR', 'PSR_LR_STD', 'AGN_BDT_O', 'AGN_BDT_STD_O',\n",
       "       'PSR_BDT_O', 'PSR_BDT_STD_O', 'AGN_NN_O', 'AGN_NN_STD_O', 'PSR_NN_O',\n",
       "       'PSR_NN_STD_O', 'AGN_RF_O', 'AGN_RF_STD_O', 'PSR_RF_O', 'PSR_RF_STD_O',\n",
       "       'AGN_LR_O', 'AGN_LR_STD_O', 'PSR_LR_O', 'PSR_LR_STD_O',\n",
       "       'Missing_Values_Flag', 'Category_Prob'],\n",
       "      dtype='object')"
      ]
     },
     "execution_count": 152,
     "metadata": {},
     "output_type": "execute_result"
    }
   ],
   "source": [
    "pcat_fgl.columns"
   ]
  },
  {
   "cell_type": "code",
   "execution_count": 153,
   "metadata": {},
   "outputs": [
    {
     "name": "stdout",
     "output_type": "stream",
     "text": [
      "167\n",
      "167\n"
     ]
    }
   ],
   "source": [
    "classes = np.array([cl.strip() for cl in df_fgl_full['CLASS1']], dtype=str)\n",
    "print(sum(classes == 'PSR') + sum(classes == 'psr'))\n",
    "print(sum(pcat_fgl['Category_%s' %cat] == 'PSR'))"
   ]
  },
  {
   "cell_type": "code",
   "execution_count": 154,
   "metadata": {},
   "outputs": [],
   "source": [
    "# flux or another value for associated and unassociated sources\n",
    "if quantity == 'index':\n",
    "    if cat == '3FGL':\n",
    "        value_fgl = hdu_cat[1].data.field('Spectral_Index')\n",
    "    else:\n",
    "        value_fgl = hdu_cat[1].data.field('PL_Index')\n",
    "elif quantity == 'Flux1000':\n",
    "    df_fgl['value'] = np.log10(np.array(df_fgl[quantity]))\n"
   ]
  },
  {
   "cell_type": "code",
   "execution_count": 155,
   "metadata": {},
   "outputs": [
    {
     "name": "stdout",
     "output_type": "stream",
     "text": [
      "(17,)\n",
      "1010\n"
     ]
    }
   ],
   "source": [
    "class_mask_fgl = (pcat_fgl['Category_%s' %cat] == pop)\n",
    "unassoc_mask_fgl = (pcat_fgl['Category_%s' %cat] == 'UNAS')\n",
    "all_assoc_mask_fgl = (pcat_fgl['Category_%s' %cat] != 'UNAS')\n",
    "other_mask_fgl = (pcat_fgl['Category_%s' %cat] == 'OTHER')\n",
    "\n",
    "#source_names_fgl = [name for name in pcat_fgl.index if class_mask_fgl_assoc[name]]\n",
    "class_fgl_sources = [name for name in pcat_fgl.index if class_mask_fgl[name]]\n",
    "all_assoc_fgl_sources = [name for name in pcat_fgl.index if all_assoc_mask_fgl[name]]\n",
    "unassoc_fgl_sources = [name for name in pcat_fgl.index if unassoc_mask_fgl[name]]\n",
    "other_fgl_sources = [name for name in pcat_fgl.index if other_mask_fgl[name]]\n",
    "\n",
    "#minv = np.min(df_fgl.loc[class_fgl_sources, 'value'])\n",
    "#maxv = np.max(df_fgl.loc[class_fgl_sources, 'value'])\n",
    "bins = np.linspace(-10.5, -6.5, 17)\n",
    "binsc = (bins[1:] + bins[:-1])/2\n",
    "print(bins.shape)\n",
    "print(np.sum(unassoc_mask_fgl))"
   ]
  },
  {
   "cell_type": "code",
   "execution_count": null,
   "metadata": {},
   "outputs": [],
   "source": []
  },
  {
   "cell_type": "code",
   "execution_count": 156,
   "metadata": {},
   "outputs": [],
   "source": [
    "\n",
    "# correction for other sources\n",
    "other_values_fgl = df_fgl.loc[other_fgl_sources, 'value']\n",
    "\n",
    "hist_all_assoc_fgl = np.histogram(df_fgl.loc[all_assoc_fgl_sources, 'value'], bins=bins)\n",
    "hist_all_unassoc_fgl = np.histogram(df_fgl.loc[unassoc_fgl_sources, 'value'], bins=bins)\n",
    "hist_class_fgl = np.histogram(df_fgl.loc[class_fgl_sources, 'value'], bins=bins)\n",
    "\n",
    "unas_other_model_2classes = 1. * np.histogram(other_values_fgl, bins=bins)[0]\n",
    "unas_other_model_2classes *= hist_all_unassoc_fgl[0] / (hist_all_assoc_fgl[0] + 0.00001)\n",
    "\n",
    "\n",
    "other_fgl_corr = {}\n",
    "other_fgl_class_corr = {}\n",
    "for alg in algs:\n",
    "    label = '%s_%s' % (pop, alg)\n",
    "    probs = pcat_fgl.loc[other_fgl_sources, label]\n",
    "    hist_other_fgl = np.histogram(other_values_fgl, bins=bins, weights=probs)\n",
    "    if correct_other:\n",
    "        other_fgl_corr[alg] = hist_other_fgl[0]/(hist_all_assoc_fgl[0] + 0.00001) * \\\n",
    "                    hist_all_unassoc_fgl[0]\n",
    "        other_fgl_class_corr[alg] = hist_other_fgl[0]\n",
    "    else:\n",
    "        other_fgl_corr[alg] = np.zeros_like(hist_other_fgl[0])\n",
    "        other_fgl_class_corr[alg] = np.zeros_like(hist_other_fgl[0])\n",
    "        \n",
    "if add_SP:\n",
    "    other_SP_corr = {}\n",
    "    other_SP_class_corr = {}\n",
    "    for alg in SP_algs:\n",
    "        label = '%s_P' % (alg)\n",
    "        other_fgl_sources_SP = [name for name in other_fgl_sources if name in pcat_SP.index]\n",
    "        probs = pcat_SP.loc[other_fgl_sources_SP, label]\n",
    "        hist_other_SP = np.histogram(other_values_fgl[other_fgl_sources_SP], bins=bins, weights=probs)\n",
    "        if correct_other:\n",
    "            other_SP_corr[alg] = hist_other_SP[0]/(hist_all_assoc_fgl[0] + 0.00001) * \\\n",
    "                        hist_all_unassoc_fgl[0]\n",
    "            other_SP_class_corr[alg] = hist_other_SP[0]\n",
    "        else:\n",
    "            other_SP_corr[alg] = np.zeros_like(hist_other_fgl[0])\n",
    "            other_SP_class_corr[alg] = np.zeros_like(hist_other_fgl[0])\n",
    "\n"
   ]
  },
  {
   "cell_type": "code",
   "execution_count": null,
   "metadata": {},
   "outputs": [],
   "source": []
  },
  {
   "cell_type": "code",
   "execution_count": 157,
   "metadata": {},
   "outputs": [
    {
     "name": "stdout",
     "output_type": "stream",
     "text": [
      "41.1452913241455\n",
      "[0.         0.         0.         1.22905024 5.12748994 6.26666652\n",
      " 7.76518187 6.74683502 8.90076268 2.30136955 2.2222216  0.2857142\n",
      " 0.2999997  0.         0.         0.        ]\n",
      "[0.         0.99999    0.48717936 0.61452512 0.5697211  0.44761904\n",
      " 0.55465585 0.51898731 0.40458012 0.1917808  0.22222216 0.02857142\n",
      " 0.0999999  0.         0.         0.        ]\n"
     ]
    }
   ],
   "source": [
    "# estimated number of unas other sources\n",
    "print(np.sum(unas_other_model_2classes))\n",
    "print(unas_other_model_2classes)\n",
    "print(hist_all_unassoc_fgl[0] / (hist_all_assoc_fgl[0] + 0.00001))"
   ]
  },
  {
   "cell_type": "code",
   "execution_count": 158,
   "metadata": {},
   "outputs": [],
   "source": [
    "def sub_dict(dct, keys):\n",
    "    return {key:dct[key] for key in keys}"
   ]
  },
  {
   "cell_type": "code",
   "execution_count": 159,
   "metadata": {},
   "outputs": [],
   "source": [
    "# probabilities and masks (for associated sources)\n",
    "unassoc_values_fgl = df_fgl.loc[unassoc_fgl_sources, 'value']\n",
    "class_values_fgl = df_fgl.loc[class_fgl_sources, 'value']\n",
    "all_assoc_values_fgl = df_fgl.loc[all_assoc_fgl_sources, 'value']\n",
    "\n",
    "hpcat_fgl = {}\n",
    "hpcat_fgl_class = {}\n",
    "prob_fgl_unassoc = {}\n",
    "prob_fgl_class = {}\n",
    "\n",
    "if try_os:\n",
    "    prob_fgl_unassoc_os = {}\n",
    "    hpcat_fgl_os = {}\n",
    "    \n",
    "for alg in algs:\n",
    "    label = '%s_%s' % (pop, alg)\n",
    "    prob_fgl_unassoc[alg] = np.array(pcat_fgl.loc[unassoc_fgl_sources, label]) # prob\n",
    "    prob_fgl_class[alg] = np.array(pcat_fgl.loc[all_assoc_fgl_sources, label]) # prob\n",
    "    hpcat_fgl[alg] = np.histogram(unassoc_values_fgl, bins=bins, \n",
    "                                   weights=prob_fgl_unassoc[alg])[0]\n",
    "    hpcat_fgl_class[alg] = np.histogram(all_assoc_values_fgl, bins=bins, \n",
    "                                   weights=prob_fgl_class[alg])[0]\n",
    "    \n",
    "    if try_os:\n",
    "        prob_fgl_unassoc_os[alg] = np.array(pcat_os.loc[unassoc_fgl_sources, label]) # prob\n",
    "        hpcat_fgl_os[alg] = np.histogram(unassoc_values_fgl, bins=bins, \n",
    "                                       weights=prob_fgl_unassoc_os[alg])[0]\n",
    "\n",
    "    \n"
   ]
  },
  {
   "cell_type": "code",
   "execution_count": 160,
   "metadata": {},
   "outputs": [],
   "source": [
    "if add_SP:\n",
    "    prob_SP_unassoc = {}\n",
    "    prob_SP_class = {}\n",
    "    hpcat_SP = {}\n",
    "    hpcat_SP_class = {}\n",
    "    for alg in SP_algs:\n",
    "        label = '%s_P' % alg\n",
    "        unassoc_fgl_sources_SP = [name for name in unassoc_fgl_sources if name in pcat_SP.index]\n",
    "        all_assoc_fgl_sources_SP = [name for name in all_assoc_fgl_sources if name in pcat_SP.index]\n",
    "        prob_SP_unassoc[alg] = np.array(pcat_SP.loc[unassoc_fgl_sources_SP, label]) # prob\n",
    "        prob_SP_class[alg] = np.array(pcat_SP.loc[all_assoc_fgl_sources_SP, label]) # prob\n",
    "        if pop != 'PSR':\n",
    "            prob_SP_unassoc[alg] = 1 - prob_SP_unassoc[alg]\n",
    "            prob_SP_class[alg] = 1 - prob_SP_class[alg]\n",
    "\n",
    "        hpcat_SP[alg] = np.histogram(unassoc_values_fgl[unassoc_fgl_sources_SP], bins=bins, \n",
    "                                    weights=prob_SP_unassoc[alg])[0]\n",
    "        hpcat_SP_class[alg] = np.histogram(all_assoc_values_fgl[all_assoc_fgl_sources_SP], bins=bins, \n",
    "                                   weights=prob_SP_class[alg])[0]\n",
    "\n"
   ]
  },
  {
   "cell_type": "code",
   "execution_count": null,
   "metadata": {},
   "outputs": [],
   "source": []
  },
  {
   "cell_type": "code",
   "execution_count": 161,
   "metadata": {},
   "outputs": [
    {
     "data": {
      "image/png": "[encoded data removed]",
      "text/plain": [
       "<Figure size 576x432 with 1 Axes>"
      ]
     },
     "metadata": {
      "needs_background": "light"
     },
     "output_type": "display_data"
    }
   ],
   "source": [
    "if 1:\n",
    "    pyplot.figure()\n",
    "    h3 = pyplot.hist(df_fgl.loc[class_fgl_sources, 'value'], \n",
    "                         bins=bins, color='b', alpha=0.3)\n",
    "    hpcat_fgl0 = pyplot.hist(unassoc_values_fgl, bins=bins, color='r', \n",
    "                                alpha=0.3, weights=prob_fgl_unassoc[alg0])"
   ]
  },
  {
   "cell_type": "code",
   "execution_count": 162,
   "metadata": {},
   "outputs": [],
   "source": [
    "def min_max_vs(dct, corr={}):\n",
    "    vals = np.array([dct[key] - corr.get(key, 0.) for key in dct.keys()])\n",
    "    return np.min(vals, axis=0), np.max(vals, axis=0)"
   ]
  },
  {
   "cell_type": "code",
   "execution_count": 163,
   "metadata": {},
   "outputs": [
    {
     "data": {
      "text/plain": [
       "array([0.        , 0.99999501, 0.460648  , 0.6080588 , 0.53470266,\n",
       "       0.40441863, 0.46889922, 0.36669228, 0.24142066, 0.06998388,\n",
       "       0.07314673, 0.00391096, 0.00254491, 0.        , 0.        ,\n",
       "       0.        ])"
      ]
     },
     "execution_count": 163,
     "metadata": {},
     "output_type": "execute_result"
    }
   ],
   "source": [
    "hpcat_fgl0[0]/(h3[0] + 0.0000001)"
   ]
  },
  {
   "cell_type": "code",
   "execution_count": 164,
   "metadata": {},
   "outputs": [],
   "source": [
    "hpcat_fgl_cum = {}\n",
    "for key in hpcat_fgl:\n",
    "    hpcat_fgl_cum[key] = aux.h2cum(hpcat_fgl[key])\n",
    "hpcat_fgl_class_cum = {}\n",
    "for key in hpcat_fgl_class:\n",
    "    hpcat_fgl_class_cum[key] = aux.h2cum(hpcat_fgl_class[key])\n",
    "\n",
    "other_fgl_corr_cum = {}\n",
    "for key in other_fgl_corr:\n",
    "    other_fgl_corr_cum[key] = aux.h2cum(other_fgl_corr[key])\n",
    "\n",
    "other_fgl_class_corr_cum = {}\n",
    "for key in other_fgl_class_corr:\n",
    "    other_fgl_class_corr_cum[key] = aux.h2cum(other_fgl_class_corr[key])\n"
   ]
  },
  {
   "cell_type": "code",
   "execution_count": 165,
   "metadata": {},
   "outputs": [
    {
     "name": "stdout",
     "output_type": "stream",
     "text": [
      "Number of AGN among unassociated source in 3FGL: 3693.065 +- 519.895\n",
      "Number of associated AGN: 1744.000\n",
      "Cumulative source counts\n",
      "[1.744e+03 1.744e+03 1.743e+03 1.704e+03 1.351e+03 8.630e+02 4.800e+02\n",
      " 2.730e+02 1.490e+02 6.300e+01 2.800e+01 1.600e+01 3.000e+00 1.000e+00\n",
      " 1.000e+00 0.000e+00]\n",
      "\n",
      "Cumulative estimated numbers of AGN for LR corrected for other\n",
      "[ 7.88164545e+02  7.88164545e+02  7.87164550e+02  7.69199278e+02\n",
      "  5.55734404e+02  2.98875704e+02  1.49526465e+02  5.76754392e+01\n",
      "  1.63323131e+01  9.50027096e-01  2.42520445e-02 -6.71143117e-02\n",
      " -2.72937467e-02  0.00000000e+00  0.00000000e+00  0.00000000e+00]\n",
      "\n",
      "Associated\n",
      "[0.00000000e+00 9.66569250e-01 3.64805385e+01 3.24357991e+02\n",
      " 4.41827210e+02 3.49172705e+02 1.89712753e+02 1.10699654e+02\n",
      " 8.21497312e+01 3.47627637e+01 1.08231961e+01 1.26587304e+01\n",
      " 1.95116198e+00 5.73579570e-05 1.57346685e+00 1.44048850e-05] [0.00000000e+00 9.99546609e-01 3.87103287e+01 3.53500173e+02\n",
      " 4.82689495e+02 3.78878693e+02 2.06408597e+02 1.22072139e+02\n",
      " 8.59682376e+01 3.57040074e+01 1.17468428e+01 1.30009198e+01\n",
      " 2.00228182e+00 8.73638160e-02 1.98607503e+00 1.46672530e-02]\n",
      "Unassociated\n",
      "[ 0.00000000e+00  9.75968506e-01  1.66039750e+01  1.95286948e+02\n",
      "  2.12010896e+02  1.11243778e+02  5.16164066e+01  1.80333004e+01\n",
      "  2.98918102e+00 -4.49902779e-01 -6.37729588e-01 -4.90147556e-02\n",
      " -1.49000446e-01  0.00000000e+00  0.00000000e+00  0.00000000e+00] [0.00000000e+00 9.99986900e-01 1.80918690e+01 2.16012917e+02\n",
      " 2.55524757e+02 1.30064351e+02 6.55514677e+01 2.85268973e+01\n",
      " 9.01599742e+00 2.59801351e-01 5.09385963e-01 2.37041117e-01\n",
      " 2.75742742e-03 0.00000000e+00 0.00000000e+00 0.00000000e+00]\n"
     ]
    },
    {
     "data": {
      "image/png": "[encoded data removed]",
      "text/plain": [
       "<Figure size 576x432 with 1 Axes>"
      ]
     },
     "metadata": {
      "needs_background": "light"
     },
     "output_type": "display_data"
    }
   ],
   "source": [
    "#plot = pyplot.semilogy \n",
    "plot = pyplot.plot\n",
    "    \n",
    "xs = binsc\n",
    "pyplot.figure()\n",
    "plot(xs, h2cum(h3[0]), c='blue', ls='-', label='Src count')\n",
    "pcat_hist_fgl = hpcat_fgl[alg0] - other_fgl_corr[alg0]\n",
    "pcat_hist_fgl_class = hpcat_fgl_class[alg0] - other_fgl_class_corr[alg0]\n",
    "\n",
    "\n",
    "plot(xs, aux.h2cum(h3[0]) + aux.h2cum(pcat_hist_fgl), c='orange', ls='-', label='Src count + unassoc. prob. %s' % alg0)\n",
    "\n",
    "minvs, maxvs = aux.min_max_vs(sub_dict(hpcat_fgl_cum, algs), corr=sub_dict(other_fgl_corr_cum, algs))\n",
    "pyplot.fill_between(xs, h2cum(h3[0]) + minvs, h2cum(h3[0]) + maxvs, color='orange', alpha=0.3,\n",
    "                    label='Src count + unassoc. prob.')\n",
    "\n",
    "mean = h2cum(maxvs + minvs) / 2.\n",
    "delta = h2cum(maxvs - minvs) / 2.\n",
    "print('Number of %s among unassociated source in %s: %.3f +- %.3f' % (pop, cat, mean[0], delta[0]))\n",
    "print('Number of associated %s: %.3f' % (pop, aux.h2cum(h3[0])[0]))\n",
    "print('Cumulative source counts')\n",
    "print(aux.h2cum(h3[0]))\n",
    "print()\n",
    "print('Cumulative estimated numbers of %s for %s corrected for other' % (pop, alg0))\n",
    "print(aux.h2cum(pcat_hist_fgl))\n",
    "print()\n",
    "\n",
    "if try_os:\n",
    "    pcat_hist_fgl_os = hpcat_fgl_os[alg0] - other_fgl_corr[alg0]\n",
    "    plot(xs, h2cum(h3[0] + pcat_hist_fgl_os), c=cs[5], ls=':', label='Src count + unassoc. prob. oversample')\n",
    "\n",
    "    \n",
    "if plot_assoc_prob:\n",
    "    plot(xs, h2cum(pcat_hist_fgl_class), c='purple', ls='--', label='Assoc. prob. %s' % alg0)\n",
    "    plot(xs, h2cum(hpcat_fgl_class[alg0]), c='purple', ls=':', label='Assoc. prob. %s (uncorr.)' % alg0)\n",
    "    minvs, maxvs = aux.min_max_vs(sub_dict(hpcat_fgl_class_cum, algs), corr=sub_dict(other_fgl_class_corr_cum, algs))\n",
    "    pyplot.fill_between(xs, minvs, maxvs, color='green', alpha=0.3, label='Assoc. prob.')\n",
    "    if add_os:\n",
    "        minvs, maxvs = aux.min_max_vs(sub_dict(hpcat_fgl_class, algs_os), corr=sub_dict(other_fgl_class_corr, algs_os))\n",
    "        #pyplot.fill_between(xs, h2cum(minvs), h2cum(maxvs), color=cs[5], alpha=0.5)\n",
    "        print('Associated')\n",
    "        print(minvs, maxvs)\n",
    "        \n",
    "if add_os:\n",
    "    minvs, maxvs = aux.min_max_vs(sub_dict(hpcat_fgl, algs_os), corr=sub_dict(other_fgl_corr, algs_os))\n",
    "    print('Unassociated')\n",
    "    print(minvs, maxvs)\n",
    "    #pyplot.fill_between(xs, h2cum(h3[0] + minvs), h2cum(h3[0] + maxvs), color=cs[6], alpha=0.5)\n",
    "\n",
    "        \n",
    "    \n",
    "\n",
    "if try_os:\n",
    "    minvs, maxvs = aux.min_max_vs(hpcat_fgl_os, corr=other_fgl_corr)\n",
    "    pyplot.fill_between(xs, h2cum(h3[0] + minvs), h2cum(h3[0] + maxvs), color=cs[5], alpha=0.5)\n",
    "    \n",
    "    mean = h2cum(maxvs + minvs) / 2.\n",
    "    delta = h2cum(maxvs - minvs) / 2.\n",
    "    print('Number of %s (os): %.1f +- %.1f' % (pop, mean[0], delta[0]))\n",
    "\n",
    "\n",
    "if add_SP:\n",
    "    pcat_hist_SP = hpcat_SP[alg0] - other_SP_corr[alg0]\n",
    "    pcat_hist_SP_class = hpcat_SP_class[alg0] - other_SP_class_corr[alg0]\n",
    "\n",
    "    plot(xs, h2cum(h3[0] + pcat_hist_SP), c='gray', ls='--', label='Src count + unassoc. prob. LR (SP16)')\n",
    "    plot(xs, h2cum(pcat_hist_SP_class), c='black', ls='-.', label='Assoc. prob. LR (SP16)')\n",
    "    plot(xs, h2cum(hpcat_SP_class[alg0]), c='black', ls=':', label='Assoc. prob. LR (SP16, uncorr.)')\n",
    "    \n",
    "    minvs, maxvs = aux.min_max_vs(hpcat_SP_class, corr=other_SP_class_corr)\n",
    "    pyplot.fill_between(xs, h2cum(minvs), h2cum(maxvs), color='gray', alpha=0.5, label='Assoc. prob. (SP16)')\n",
    "    #print('SP check')\n",
    "    #print(h2cum(pcat_hist_SP_class), h2cum(minvs), h2cum(maxvs))\n",
    "    #print(hpcat_SP_class)\n",
    "    #print(other_SP_class_corr)\n",
    "\n",
    "\n",
    "pyplot.xlabel(r'$\\log_{10} F_{>1 GeV}\\ [\\rm cm^{-2}s^{-1}]$')\n",
    "pyplot.ylabel('Number of sources')\n",
    "pyplot.legend(fontsize=13, labelspacing=0.2)\n",
    "if pop == 'AGN':\n",
    "    if cat == '3FGL':\n",
    "        pyplot.ylim(-100, 3000)\n",
    "    else:\n",
    "        pyplot.ylim(-170, 5000)\n",
    "else:\n",
    "    if cat == '3FGL':\n",
    "        pyplot.ylim(-20, 600)\n",
    "    else:\n",
    "        pyplot.ylim(-1050/30, 1050)\n",
    "\n",
    "title = '%s %s (2-class)' % (cat_name, pop)\n",
    "if old:\n",
    "    title += ' (old)'\n",
    "#if plot_assoc_prob:\n",
    "#    title += ' (%s)' % weight_str\n",
    "pyplot.title(title)\n",
    "if save_plots:\n",
    "    print('Save figure to file:', figfn)\n",
    "    pyplot.savefig(figfn)\n",
    "    if not test:\n",
    "        command = 'cp %s ../ML_3FGL_paper/plots' % figfn\n",
    "        print(command)\n",
    "        os.system(command)"
   ]
  },
  {
   "cell_type": "code",
   "execution_count": 166,
   "metadata": {},
   "outputs": [
    {
     "name": "stdout",
     "output_type": "stream",
     "text": [
      "save dict to file:\n",
      "data/section6_plots/3FGL_AGN_assoc.yaml\n",
      "save dict to file:\n",
      "data/section6_plots/3FGL_AGN_unassoc.yaml\n",
      "save dict to file:\n",
      "data/section6_plots/3FGL_AGN_assoc_other.yaml\n",
      "save dict to file:\n",
      "data/section6_plots/3FGL_AGN_unassoc_other.yaml\n"
     ]
    }
   ],
   "source": [
    "if 0:\n",
    "    print(hpcat_fgl.keys())\n",
    "    print(hpcat_fgl_class.keys())\n",
    "    print(other_fgl_corr.keys())\n",
    "    print(other_fgl_class_corr.keys())\n",
    "# save class and unassoc hists and expected contributions of other sources\n",
    "dicts = {'%s_assoc' % pop: hpcat_fgl_class,\n",
    "         '%s_unassoc' % pop: hpcat_fgl,\n",
    "         '%s_assoc_other' % pop: other_fgl_class_corr,\n",
    "         '%s_unassoc_other' % pop: other_fgl_corr\n",
    "        }\n",
    "for name, dct in dicts.items():\n",
    "    fn = 'data/section6_plots/%s_%s.yaml' % (cat_name, name)\n",
    "    #print(fn)\n",
    "    dct['xs'] = xs\n",
    "    dio.savedict(dct, fn)"
   ]
  },
  {
   "cell_type": "code",
   "execution_count": 167,
   "metadata": {},
   "outputs": [
    {
     "data": {
      "text/plain": [
       "'3FGL'"
      ]
     },
     "execution_count": 167,
     "metadata": {},
     "output_type": "execute_result"
    }
   ],
   "source": [
    "cat"
   ]
  },
  {
   "cell_type": "code",
   "execution_count": 168,
   "metadata": {},
   "outputs": [
    {
     "data": {
      "text/plain": [
       "array([ 0.00000000e+00,  9.99995109e-01,  1.79652722e+01,  2.13464874e+02,\n",
       "        2.56858700e+02,  1.49349239e+02,  9.18510259e+01,  4.13431261e+01,\n",
       "        1.53822860e+01,  9.25775052e-01,  9.13663561e-02, -3.98205650e-02,\n",
       "       -2.72937467e-02,  0.00000000e+00,  0.00000000e+00,  0.00000000e+00])"
      ]
     },
     "execution_count": 168,
     "metadata": {},
     "output_type": "execute_result"
    }
   ],
   "source": [
    "pcat_hist_fgl"
   ]
  },
  {
   "cell_type": "code",
   "execution_count": 169,
   "metadata": {},
   "outputs": [
    {
     "name": "stdout",
     "output_type": "stream",
     "text": [
      "[0.00000000e+00 9.27813645e-01 3.80523239e+01 3.51070233e+02\n",
      " 4.90053170e+02 4.00892042e+02 2.22191150e+02 1.31606458e+02\n",
      " 9.61904113e+01 4.24188989e+01 1.51378575e+01 1.69843928e+01\n",
      " 3.11291209e+00 1.38203955e+00 1.38976038e+00 3.20456230e-02]\n"
     ]
    }
   ],
   "source": [
    "print(hpcat_fgl_class['RF'])\n",
    "#print(hpcat_fgl_class['RF_O'])"
   ]
  },
  {
   "cell_type": "code",
   "execution_count": 170,
   "metadata": {},
   "outputs": [
    {
     "name": "stdout",
     "output_type": "stream",
     "text": [
      "All unassociated surces\n",
      "[  0   1  19 220 286 188 137  82  53  14   8   1   1   0   0   0]\n",
      "All associated surces\n",
      "[  0   1  39 358 502 420 247 158 131  73  36  35  10   7   3   1]\n",
      "Associated surces of AGN class\n",
      "[  0   1  39 353 488 383 207 124  86  35  12  13   2   0   1   0]\n",
      "[  0.   1.  39. 353. 488. 383. 207. 124.  86.  35.  12.  13.   2.   0.\n",
      "   1.   0.]\n",
      "Other associated surces\n",
      "[ 0.          0.          0.          1.58995121  4.58317073 10.31983628\n",
      "  5.49617582  4.23608404  7.72308564  4.37688519  2.73871641  1.97971677\n",
      "  0.12133392  0.0451255   0.          0.        ]\n",
      "Estimated number of AGN sources from probabilities\n",
      "[0.00000000e+00 9.99565034e-01 3.85793911e+01 3.50349533e+02\n",
      " 4.80229643e+02 3.85694905e+02 2.12681601e+02 1.22102714e+02\n",
      " 8.91608713e+01 3.75188731e+01 1.18626778e+01 1.30287300e+01\n",
      " 2.00971525e+00 3.09621964e-04 1.62104978e+00 9.15431817e-05]\n",
      "Estimated number of AGN sources among unassociated ones\n",
      "[0.00000000e+00 9.99995109e-01 1.79652722e+01 2.14644756e+02\n",
      " 2.60934899e+02 1.54892335e+02 9.70621381e+01 4.54698425e+01\n",
      " 2.07621765e+01 2.44943597e+00 8.77760811e-01 5.08424766e-02\n",
      " 5.08981145e-03 0.00000000e+00 0.00000000e+00 0.00000000e+00]\n"
     ]
    }
   ],
   "source": [
    "# checks\n",
    "print('All unassociated surces')\n",
    "print(hist_all_unassoc_fgl[0])\n",
    "print('All associated surces')\n",
    "print(hist_all_assoc_fgl[0])\n",
    "print('Associated surces of %s class' % pop)\n",
    "print(hist_class_fgl[0])\n",
    "print(h3[0])\n",
    "print('Other associated surces')\n",
    "print(hist_other_fgl[0])\n",
    "print('Estimated number of %s sources from probabilities' % pop)\n",
    "print(pcat_hist_fgl_class)\n",
    "print('Estimated number of %s sources among unassociated ones' % pop)\n",
    "print(hpcat_fgl[alg0])\n",
    "if try_os:\n",
    "    print('Estimated number of %s sources among unassociated ones (%s)' % (pop, weight_str))\n",
    "    print(hpcat_fgl_os[alg0])\n",
    "    "
   ]
  },
  {
   "cell_type": "code",
   "execution_count": 171,
   "metadata": {
    "scrolled": true
   },
   "outputs": [
    {
     "name": "stdout",
     "output_type": "stream",
     "text": [
      "[0.         0.         0.         0.00207856 0.00544266 0.01030521\n",
      " 0.01713831 0.02435073 0.05039131 0.04068571 0.06106561 0.00694686\n",
      " 0.01614987 0.         0.         0.        ]\n"
     ]
    }
   ],
   "source": [
    "print(other_fgl_corr[alg0] / (h3[0] + hpcat_fgl[alg0] + 0.0001))"
   ]
  },
  {
   "cell_type": "code",
   "execution_count": 172,
   "metadata": {},
   "outputs": [
    {
     "data": {
      "image/png": "[encoded data removed]",
      "text/plain": [
       "<Figure size 576x432 with 1 Axes>"
      ]
     },
     "metadata": {
      "needs_background": "light"
     },
     "output_type": "display_data"
    }
   ],
   "source": [
    "eps = 1.e-10\n",
    "pyplot.rcParams['figure.subplot.left'] = 0.18\n",
    "pyplot.rcParams['figure.subplot.right'] = 0.98\n",
    "\n",
    "pyplot.figure()\n",
    "pyplot.plot(binsc, pcat_hist_fgl / (h3[0] + eps), c=cs[0], ls='-', label=cat)\n",
    "#pyplot.plot(binsc, hpcat_fgl0[0], c=cs[2], ls='--', label='fgl unassoc. prob.')\n",
    "#pyplot.plot(binsc, np.sign(h4[0]) * pcat_hist_4fgl / (h4[0] + eps), c=cs[1], ls='-.', label='4FGL')\n",
    "#pyplot.plot(binsc, hpcat_4fgl0[0], c=cs[3], ls=':', label='4FGL unassoc. prob.')\n",
    "\n",
    "pyplot.legend()\n",
    "\n",
    "pyplot.xlabel(r'$\\log_{10} F_{>1 GeV}\\ [\\rm cm^{-2}s^{-1}]$')\n",
    "pyplot.ylabel('unassoc. / assoc. fraction')\n",
    "pyplot.ylim(0, 10)\n",
    "pyplot.legend()\n",
    "title = pop\n",
    "#if plot_assoc_prob:\n",
    "#    title += ' (%s)' % weight_str\n",
    "pyplot.title(title)\n",
    "\n",
    "if save_plots and 0:\n",
    "    print('Save figure to file:', figfn_diff)\n",
    "    pyplot.savefig(figfn_diff)"
   ]
  },
  {
   "cell_type": "code",
   "execution_count": null,
   "metadata": {},
   "outputs": [],
   "source": []
  },
  {
   "cell_type": "code",
   "execution_count": null,
   "metadata": {},
   "outputs": [],
   "source": []
  },
  {
   "cell_type": "code",
   "execution_count": 173,
   "metadata": {},
   "outputs": [],
   "source": [
    "if 0:\n",
    "    col_names3 = [hdu3[1].header[key] for key in hdu3[1].header.keys() if key.startswith('TTYPE')]\n",
    "    col_names4 = [hdu4[1].header[key] for key in hdu4[1].header.keys() if key.startswith('TTYPE')]\n",
    "    #print(col_names3)\n",
    "    #print(col_names4)\n",
    "    \n",
    "    labels = {}\n",
    "    labels['AGN'] = [\"agn\", \"bcu\", \"bll\", \"css\", \"fsrq\", \"nlsy1\", \"rdg\", \"sey\", \"ssrq\"]\n",
    "    labels['PSR'] = [\"PSR\", \"psr\",]\n",
    "    labels['other'] = [\"bin\", \"hmb\", \"nov\", \"PSR\", \"psr\", \"pwn\",  \"snr\", \"spp\", \"glc\", \"sfr\"]\n",
    "    psclass4 = list(hdu4[1].data.field('CLASS1'))\n"
   ]
  },
  {
   "cell_type": "code",
   "execution_count": 174,
   "metadata": {},
   "outputs": [],
   "source": [
    "if 0:\n",
    "    psclass3 = list(hdu3[1].data.field('CLASS1'))\n",
    "    psclass4 = list(hdu4[1].data.field('CLASS1'))\n",
    "\n",
    "    n3 = len(psclass3)\n",
    "    n4 = len(psclass4)\n",
    "\n",
    "    inds3 = [i for i in range(n3) if psclass3[i] in pop_key]\n",
    "    inds4 = [i for i in range(n4) if psclass4[i] in pop_key]\n",
    "\n",
    "    \n",
    "    print(len(value_pcat_fgl))\n",
    "    print(len(prob), sum(prob))"
   ]
  },
  {
   "cell_type": "code",
   "execution_count": null,
   "metadata": {},
   "outputs": [],
   "source": []
  },
  {
   "cell_type": "code",
   "execution_count": null,
   "metadata": {},
   "outputs": [],
   "source": []
  },
  {
   "cell_type": "code",
   "execution_count": null,
   "metadata": {},
   "outputs": [],
   "source": []
  },
  {
   "cell_type": "code",
   "execution_count": 175,
   "metadata": {},
   "outputs": [],
   "source": [
    "N = len(pcat_SP['CLASS1'])\n",
    "unass_SP = np.array([type(pcat_SP['CLASS1'][i]) != str for i in range(N)])"
   ]
  },
  {
   "cell_type": "code",
   "execution_count": 176,
   "metadata": {},
   "outputs": [],
   "source": [
    "def nPSR(thres, pcat=pcat_SP, unass=unass_SP, methods=['LR_P', 'RF_P']):\n",
    "    res = unass.copy()\n",
    "    for method in methods:\n",
    "        res = res & (pcat[method] > thres)\n",
    "    return np.sum(res)\n"
   ]
  },
  {
   "cell_type": "code",
   "execution_count": 177,
   "metadata": {},
   "outputs": [],
   "source": [
    "thress = np.arange(0.05, 1., 0.05)\n",
    "nPSRs_SP = {}\n",
    "nPSRs_SP['Joint SP'] = np.array([nPSR(thres) for thres in thress])\n",
    "methods_SP = ['LR_P', 'RF_P']\n",
    "for method in methods_SP:\n",
    "    nPSRs_SP[method] = np.array([nPSR(thres, methods=[method]) for thres in thress])"
   ]
  },
  {
   "cell_type": "code",
   "execution_count": null,
   "metadata": {},
   "outputs": [],
   "source": []
  },
  {
   "cell_type": "code",
   "execution_count": null,
   "metadata": {},
   "outputs": [],
   "source": []
  },
  {
   "cell_type": "code",
   "execution_count": null,
   "metadata": {},
   "outputs": [],
   "source": []
  },
  {
   "cell_type": "code",
   "execution_count": 178,
   "metadata": {},
   "outputs": [],
   "source": [
    "pop_loc = 'PSR'\n",
    "#fgl_methods = ['PSR_NN', 'PSR_LR', 'PSR_RF', 'PSR_BDT']\n",
    "fgl_methods = ['%s_%s' % (pop_loc, alg) for alg in algs]\n",
    "def nPSR_fgl(thres, methods=fgl_methods):\n",
    "    return nPSR(thres, pcat=pcat_fgl, unass=unass_fgl, methods=methods)"
   ]
  },
  {
   "cell_type": "code",
   "execution_count": 179,
   "metadata": {},
   "outputs": [
    {
     "name": "stdout",
     "output_type": "stream",
     "text": [
      "111\n",
      "111\n"
     ]
    }
   ],
   "source": [
    "\n",
    "unass_fgl = pcat_fgl['Category_%s' % cat] == 'UNAS'\n",
    "print(np.sum((pcat_fgl['Category_Prob'] == 'PSR') & unass_fgl))\n",
    "print(nPSR_fgl(0.5))"
   ]
  },
  {
   "cell_type": "code",
   "execution_count": 180,
   "metadata": {},
   "outputs": [
    {
     "data": {
      "text/plain": [
       "182"
      ]
     },
     "execution_count": 180,
     "metadata": {},
     "output_type": "execute_result"
    }
   ],
   "source": [
    "nPSR(0.5)"
   ]
  },
  {
   "cell_type": "code",
   "execution_count": 181,
   "metadata": {},
   "outputs": [],
   "source": [
    "nPSRs_fgl = {}\n",
    "nPSRs_fgl['Joint FGL'] = np.array([nPSR_fgl(thres) for thres in thress])\n",
    "for method in fgl_methods:\n",
    "    nPSRs_fgl[method] = np.array([nPSR_fgl(thres, methods=[method]) for thres in thress])\n"
   ]
  },
  {
   "cell_type": "code",
   "execution_count": 182,
   "metadata": {},
   "outputs": [
    {
     "data": {
      "text/plain": [
       "(0, 1)"
      ]
     },
     "execution_count": 182,
     "metadata": {},
     "output_type": "execute_result"
    },
    {
     "data": {
      "image/png": "[encoded data removed]",
      "text/plain": [
       "<Figure size 576x432 with 1 Axes>"
      ]
     },
     "metadata": {
      "needs_background": "light"
     },
     "output_type": "display_data"
    }
   ],
   "source": [
    "for key, nPSRs in nPSRs_SP.items():\n",
    "    ls = '--'\n",
    "    if key.startswith('Joint'):\n",
    "        ls = '-'\n",
    "    pyplot.plot(thress, nPSRs, ls=ls, marker='o', label=key)\n",
    "\n",
    "for key, nPSRs in nPSRs_fgl.items():\n",
    "    ls = ':'\n",
    "    if key.startswith('Joint'):\n",
    "        ls = '-'\n",
    "    pyplot.plot(thress, nPSRs, ls=ls, marker='s', label=key)\n",
    "    \n",
    "pyplot.legend(ncol=2)\n",
    "pyplot.grid()\n",
    "pyplot.xlim(0, 1)"
   ]
  },
  {
   "cell_type": "code",
   "execution_count": null,
   "metadata": {},
   "outputs": [],
   "source": []
  }
 ],
 "metadata": {
  "kernelspec": {
   "display_name": "Python 3",
   "language": "python",
   "name": "python3"
  },
  "language_info": {
   "codemirror_mode": {
    "name": "ipython",
    "version": 3
   },
   "file_extension": ".py",
   "mimetype": "text/x-python",
   "name": "python",
   "nbconvert_exporter": "python",
   "pygments_lexer": "ipython3",
   "version": "3.7.5"
  }
 },
 "nbformat": 4,
 "nbformat_minor": 2
}
