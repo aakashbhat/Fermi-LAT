{
 "cells": [
  {
   "cell_type": "code",
   "execution_count": 641,
   "metadata": {},
   "outputs": [],
   "source": [
    "import numpy as np\n",
    "import astropy\n",
    "from astropy.io import fits\n",
    "from matplotlib import pyplot\n",
    "import pandas as pd\n",
    "import plotting as my_plot\n",
    "import os\n",
    "\n",
    "import auxil_ML as aux"
   ]
  },
  {
   "cell_type": "code",
   "execution_count": 578,
   "metadata": {},
   "outputs": [],
   "source": [
    "def h2cum(arr):\n",
    "    res = 1. * arr[::-1]\n",
    "    for i in range(1, len(arr)):\n",
    "        res[i] += res[i - 1]\n",
    "    return res[::-1]"
   ]
  },
  {
   "cell_type": "code",
   "execution_count": 958,
   "metadata": {},
   "outputs": [],
   "source": [
    "#folder = '../ML_3FGL_paper_extra/data/python files/catas'\n",
    "#folder = 'data'\n",
    "folder = '../ML_3FGL_paper/SOM'\n",
    "cat = '4FGL'\n",
    "pop = 'AGN' #'PSR', 'AGN'\n",
    "quantity = 'Flux1000'\n",
    "add_os = True\n",
    "old = False\n",
    "\n",
    "add_SP = 1\n",
    "if cat != '3FGL':\n",
    "    add_SP = False\n",
    "#p3FGL_fn = '%s/%s_prob_catalog.csv' % (folder, cat)"
   ]
  },
  {
   "cell_type": "code",
   "execution_count": 959,
   "metadata": {},
   "outputs": [],
   "source": [
    "try_os = False\n",
    "if try_os:\n",
    "    #weight_str = 'weighted'\n",
    "    weight_str = 'oversample'\n",
    "    fn = '../ML_3FGL_paper_extra/data/python files/catas/%s_unassoc_%s.csv' % (cat, weight_str)\n",
    "    if 1:\n",
    "        pcat_os = pd.read_csv(fn, index_col='Source_Name_%s' % cat)\n",
    "    else:\n",
    "        pcat_os = pd.read_csv(fn)\n",
    "    print(pcat_os.columns)"
   ]
  },
  {
   "cell_type": "code",
   "execution_count": null,
   "metadata": {},
   "outputs": [],
   "source": []
  },
  {
   "cell_type": "code",
   "execution_count": 960,
   "metadata": {},
   "outputs": [],
   "source": [
    "my_plot.setup_figure_pars()\n",
    "save_plots = 1\n",
    "plot_assoc_prob = 1\n",
    "correct_other = 1\n",
    "test = 0\n",
    "#add_os = True\n",
    "\n",
    "alg0 = 'LR' # 'RF', 'BDT', 'LL', 'NN'\n",
    "algs0 = ['RF', 'BDT', 'LR', 'NN']\n",
    "if add_os:\n",
    "    algs_os = [alg + '_O' for alg in algs0] # algorithms with oversampling\n",
    "else:\n",
    "    algs_os = []\n",
    "algs = algs0 + algs_os\n",
    "SP_algs = ['LR', 'RF']\n",
    "\n",
    "prop_cycle = pyplot.rcParams['axes.prop_cycle']\n",
    "cs = prop_cycle.by_key()['color']\n",
    "\n",
    "#cat = '4FGL' # '3FGL', '4FGL'\n",
    "if cat == '3FGL':\n",
    "    fn_cat = '../PS_comparison/gll_psc_v16.fit' # the last release of 3FGL\n",
    "else:\n",
    "    #fn_cat = '../PS_comparison/gll_psc_v22.fit' # 4FGL release from 27 May 2020\n",
    "    fn_cat = '../PS_comparison/gll_psc_v27.fit' # 4FGL_DR2\n",
    "\n",
    "\n",
    "if cat == '4FGL':\n",
    "    #cat_name = '4FGL'\n",
    "    cat_name = '4FGL-DR2'\n",
    "else:\n",
    "    cat_name = cat\n",
    "    \n",
    "#fn_pcat = '%s/%s_catalog_newfeats.csv' % (folder, cat)\n",
    "fn_pcat = '%s/%s_prob_catalog.csv' % (folder, cat_name)\n",
    "#fn_pcat = '%s/%s_prob_catalog_3class.csv' % (folder, cat)\n",
    "\n",
    "if old:\n",
    "    fn_pcat = fn_pcat.replace('.csv', '_old.csv')\n",
    "\n",
    "if add_SP:\n",
    "    SP_str = '_SazP'\n",
    "else:\n",
    "    SP_str = ''\n",
    "\n",
    "if try_os:\n",
    "    SP_str += '_%s' % weight_str\n",
    "    if weight_str == 'weighted':\n",
    "        alg0 = 'LR'\n",
    "        algs = ['RF', 'BDT', 'LR']\n",
    "if add_os:\n",
    "    SP_str += '_add_os'\n",
    "    \n",
    "if old:\n",
    "    SP_str += '_old'\n",
    "    \n",
    "figfn = 'plots/N_logS_%s_%s%s.pdf' % (cat_name, pop, SP_str)\n",
    "figfn_diff = 'plots/N_logS_diff_%s_%s%s.pdf' % (cat, pop, SP_str)\n",
    "    \n",
    "hdu_cat = fits.open(fn_cat)\n",
    "pcat_fgl = pd.read_csv(fn_pcat, index_col='Source_Name_%s' % cat)\n",
    "\n",
    "index = np.array(hdu_cat[1].data.field('Source_Name'), dtype=str)\n",
    "data = {quantity:np.array(hdu_cat[1].data.field(quantity), dtype=float)}\n",
    "df_fgl = pd.DataFrame(data=data, index=index)\n",
    "df_fgl.index = [st.strip() for st in df_fgl.index]\n",
    "\n",
    "# load data from Saz Parkinson\n",
    "pcat_SP = pd.read_csv('data/FGL3_results.csv', index_col='Source_Name')\n",
    "pcat_SP.index = ['3FGL %s' %name.strip() for name in pcat_SP.index]"
   ]
  },
  {
   "cell_type": "code",
   "execution_count": 961,
   "metadata": {},
   "outputs": [],
   "source": [
    "df_fgl_full = aux.hdu2df(hdu_cat[1], index_name='Source_Name')"
   ]
  },
  {
   "cell_type": "code",
   "execution_count": 962,
   "metadata": {},
   "outputs": [
    {
     "data": {
      "text/plain": [
       "Index(['DataRelease', 'RAJ2000', 'DEJ2000', 'GLON', 'GLAT',\n",
       "       'Conf_68_SemiMajor', 'Conf_68_SemiMinor', 'Conf_68_PosAng',\n",
       "       'Conf_95_SemiMajor', 'Conf_95_SemiMinor', 'Conf_95_PosAng', 'ROI_num',\n",
       "       'Extended_Source_Name', 'Signif_Avg', 'Pivot_Energy', 'Flux1000',\n",
       "       'Unc_Flux1000', 'Energy_Flux100', 'Unc_Energy_Flux100', 'SpectrumType',\n",
       "       'PL_Flux_Density', 'Unc_PL_Flux_Density', 'PL_Index', 'Unc_PL_Index',\n",
       "       'LP_Flux_Density', 'Unc_LP_Flux_Density', 'LP_Index', 'Unc_LP_Index',\n",
       "       'LP_beta', 'Unc_LP_beta', 'LP_SigCurv', 'PLEC_Flux_Density',\n",
       "       'Unc_PLEC_Flux_Density', 'PLEC_Index', 'Unc_PLEC_Index',\n",
       "       'PLEC_Expfactor', 'Unc_PLEC_Expfactor', 'PLEC_Exp_Index',\n",
       "       'Unc_PLEC_Exp_Index', 'PLEC_SigCurv', 'Npred', 'Variability_Index',\n",
       "       'Frac_Variability', 'Unc_Frac_Variability', 'Signif_Peak', 'Flux_Peak',\n",
       "       'Unc_Flux_Peak', 'Time_Peak', 'Peak_Interval', 'TEVCAT_FLAG',\n",
       "       'ASSOC_TEV', 'CLASS1', 'ASSOC1', 'ASSOC_PROB_BAY', 'ASSOC_PROB_LR',\n",
       "       'RA_Counterpart', 'DEC_Counterpart', 'Unc_Counterpart', 'Flags',\n",
       "       'ASSOC_FGL', 'ASSOC_FHL', 'ASSOC_GAM1', 'ASSOC_GAM2', 'ASSOC_GAM3',\n",
       "       'CLASS2', 'ASSOC2'],\n",
       "      dtype='object')"
      ]
     },
     "execution_count": 962,
     "metadata": {},
     "output_type": "execute_result"
    }
   ],
   "source": [
    "df_fgl_full.columns"
   ]
  },
  {
   "cell_type": "code",
   "execution_count": 963,
   "metadata": {},
   "outputs": [
    {
     "data": {
      "text/plain": [
       "Index(['GLON', 'GLAT', 'ln(Energy_Flux100)', 'ln(Unc_Energy_Flux100)',\n",
       "       'ln(Pivot_Energy)', 'LP_Index', 'Unc_LP_Index', 'LP_beta', 'LP_SigCurv',\n",
       "       'ln(Variability_Index)', 'HR12', 'HR23', 'HR34', 'HR45', 'HR56', 'HR67',\n",
       "       'Category_4FGL', 'Class_4FGL', 'ASSOC_FGL', 'ASSOC_FHL', 'ASSOC1',\n",
       "       'AGN_BDT', 'AGN_BDT_STD', 'PSR_BDT', 'PSR_BDT_STD', 'AGN_NN',\n",
       "       'AGN_NN_STD', 'PSR_NN', 'PSR_NN_STD', 'AGN_RF', 'AGN_RF_STD', 'PSR_RF',\n",
       "       'PSR_RF_STD', 'AGN_LR', 'AGN_LR_STD', 'PSR_LR', 'PSR_LR_STD',\n",
       "       'AGN_BDT_O', 'AGN_BDT_STD_O', 'PSR_BDT_O', 'PSR_BDT_STD_O', 'AGN_NN_O',\n",
       "       'AGN_NN_STD_O', 'PSR_NN_O', 'PSR_NN_STD_O', 'AGN_RF_O', 'AGN_RF_STD_O',\n",
       "       'PSR_RF_O', 'PSR_RF_STD_O', 'AGN_LR_O', 'AGN_LR_STD_O', 'PSR_LR_O',\n",
       "       'PSR_LR_STD_O', 'Flags', 'Category_Prob'],\n",
       "      dtype='object')"
      ]
     },
     "execution_count": 963,
     "metadata": {},
     "output_type": "execute_result"
    }
   ],
   "source": [
    "pcat_fgl.columns"
   ]
  },
  {
   "cell_type": "code",
   "execution_count": 964,
   "metadata": {},
   "outputs": [
    {
     "name": "stdout",
     "output_type": "stream",
     "text": [
      "271\n",
      "271\n"
     ]
    }
   ],
   "source": [
    "classes = np.array([cl.strip() for cl in df_fgl_full['CLASS1']], dtype=str)\n",
    "print(sum(classes == 'PSR') + sum(classes == 'psr'))\n",
    "print(sum(pcat_fgl['Category_%s' %cat] == 'PSR'))"
   ]
  },
  {
   "cell_type": "code",
   "execution_count": 965,
   "metadata": {},
   "outputs": [],
   "source": [
    "# flux or another value for associated and unassociated sources\n",
    "if quantity == 'index':\n",
    "    if cat == '3FGL':\n",
    "        value_fgl = hdu_cat[1].data.field('Spectral_Index')\n",
    "    else:\n",
    "        value_fgl = hdu_cat[1].data.field('PL_Index')\n",
    "elif quantity == 'Flux1000':\n",
    "    df_fgl['value'] = np.log10(np.array(df_fgl[quantity]))\n"
   ]
  },
  {
   "cell_type": "code",
   "execution_count": 966,
   "metadata": {},
   "outputs": [
    {
     "name": "stdout",
     "output_type": "stream",
     "text": [
      "(19,)\n",
      "1658\n"
     ]
    }
   ],
   "source": [
    "class_mask_fgl = (pcat_fgl['Category_%s' %cat] == pop)\n",
    "unassoc_mask_fgl = (pcat_fgl['Category_%s' %cat] == 'UNAS')\n",
    "all_assoc_mask_fgl = (pcat_fgl['Category_%s' %cat] != 'UNAS')\n",
    "other_mask_fgl = (pcat_fgl['Category_%s' %cat] == 'OTHER')\n",
    "\n",
    "#source_names_fgl = [name for name in pcat_fgl.index if class_mask_fgl_assoc[name]]\n",
    "class_fgl_sources = [name for name in pcat_fgl.index if class_mask_fgl[name]]\n",
    "all_assoc_fgl_sources = [name for name in pcat_fgl.index if all_assoc_mask_fgl[name]]\n",
    "unassoc_fgl_sources = [name for name in pcat_fgl.index if unassoc_mask_fgl[name]]\n",
    "other_fgl_sources = [name for name in pcat_fgl.index if other_mask_fgl[name]]\n",
    "\n",
    "#minv = np.min(df_fgl.loc[class_fgl_sources, 'value'])\n",
    "#maxv = np.max(df_fgl.loc[class_fgl_sources, 'value'])\n",
    "if pop == 'AGN':\n",
    "    bins = np.linspace(-10.5, -7, 19)\n",
    "elif pop == 'PSR':\n",
    "    bins = np.linspace(-10, -6.5, 19)\n",
    "binsc = (bins[1:] + bins[:-1])/2\n",
    "print(bins.shape)\n",
    "print(np.sum(unassoc_mask_fgl))"
   ]
  },
  {
   "cell_type": "code",
   "execution_count": 967,
   "metadata": {},
   "outputs": [
    {
     "name": "stdout",
     "output_type": "stream",
     "text": [
      "3499\n"
     ]
    }
   ],
   "source": [
    "print(sum(class_mask_fgl))"
   ]
  },
  {
   "cell_type": "code",
   "execution_count": 968,
   "metadata": {},
   "outputs": [],
   "source": [
    "\n",
    "# correction for other sources\n",
    "other_values_fgl = df_fgl.loc[other_fgl_sources, 'value']\n",
    "\n",
    "hist_all_assoc_fgl = np.histogram(df_fgl.loc[all_assoc_fgl_sources, 'value'], bins=bins)\n",
    "hist_all_unassoc_fgl = np.histogram(df_fgl.loc[unassoc_fgl_sources, 'value'], bins=bins)\n",
    "hist_class_fgl = np.histogram(df_fgl.loc[class_fgl_sources, 'value'], bins=bins)\n",
    "\n",
    "other_fgl_corr = {}\n",
    "other_fgl_class_corr = {}\n",
    "for alg in algs:\n",
    "    label = '%s_%s' % (pop, alg)\n",
    "    probs = pcat_fgl.loc[other_fgl_sources, label]\n",
    "    hist_other_fgl = np.histogram(other_values_fgl, bins=bins, weights=probs)\n",
    "    if correct_other:\n",
    "        other_fgl_corr[alg] = hist_other_fgl[0]/(hist_all_assoc_fgl[0] + 0.00001) * \\\n",
    "                    hist_all_unassoc_fgl[0]\n",
    "        other_fgl_class_corr[alg] = hist_other_fgl[0]\n",
    "    else:\n",
    "        other_fgl_corr[alg] = np.zeros_like(hist_other_fgl[0])\n",
    "        other_fgl_class_corr[alg] = np.zeros_like(hist_other_fgl[0])\n",
    "        \n",
    "if add_SP:\n",
    "    other_SP_corr = {}\n",
    "    other_SP_class_corr = {}\n",
    "    for alg in SP_algs:\n",
    "        label = '%s_P' % (alg)\n",
    "        probs = pcat_SP.loc[other_fgl_sources, label]\n",
    "        hist_other_SP = np.histogram(other_values_fgl, bins=bins, weights=probs)\n",
    "        if correct_other:\n",
    "            other_SP_corr[alg] = hist_other_SP[0]/(hist_all_assoc_fgl[0] + 0.00001) * \\\n",
    "                        hist_all_unassoc_fgl[0]\n",
    "            other_SP_class_corr[alg] = hist_other_SP[0]\n",
    "        else:\n",
    "            other_SP_corr[alg] = np.zeros_like(hist_other_fgl[0])\n",
    "            other_SP_class_corr[alg] = np.zeros_like(hist_other_fgl[0])\n",
    "\n"
   ]
  },
  {
   "cell_type": "code",
   "execution_count": 969,
   "metadata": {},
   "outputs": [],
   "source": [
    "def sub_dict(dct, keys):\n",
    "    return {key:dct[key] for key in keys}"
   ]
  },
  {
   "cell_type": "code",
   "execution_count": 970,
   "metadata": {},
   "outputs": [],
   "source": [
    "# probabilities and masks (for associated sources)\n",
    "unassoc_values_fgl = df_fgl.loc[unassoc_fgl_sources, 'value']\n",
    "class_values_fgl = df_fgl.loc[class_fgl_sources, 'value']\n",
    "all_assoc_values_fgl = df_fgl.loc[all_assoc_fgl_sources, 'value']\n",
    "\n",
    "hpcat_fgl = {}\n",
    "hpcat_fgl_class = {}\n",
    "prob_fgl_unassoc = {}\n",
    "prob_fgl_class = {}\n",
    "\n",
    "if try_os:\n",
    "    prob_fgl_unassoc_os = {}\n",
    "    hpcat_fgl_os = {}\n",
    "    \n",
    "for alg in algs:\n",
    "    label = '%s_%s' % (pop, alg)\n",
    "    prob_fgl_unassoc[alg] = np.array(pcat_fgl.loc[unassoc_fgl_sources, label]) # prob\n",
    "    prob_fgl_class[alg] = np.array(pcat_fgl.loc[all_assoc_fgl_sources, label]) # prob\n",
    "    hpcat_fgl[alg] = np.histogram(unassoc_values_fgl, bins=bins, \n",
    "                                   weights=prob_fgl_unassoc[alg])[0]\n",
    "    hpcat_fgl_class[alg] = np.histogram(all_assoc_values_fgl, bins=bins, \n",
    "                                   weights=prob_fgl_class[alg])[0]\n",
    "    \n",
    "    if try_os:\n",
    "        prob_fgl_unassoc_os[alg] = np.array(pcat_os.loc[unassoc_fgl_sources, label]) # prob\n",
    "        hpcat_fgl_os[alg] = np.histogram(unassoc_values_fgl, bins=bins, \n",
    "                                       weights=prob_fgl_unassoc_os[alg])[0]\n",
    "\n",
    "    \n"
   ]
  },
  {
   "cell_type": "code",
   "execution_count": 971,
   "metadata": {},
   "outputs": [],
   "source": [
    "if add_SP:\n",
    "    prob_SP_unassoc = {}\n",
    "    prob_SP_class = {}\n",
    "    hpcat_SP = {}\n",
    "    hpcat_SP_class = {}\n",
    "    for alg in SP_algs:\n",
    "        label = '%s_P' % alg\n",
    "        prob_SP_unassoc[alg] = np.array(pcat_SP.loc[unassoc_fgl_sources, label]) # prob\n",
    "        prob_SP_class[alg] = np.array(pcat_SP.loc[all_assoc_fgl_sources, label]) # prob\n",
    "        if pop != 'PSR':\n",
    "            prob_SP_unassoc[alg] = 1 - prob_SP_unassoc[alg]\n",
    "            prob_SP_class[alg] = 1 - prob_SP_class[alg]\n",
    "\n",
    "        hpcat_SP[alg] = np.histogram(unassoc_values_fgl, bins=bins, \n",
    "                                    weights=prob_SP_unassoc[alg])[0]\n",
    "        hpcat_SP_class[alg] = np.histogram(all_assoc_values_fgl, bins=bins, \n",
    "                                   weights=prob_SP_class[alg])[0]\n",
    "\n"
   ]
  },
  {
   "cell_type": "code",
   "execution_count": null,
   "metadata": {},
   "outputs": [],
   "source": []
  },
  {
   "cell_type": "code",
   "execution_count": 972,
   "metadata": {},
   "outputs": [
    {
     "data": {
      "image/png": "[encoded data removed]",
      "text/plain": [
       "<Figure size 576x432 with 1 Axes>"
      ]
     },
     "metadata": {
      "needs_background": "light"
     },
     "output_type": "display_data"
    }
   ],
   "source": [
    "if 1:\n",
    "    pyplot.figure()\n",
    "    h3 = pyplot.hist(df_fgl.loc[class_fgl_sources, 'value'], \n",
    "                         bins=bins, color='b', alpha=0.3)\n",
    "    hpcat_fgl0 = pyplot.hist(unassoc_values_fgl, bins=bins, color='r', \n",
    "                                alpha=0.3, weights=prob_fgl_unassoc[alg0])"
   ]
  },
  {
   "cell_type": "code",
   "execution_count": 973,
   "metadata": {},
   "outputs": [],
   "source": [
    "def min_max_vs(dct, corr={}):\n",
    "    vals = np.array([dct[key] - corr.get(key, 0.) for key in dct.keys()])\n",
    "    return np.min(vals, axis=0), np.max(vals, axis=0)"
   ]
  },
  {
   "cell_type": "code",
   "execution_count": 974,
   "metadata": {},
   "outputs": [
    {
     "data": {
      "text/plain": [
       "array([0.36767856, 0.51482738, 0.50473158, 0.36759497, 0.36382593,\n",
       "       0.34273605, 0.47667243, 0.41991414, 0.28337904, 0.26188089,\n",
       "       0.14883067, 0.0317102 , 0.14140754, 0.0340174 , 0.02388128,\n",
       "       0.27472568, 0.        , 0.        ])"
      ]
     },
     "execution_count": 974,
     "metadata": {},
     "output_type": "execute_result"
    }
   ],
   "source": [
    "hpcat_fgl0[0]/(h3[0] + 0.0000001)"
   ]
  },
  {
   "cell_type": "code",
   "execution_count": null,
   "metadata": {},
   "outputs": [],
   "source": []
  },
  {
   "cell_type": "code",
   "execution_count": 975,
   "metadata": {},
   "outputs": [
    {
     "name": "stdout",
     "output_type": "stream",
     "text": [
      "Number of AGN among unassociated source in 4FGL: 1068.776 +- 200.484\n",
      "Number of associated AGN: 3496.000\n",
      "[ 19.  81. 334. 703. 700. 577. 368. 270. 160. 110.  82.  47.  16.  14.\n",
      "   8.   4.   2.   1.]\n",
      "Associated\n",
      "[1.85653979e+01 7.89793393e+01 3.21916125e+02 6.72119672e+02\n",
      " 6.60031594e+02 5.39105422e+02 3.39350393e+02 2.53867036e+02\n",
      " 1.53230315e+02 1.01846933e+02 7.43078665e+01 4.51028996e+01\n",
      " 1.36155851e+01 1.19484235e+01 7.24055259e+00 3.28507402e+00\n",
      " 8.94445856e-01 5.15713339e-08] [ 18.94883274  80.83580858 333.12435895 700.64783363 696.25883231\n",
      " 569.69342807 358.35487954 261.69684449 158.34848617 108.39139646\n",
      "  79.48024328  48.27635132  16.12025062  14.10331636   8.41626083\n",
      "   3.90205106   2.03429411   0.94167208]\n",
      "Unassociated\n",
      "[ 6.53836555e+00  4.00828044e+01  1.59490272e+02  2.30539174e+02\n",
      "  1.94019866e+02  1.18163263e+02  6.81159352e+01  3.28775527e+01\n",
      "  1.16153804e+01  3.95395417e+00  1.43812555e+00 -4.44191736e-01\n",
      "  9.57838968e-01  2.23901711e-02 -2.75396028e-02  9.49516398e-01\n",
      "  0.00000000e+00  0.00000000e+00] [  6.96194597  41.23579961 165.9585169  254.32225664 240.71007806\n",
      " 170.94567165 114.42659899  60.67977984  22.39252102  11.97851818\n",
      "   5.13417298   0.58911087   1.48196824   0.82374207   0.63224846\n",
      "   1.41649222   0.           0.        ]\n",
      "Save figure to file: plots/N_logS_4FGL-DR2_AGN_add_os.pdf\n",
      "cp plots/N_logS_4FGL-DR2_AGN_add_os.pdf ../ML_3FGL_paper/plots\n"
     ]
    },
    {
     "data": {
      "image/png": "[encoded data removed]",
      "text/plain": [
       "<Figure size 576x432 with 1 Axes>"
      ]
     },
     "metadata": {
      "needs_background": "light"
     },
     "output_type": "display_data"
    }
   ],
   "source": [
    "#plot = pyplot.semilogy \n",
    "plot = pyplot.plot\n",
    "    \n",
    "xs = binsc\n",
    "pyplot.figure()\n",
    "plot(xs, h2cum(h3[0]), c='blue', ls='-', label='Src count')\n",
    "pcat_hist_fgl = hpcat_fgl[alg0] - other_fgl_corr[alg0]\n",
    "pcat_hist_fgl_class = hpcat_fgl_class[alg0] - other_fgl_class_corr[alg0]\n",
    "\n",
    "\n",
    "plot(xs, h2cum(h3[0] + pcat_hist_fgl), c='orange', ls='-', label='Src count + unassoc. prob. %s' % alg0)\n",
    "\n",
    "minvs, maxvs = min_max_vs(sub_dict(hpcat_fgl, algs), corr=sub_dict(other_fgl_corr, algs))\n",
    "pyplot.fill_between(xs, h2cum(h3[0] + minvs), h2cum(h3[0] + maxvs), color='orange', alpha=0.3,\n",
    "                    label='Src count + unassoc. prob.')\n",
    "\n",
    "mean = h2cum(maxvs + minvs) / 2.\n",
    "delta = h2cum(maxvs - minvs) / 2.\n",
    "print('Number of %s among unassociated source in %s: %.3f +- %.3f' % (pop, cat, mean[0], delta[0]))\n",
    "print('Number of associated %s: %.3f' % (pop, h2cum(h3[0])[0]))\n",
    "print(h3[0])\n",
    "\n",
    "if try_os:\n",
    "    pcat_hist_fgl_os = hpcat_fgl_os[alg0] - other_fgl_corr[alg0]\n",
    "    plot(xs, h2cum(h3[0] + pcat_hist_fgl_os), c=cs[5], ls=':', label='Src count + unassoc. prob. oversample')\n",
    "\n",
    "    \n",
    "if plot_assoc_prob:\n",
    "    plot(xs, h2cum(pcat_hist_fgl_class), c='purple', ls='--', label='Assoc. prob. %s' % alg0)\n",
    "    plot(xs, h2cum(hpcat_fgl_class[alg0]), c='purple', ls=':', label='Assoc. prob. %s (uncorr.)' % alg0)\n",
    "    minvs, maxvs = min_max_vs(sub_dict(hpcat_fgl_class, algs), corr=sub_dict(other_fgl_class_corr, algs))\n",
    "    pyplot.fill_between(xs, h2cum(minvs), h2cum(maxvs), color='green', alpha=0.3, label='Assoc. prob.')\n",
    "    if add_os:\n",
    "        minvs, maxvs = min_max_vs(sub_dict(hpcat_fgl_class, algs_os), corr=sub_dict(other_fgl_class_corr, algs_os))\n",
    "        #pyplot.fill_between(xs, h2cum(minvs), h2cum(maxvs), color=cs[5], alpha=0.5)\n",
    "        print('Associated')\n",
    "        print(minvs, maxvs)\n",
    "        \n",
    "if add_os:\n",
    "    minvs, maxvs = min_max_vs(sub_dict(hpcat_fgl, algs_os), corr=sub_dict(other_fgl_corr, algs_os))\n",
    "    print('Unassociated')\n",
    "    print(minvs, maxvs)\n",
    "    #pyplot.fill_between(xs, h2cum(h3[0] + minvs), h2cum(h3[0] + maxvs), color=cs[6], alpha=0.5)\n",
    "\n",
    "        \n",
    "    \n",
    "\n",
    "if try_os:\n",
    "    minvs, maxvs = min_max_vs(hpcat_fgl_os, corr=other_fgl_corr)\n",
    "    pyplot.fill_between(xs, h2cum(h3[0] + minvs), h2cum(h3[0] + maxvs), color=cs[5], alpha=0.5)\n",
    "    \n",
    "    mean = h2cum(maxvs + minvs) / 2.\n",
    "    delta = h2cum(maxvs - minvs) / 2.\n",
    "    print('Number of %s (os): %.1f +- %.1f' % (pop, mean[0], delta[0]))\n",
    "\n",
    "\n",
    "if add_SP:\n",
    "    pcat_hist_SP = hpcat_SP[alg0] - other_SP_corr[alg0]\n",
    "    pcat_hist_SP_class = hpcat_SP_class[alg0] - other_SP_class_corr[alg0]\n",
    "\n",
    "    plot(xs, h2cum(h3[0] + pcat_hist_SP), c='gray', ls='--', label='Src count + unassoc. prob. LR (SP16)')\n",
    "    plot(xs, h2cum(pcat_hist_SP_class), c='black', ls='-.', label='Assoc. prob. LR (SP16)')\n",
    "    plot(xs, h2cum(hpcat_SP_class[alg0]), c='black', ls=':', label='Assoc. prob. LR (SP16, uncorr.)')\n",
    "    \n",
    "    minvs, maxvs = min_max_vs(hpcat_SP_class, corr=other_SP_class_corr)\n",
    "    pyplot.fill_between(xs, h2cum(minvs), h2cum(maxvs), color='gray', alpha=0.5, label='Assoc. prob. (SP16)')\n",
    "    #print('SP check')\n",
    "    #print(h2cum(pcat_hist_SP_class), h2cum(minvs), h2cum(maxvs))\n",
    "    #print(hpcat_SP_class)\n",
    "    #print(other_SP_class_corr)\n",
    "\n",
    "\n",
    "pyplot.xlabel(r'$\\log_{10} F_{>1 GeV}\\ [\\rm cm^{-2}s^{-1}]$')\n",
    "pyplot.ylabel('Number of sources')\n",
    "pyplot.legend(fontsize=13, labelspacing=0.2)\n",
    "if pop == 'AGN':\n",
    "    if cat == '3FGL':\n",
    "        pyplot.ylim(-100, 3000)\n",
    "    else:\n",
    "        pyplot.ylim(-170, 5000)\n",
    "else:\n",
    "    if cat == '3FGL':\n",
    "        pyplot.ylim(-20, 600)\n",
    "    else:\n",
    "        pyplot.ylim(-1050/30, 1050)\n",
    "\n",
    "title = '%s %s' % (cat_name, pop)\n",
    "if old:\n",
    "    title += ' (old)'\n",
    "#if plot_assoc_prob:\n",
    "#    title += ' (%s)' % weight_str\n",
    "pyplot.title(title)\n",
    "if save_plots:\n",
    "    print('Save figure to file:', figfn)\n",
    "    pyplot.savefig(figfn)\n",
    "    if not test:\n",
    "        command = 'cp %s ../ML_3FGL_paper/plots' % figfn\n",
    "        print(command)\n",
    "        os.system(command)"
   ]
  },
  {
   "cell_type": "code",
   "execution_count": 976,
   "metadata": {},
   "outputs": [
    {
     "data": {
      "text/plain": [
       "dict_keys(['RF', 'BDT', 'LR', 'NN', 'RF_O', 'BDT_O', 'LR_O', 'NN_O'])"
      ]
     },
     "execution_count": 976,
     "metadata": {},
     "output_type": "execute_result"
    }
   ],
   "source": [
    "hpcat_fgl.keys()"
   ]
  },
  {
   "cell_type": "code",
   "execution_count": 977,
   "metadata": {},
   "outputs": [
    {
     "name": "stdout",
     "output_type": "stream",
     "text": [
      "[ 18.48373389  81.0259955  337.08307426 716.3645029  732.70277681\n",
      " 603.19860315 418.17156027 301.10336426 186.88928155 127.59221057\n",
      "  97.54697157  55.86264922  26.65421022  17.21274512  11.97064366\n",
      "   4.93803614   3.44367299   1.12766721]\n"
     ]
    }
   ],
   "source": [
    "print(hpcat_fgl_class['RF'])\n",
    "#print(hpcat_fgl_class['RF_O'])"
   ]
  },
  {
   "cell_type": "code",
   "execution_count": 978,
   "metadata": {},
   "outputs": [
    {
     "name": "stdout",
     "output_type": "stream",
     "text": [
      "All unassociated surces\n",
      "[  7  42 170 268 274 238 238 178  90  69  52  16   9   2   1   2   0   0]\n",
      "All associated surces\n",
      "[ 19  82 341 725 745 621 445 338 231 180 149  85  61  33  26  12   9   4]\n",
      "Associated surces of AGN class\n",
      "[ 19  81 334 703 700 577 368 270 160 110  82  47  16  14   8   4   2   1]\n",
      "[ 19.  81. 334. 703. 700. 577. 368. 270. 160. 110.  82.  47.  16.  14.\n",
      "   8.   4.   2.   1.]\n",
      "Other associated surces\n",
      "[0.00000000e+00 9.90112934e-01 6.80684161e+00 1.77679660e+01\n",
      " 2.88665568e+01 1.86690764e+01 2.65546162e+01 1.59213196e+01\n",
      " 8.67690991e+00 6.35226159e+00 5.82482662e+00 3.01340810e+00\n",
      " 3.88015946e+00 2.42851612e+00 1.03879976e+00 7.82468134e-03\n",
      " 1.98968400e-02 2.02083191e-03]\n",
      "Estimated number of AGN sources from probabilities\n",
      "[1.89147356e+01 8.06129133e+01 3.31433684e+02 6.97678117e+02\n",
      " 6.95291888e+02 5.77197344e+02 3.73997466e+02 2.75029562e+02\n",
      " 1.64707583e+02 1.11941846e+02 8.00147810e+01 4.74918327e+01\n",
      " 1.47873712e+01 1.33820890e+01 7.94547260e+00 3.97851859e+00\n",
      " 1.66096358e+00 2.26496429e-05]\n",
      "Estimated number of AGN sources among unassociated ones\n",
      "[6.98589262e+00 4.17010176e+01 1.68580349e+02 2.58419266e+02\n",
      " 2.54678149e+02 1.97758700e+02 1.75415453e+02 1.13376817e+02\n",
      " 4.53406462e+01 2.88068974e+01 1.22041148e+01 1.49037960e+00\n",
      " 2.26252060e+00 4.76243540e-01 1.91050239e-01 1.09890275e+00\n",
      " 0.00000000e+00 0.00000000e+00]\n"
     ]
    }
   ],
   "source": [
    "# checks\n",
    "print('All unassociated surces')\n",
    "print(hist_all_unassoc_fgl[0])\n",
    "print('All associated surces')\n",
    "print(hist_all_assoc_fgl[0])\n",
    "print('Associated surces of %s class' % pop)\n",
    "print(hist_class_fgl[0])\n",
    "print(h3[0])\n",
    "print('Other associated surces')\n",
    "print(hist_other_fgl[0])\n",
    "print('Estimated number of %s sources from probabilities' % pop)\n",
    "print(pcat_hist_fgl_class)\n",
    "print('Estimated number of %s sources among unassociated ones' % pop)\n",
    "print(hpcat_fgl[alg0])\n",
    "if try_os:\n",
    "    print('Estimated number of %s sources among unassociated ones (%s)' % (pop, weight_str))\n",
    "    print(hpcat_fgl_os[alg0])\n",
    "    "
   ]
  },
  {
   "cell_type": "code",
   "execution_count": 979,
   "metadata": {
    "scrolled": true
   },
   "outputs": [
    {
     "name": "stdout",
     "output_type": "stream",
     "text": [
      "[0.         0.00415914 0.0068968  0.00751752 0.01346343 0.01200768\n",
      " 0.04097245 0.03997447 0.04500252 0.03400779 0.05021867 0.01962096\n",
      " 0.05777506 0.01065789 0.00629059 0.00055308 0.         0.        ]\n"
     ]
    }
   ],
   "source": [
    "print(other_fgl_corr[alg0] / (h3[0] + hpcat_fgl[alg0] + 0.0001))"
   ]
  },
  {
   "cell_type": "code",
   "execution_count": 980,
   "metadata": {},
   "outputs": [
    {
     "data": {
      "image/png": "[encoded data removed]",
      "text/plain": [
       "<Figure size 576x432 with 1 Axes>"
      ]
     },
     "metadata": {
      "needs_background": "light"
     },
     "output_type": "display_data"
    }
   ],
   "source": [
    "eps = 1.e-10\n",
    "pyplot.rcParams['figure.subplot.left'] = 0.18\n",
    "pyplot.rcParams['figure.subplot.right'] = 0.98\n",
    "\n",
    "pyplot.figure()\n",
    "pyplot.plot(binsc, pcat_hist_fgl / (h3[0] + eps), c=cs[0], ls='-', label=cat)\n",
    "#pyplot.plot(binsc, hpcat_fgl0[0], c=cs[2], ls='--', label='fgl unassoc. prob.')\n",
    "#pyplot.plot(binsc, np.sign(h4[0]) * pcat_hist_4fgl / (h4[0] + eps), c=cs[1], ls='-.', label='4FGL')\n",
    "#pyplot.plot(binsc, hpcat_4fgl0[0], c=cs[3], ls=':', label='4FGL unassoc. prob.')\n",
    "\n",
    "pyplot.legend()\n",
    "\n",
    "pyplot.xlabel(r'$\\log_{10} F_{>1 GeV}\\ [\\rm cm^{-2}s^{-1}]$')\n",
    "pyplot.ylabel('unassoc. / assoc. fraction')\n",
    "pyplot.ylim(0, 10)\n",
    "pyplot.legend()\n",
    "title = pop\n",
    "#if plot_assoc_prob:\n",
    "#    title += ' (%s)' % weight_str\n",
    "pyplot.title(title)\n",
    "\n",
    "if save_plots and 0:\n",
    "    print('Save figure to file:', figfn_diff)\n",
    "    pyplot.savefig(figfn_diff)"
   ]
  },
  {
   "cell_type": "code",
   "execution_count": null,
   "metadata": {},
   "outputs": [],
   "source": []
  },
  {
   "cell_type": "code",
   "execution_count": null,
   "metadata": {},
   "outputs": [],
   "source": []
  },
  {
   "cell_type": "code",
   "execution_count": 981,
   "metadata": {},
   "outputs": [],
   "source": [
    "if 0:\n",
    "    col_names3 = [hdu3[1].header[key] for key in hdu3[1].header.keys() if key.startswith('TTYPE')]\n",
    "    col_names4 = [hdu4[1].header[key] for key in hdu4[1].header.keys() if key.startswith('TTYPE')]\n",
    "    #print(col_names3)\n",
    "    #print(col_names4)\n",
    "    \n",
    "    labels = {}\n",
    "    labels['AGN'] = [\"agn\", \"bcu\", \"bll\", \"css\", \"fsrq\", \"nlsy1\", \"rdg\", \"sey\", \"ssrq\"]\n",
    "    labels['PSR'] = [\"PSR\", \"psr\",]\n",
    "    labels['other'] = [\"bin\", \"hmb\", \"nov\", \"PSR\", \"psr\", \"pwn\",  \"snr\", \"spp\", \"glc\", \"sfr\"]\n",
    "    psclass4 = list(hdu4[1].data.field('CLASS1'))\n"
   ]
  },
  {
   "cell_type": "code",
   "execution_count": 982,
   "metadata": {},
   "outputs": [],
   "source": [
    "if 0:\n",
    "    psclass3 = list(hdu3[1].data.field('CLASS1'))\n",
    "    psclass4 = list(hdu4[1].data.field('CLASS1'))\n",
    "\n",
    "    n3 = len(psclass3)\n",
    "    n4 = len(psclass4)\n",
    "\n",
    "    inds3 = [i for i in range(n3) if psclass3[i] in pop_key]\n",
    "    inds4 = [i for i in range(n4) if psclass4[i] in pop_key]\n",
    "\n",
    "    \n",
    "    print(len(value_pcat_fgl))\n",
    "    print(len(prob), sum(prob))"
   ]
  },
  {
   "cell_type": "code",
   "execution_count": null,
   "metadata": {},
   "outputs": [],
   "source": []
  },
  {
   "cell_type": "code",
   "execution_count": null,
   "metadata": {},
   "outputs": [],
   "source": []
  },
  {
   "cell_type": "code",
   "execution_count": null,
   "metadata": {},
   "outputs": [],
   "source": []
  },
  {
   "cell_type": "code",
   "execution_count": 983,
   "metadata": {},
   "outputs": [],
   "source": [
    "N = len(pcat_SP['CLASS1'])\n",
    "unass_SP = np.array([type(pcat_SP['CLASS1'][i]) != str for i in range(N)])"
   ]
  },
  {
   "cell_type": "code",
   "execution_count": 984,
   "metadata": {},
   "outputs": [],
   "source": [
    "def nPSR(thres, pcat=pcat_SP, unass=unass_SP, methods=['LR_P', 'RF_P']):\n",
    "    res = unass.copy()\n",
    "    for method in methods:\n",
    "        res = res & (pcat[method] > thres)\n",
    "    return np.sum(res)\n"
   ]
  },
  {
   "cell_type": "code",
   "execution_count": 985,
   "metadata": {},
   "outputs": [],
   "source": [
    "thress = np.arange(0.05, 1., 0.05)\n",
    "nPSRs_SP = {}\n",
    "nPSRs_SP['Joint SP'] = np.array([nPSR(thres) for thres in thress])\n",
    "methods_SP = ['LR_P', 'RF_P']\n",
    "for method in methods_SP:\n",
    "    nPSRs_SP[method] = np.array([nPSR(thres, methods=[method]) for thres in thress])"
   ]
  },
  {
   "cell_type": "code",
   "execution_count": null,
   "metadata": {},
   "outputs": [],
   "source": []
  },
  {
   "cell_type": "code",
   "execution_count": null,
   "metadata": {},
   "outputs": [],
   "source": []
  },
  {
   "cell_type": "code",
   "execution_count": null,
   "metadata": {},
   "outputs": [],
   "source": []
  },
  {
   "cell_type": "code",
   "execution_count": 986,
   "metadata": {},
   "outputs": [],
   "source": [
    "pop_loc = 'PSR'\n",
    "#fgl_methods = ['PSR_NN', 'PSR_LR', 'PSR_RF', 'PSR_BDT']\n",
    "fgl_methods = ['%s_%s' % (pop_loc, alg) for alg in algs]\n",
    "def nPSR_fgl(thres, methods=fgl_methods):\n",
    "    return nPSR(thres, pcat=pcat_fgl, unass=unass_fgl, methods=methods)"
   ]
  },
  {
   "cell_type": "code",
   "execution_count": 987,
   "metadata": {},
   "outputs": [
    {
     "name": "stdout",
     "output_type": "stream",
     "text": [
      "162\n",
      "162\n"
     ]
    }
   ],
   "source": [
    "\n",
    "unass_fgl = pcat_fgl['Category_%s' % cat] == 'UNAS'\n",
    "print(np.sum((pcat_fgl['Category_Prob'] == 'PSR') & unass_fgl))\n",
    "print(nPSR_fgl(0.5))"
   ]
  },
  {
   "cell_type": "code",
   "execution_count": 988,
   "metadata": {},
   "outputs": [
    {
     "data": {
      "text/plain": [
       "182"
      ]
     },
     "execution_count": 988,
     "metadata": {},
     "output_type": "execute_result"
    }
   ],
   "source": [
    "nPSR(0.5)"
   ]
  },
  {
   "cell_type": "code",
   "execution_count": 989,
   "metadata": {},
   "outputs": [],
   "source": [
    "nPSRs_fgl = {}\n",
    "nPSRs_fgl['Joint FGL'] = np.array([nPSR_fgl(thres) for thres in thress])\n",
    "for method in fgl_methods:\n",
    "    nPSRs_fgl[method] = np.array([nPSR_fgl(thres, methods=[method]) for thres in thress])\n"
   ]
  },
  {
   "cell_type": "code",
   "execution_count": 990,
   "metadata": {},
   "outputs": [
    {
     "data": {
      "text/plain": [
       "(0, 1)"
      ]
     },
     "execution_count": 990,
     "metadata": {},
     "output_type": "execute_result"
    },
    {
     "data": {
      "image/png": "[encoded data removed]",
      "text/plain": [
       "<Figure size 576x432 with 1 Axes>"
      ]
     },
     "metadata": {
      "needs_background": "light"
     },
     "output_type": "display_data"
    }
   ],
   "source": [
    "for key, nPSRs in nPSRs_SP.items():\n",
    "    ls = '--'\n",
    "    if key.startswith('Joint'):\n",
    "        ls = '-'\n",
    "    pyplot.plot(thress, nPSRs, ls=ls, marker='o', label=key)\n",
    "\n",
    "for key, nPSRs in nPSRs_fgl.items():\n",
    "    ls = ':'\n",
    "    if key.startswith('Joint'):\n",
    "        ls = '-'\n",
    "    pyplot.plot(thress, nPSRs, ls=ls, marker='s', label=key)\n",
    "    \n",
    "pyplot.legend(ncol=2)\n",
    "pyplot.grid()\n",
    "pyplot.xlim(0, 1)"
   ]
  },
  {
   "cell_type": "code",
   "execution_count": null,
   "metadata": {},
   "outputs": [],
   "source": []
  }
 ],
 "metadata": {
  "kernelspec": {
   "display_name": "Python 3",
   "language": "python",
   "name": "python3"
  },
  "language_info": {
   "codemirror_mode": {
    "name": "ipython",
    "version": 3
   },
   "file_extension": ".py",
   "mimetype": "text/x-python",
   "name": "python",
   "nbconvert_exporter": "python",
   "pygments_lexer": "ipython3",
   "version": "3.7.5"
  }
 },
 "nbformat": 4,
 "nbformat_minor": 2
}
