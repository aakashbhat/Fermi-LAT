{
 "cells": [
  {
   "cell_type": "code",
   "execution_count": 1,
   "metadata": {},
   "outputs": [],
   "source": [
    "import numpy as np\n",
    "import astropy\n",
    "from astropy.io import fits\n",
    "from matplotlib import pyplot\n",
    "import pandas as pd\n",
    "import plotting as my_plot\n",
    "import os\n",
    "\n",
    "import auxil_ML as aux\n",
    "import dio3 as dio"
   ]
  },
  {
   "cell_type": "code",
   "execution_count": 2,
   "metadata": {},
   "outputs": [],
   "source": [
    "if 1:\n",
    "    import importlib\n",
    "    importlib.reload(aux);\n"
   ]
  },
  {
   "cell_type": "code",
   "execution_count": 109,
   "metadata": {},
   "outputs": [],
   "source": [
    "folder = '../SOM'\n",
    "cat = '3FGL'\n",
    "pop = 'AGN' #'PSR', 'AGN'\n",
    "#pop = 'PSR'\n",
    "quantity = 'Flux1000'\n",
    "save_plots = 1\n",
    "\n",
    "my_plot.setup_figure_pars()\n",
    "\n",
    "\n",
    "alg0 = 'LR'\n",
    "algs0 = ['RF', 'BDT', 'LR', 'NN']\n",
    "algs = algs0 + [alg + '_O' for alg in algs0]\n",
    "\n",
    "bins = np.linspace(-10.5, -6.5, 17)\n",
    "binsc = (bins[1:] + bins[:-1])/2\n"
   ]
  },
  {
   "cell_type": "code",
   "execution_count": 110,
   "metadata": {},
   "outputs": [],
   "source": [
    "\n",
    "#cat = '4FGL' # '3FGL', '4FGL'\n",
    "if cat == '3FGL':\n",
    "    fn_cat = '../PS_comparison/gll_psc_v16.fit' # the last release of 3FGL\n",
    "else:\n",
    "    #fn_cat = '../PS_comparison/gll_psc_v22.fit' # 4FGL release from 27 May 2020\n",
    "    fn_cat = '../PS_comparison/gll_psc_v27.fit' # 4FGL_DR2\n",
    "\n",
    "\n",
    "if cat == '4FGL':\n",
    "    #cat_name = '4FGL'\n",
    "    cat_name = '4FGL-DR2'\n",
    "else:\n",
    "    cat_name = cat\n",
    "    \n",
    "#fn_pcat = '%s/%s_catalog_newfeats.csv' % (folder, cat)\n",
    "fn_pcat = '%s/%s_prob_catalog_3classes.csv' % (folder, cat_name)\n",
    "#fn_pcat = '%s/%s_prob_catalog_3class.csv' % (folder, cat)\n",
    "\n",
    "\n",
    "hdu_cat = fits.open(fn_cat)\n",
    "pcat_fgl = pd.read_csv(fn_pcat, index_col='Source_Name_%s' % cat)\n",
    "\n",
    "index = np.array(hdu_cat[1].data.field('Source_Name'), dtype=str)\n",
    "data = {quantity:np.array(hdu_cat[1].data.field(quantity), dtype=float)}\n",
    "df_fgl = pd.DataFrame(data=data, index=index)\n",
    "df_fgl.index = [st.strip() for st in df_fgl.index]\n",
    "df_fgl = df_fgl.loc[pcat_fgl.index]\n",
    "if quantity == 'Flux1000':\n",
    "    df_fgl = np.log10(df_fgl)"
   ]
  },
  {
   "cell_type": "code",
   "execution_count": 111,
   "metadata": {},
   "outputs": [],
   "source": [
    "if 0:\n",
    "    df = aux.hdu2df(hdu_cat[1])\n",
    "    df['CLASS1']"
   ]
  },
  {
   "cell_type": "code",
   "execution_count": 112,
   "metadata": {},
   "outputs": [],
   "source": [
    "# import 2-class histograms\n",
    "# unassociated sources\n",
    "unas_dNdS_2class = {}\n",
    "if pop != 'OTHER':\n",
    "    fn = 'data/section6_plots/%s_%s_unassoc.yaml' % (cat_name, pop)\n",
    "    unas_dNdS_2class0 = dio.loaddict(fn)\n",
    "    fn = 'data/section6_plots/%s_%s_unassoc_other.yaml' % (cat_name, pop)\n",
    "    unas_dNdS_other_2class0 = dio.loaddict(fn)\n",
    "    for key in unas_dNdS_2class0.keys():\n",
    "        unas_dNdS_2class[key] = aux.h2cum(np.array(unas_dNdS_2class0[key]) - np.array(unas_dNdS_other_2class0[key]))\n",
    "    unas_dNdS_2class['xs'] = np.array(unas_dNdS_2class0['xs'])\n",
    "else:\n",
    "    fn = 'data/section6_plots/%s_AGN_unassoc_other.yaml' % (cat_name)\n",
    "    AGN_dct = dio.loaddict(fn)\n",
    "    fn = 'data/section6_plots/%s_PSR_unassoc_other.yaml' % (cat_name)\n",
    "    PSR_dct = dio.loaddict(fn)\n",
    "    for key in unas_dNdS_2class0.keys():\n",
    "        unas_dNdS_2class[key] = aux.h2cum(np.array(AGN_dct[key]) + np.array(PSR_dct[key]))\n",
    "    unas_dNdS_2class['xs'] = np.array(AGN_dct['xs'])\n",
    "    \n",
    "# associated sources\n",
    "assoc_dNdS_2class = {}\n",
    "if pop != 'OTHER':\n",
    "    fn = 'data/section6_plots/%s_%s_assoc.yaml' % (cat_name, pop)\n",
    "    assoc_dNdS_2class0 = dio.loaddict(fn)\n",
    "    fn = 'data/section6_plots/%s_%s_assoc_other.yaml' % (cat_name, pop)\n",
    "    assoc_dNdS_other_2class0 = dio.loaddict(fn)\n",
    "    for key in assoc_dNdS_2class0.keys():\n",
    "        assoc_dNdS_2class[key] = aux.h2cum(np.array(assoc_dNdS_2class0[key]) - np.array(assoc_dNdS_other_2class0[key]))\n",
    "    assoc_dNdS_2class['xs'] = np.array(assoc_dNdS_2class0['xs'])"
   ]
  },
  {
   "cell_type": "code",
   "execution_count": null,
   "metadata": {},
   "outputs": [],
   "source": []
  },
  {
   "cell_type": "code",
   "execution_count": 113,
   "metadata": {},
   "outputs": [],
   "source": [
    "class_sources = (pcat_fgl['Category_%s' %cat] == pop)\n",
    "unassoc_sources = (pcat_fgl['Category_%s' %cat] == 'UNAS')\n",
    "\n",
    "unassoc_values_fgl = df_fgl[quantity].loc[unassoc_sources]\n",
    "assoc_values_fgl = df_fgl[quantity].loc[~unassoc_sources]\n",
    "class_values_fgl = df_fgl[quantity].loc[class_sources]\n"
   ]
  },
  {
   "cell_type": "code",
   "execution_count": 114,
   "metadata": {},
   "outputs": [
    {
     "data": {
      "text/plain": [
       "Source_Name_3FGL\n",
       "3FGL J0001.2-0748   -9.157878\n",
       "3FGL J0001.4+2120   -9.530934\n",
       "3FGL J0002.2-4152   -9.566385\n",
       "3FGL J0003.2-5246   -9.586638\n",
       "3FGL J0003.8-1151   -9.630971\n",
       "                       ...   \n",
       "3FGL J0937.7+5008   -9.469132\n",
       "3FGL J1031.0+7440   -9.407514\n",
       "3FGL J1159.6-0723   -9.261499\n",
       "3FGL J1832.4-5659   -9.052640\n",
       "3FGL J2358.3-2853   -9.539867\n",
       "Name: Flux1000, Length: 1744, dtype: float64"
      ]
     },
     "execution_count": 114,
     "metadata": {},
     "output_type": "execute_result"
    }
   ],
   "source": [
    "class_values_fgl"
   ]
  },
  {
   "cell_type": "code",
   "execution_count": 115,
   "metadata": {},
   "outputs": [],
   "source": [
    "prob_fgl_unassoc = {}\n",
    "prob_fgl_class = {}\n",
    "unas_dNdS = {}\n",
    "class_dNdS = {}\n",
    "for alg in algs:\n",
    "    label = '%s_%s' % (pop, alg)\n",
    "    prob_fgl_unassoc[alg] = np.array(pcat_fgl.loc[unassoc_sources, label]) # prob\n",
    "    prob_fgl_class[alg] = np.array(pcat_fgl.loc[~unassoc_sources, label]) # prob\n",
    "    unas_dNdS[alg] = aux.h2cum(np.histogram(unassoc_values_fgl, bins=bins, \n",
    "                                   weights=prob_fgl_unassoc[alg])[0])\n",
    "    class_dNdS[alg] = aux.h2cum(np.histogram(assoc_values_fgl, bins=bins, \n",
    "                                   weights=prob_fgl_class[alg])[0])\n",
    "\n",
    "assoc_class_counts = aux.h2cum(np.histogram(class_values_fgl, bins=bins)[0])"
   ]
  },
  {
   "cell_type": "code",
   "execution_count": null,
   "metadata": {},
   "outputs": [],
   "source": []
  },
  {
   "cell_type": "code",
   "execution_count": 116,
   "metadata": {},
   "outputs": [
    {
     "data": {
      "text/plain": [
       "{'BDT': array([ 7.49682404e+02,  7.49682404e+02,  7.48682963e+02,  7.30455947e+02,\n",
       "         5.13479258e+02,  2.46033186e+02,  9.90652471e+01,  2.91456937e+01,\n",
       "         4.84131026e+00, -1.00352207e+00, -6.36897993e-01, -1.07772764e-01,\n",
       "        -1.72399940e-01,  0.00000000e+00,  0.00000000e+00,  0.00000000e+00]),\n",
       " 'BDT_O': array([ 6.91300909e+02,  6.91300909e+02,  6.90301454e+02,  6.72209585e+02,\n",
       "         4.56196668e+02,  2.00671911e+02,  7.17335221e+01,  2.01171155e+01,\n",
       "         2.08381516e+00, -9.05365857e-01, -5.89620169e-01,  4.81094191e-02,\n",
       "        -1.19952522e-01,  0.00000000e+00,  0.00000000e+00,  0.00000000e+00]),\n",
       " 'LR': array([ 7.88164545e+02,  7.88164545e+02,  7.87164550e+02,  7.69199278e+02,\n",
       "         5.55734404e+02,  2.98875704e+02,  1.49526465e+02,  5.76754392e+01,\n",
       "         1.63323131e+01,  9.50027096e-01,  2.42520445e-02, -6.71143117e-02,\n",
       "        -2.72937467e-02,  0.00000000e+00,  0.00000000e+00,  0.00000000e+00]),\n",
       " 'LR_O': array([ 6.33949442e+02,  6.33949442e+02,  6.32949455e+02,  6.16345480e+02,\n",
       "         4.21058531e+02,  2.09047636e+02,  9.65361506e+01,  3.17188472e+01,\n",
       "         5.11569376e+00, -9.96490693e-01, -5.62883967e-01, -6.36288484e-02,\n",
       "        -1.46140928e-02,  0.00000000e+00,  0.00000000e+00,  0.00000000e+00]),\n",
       " 'NN': array([ 7.61503051e+02,  7.61503051e+02,  7.60507357e+02,  7.42584837e+02,\n",
       "         5.28711930e+02,  2.75438323e+02,  1.30277390e+02,  4.65748130e+01,\n",
       "         1.11254083e+01, -4.09739608e-01, -3.72317113e-01,  1.85976499e-03,\n",
       "         2.14214060e-02,  0.00000000e+00,  0.00000000e+00,  0.00000000e+00]),\n",
       " 'NN_O': array([ 6.24595918e+02,  6.24595918e+02,  6.23619950e+02,  6.06709255e+02,\n",
       "         4.07746985e+02,  1.93888522e+02,  8.26447440e+01,  2.59723403e+01,\n",
       "         3.08198064e+00, -9.87881927e-01, -5.37979148e-01, -3.00317604e-02,\n",
       "         2.75742742e-03,  0.00000000e+00,  0.00000000e+00,  0.00000000e+00]),\n",
       " 'RF': array([ 7.85270118e+02,  7.85270118e+02,  7.84318581e+02,  7.66024627e+02,\n",
       "         5.52930632e+02,  2.87811443e+02,  1.33527884e+02,  4.89530241e+01,\n",
       "         1.48724941e+01,  1.41530281e+00,  5.88600331e-01, -9.90814469e-02,\n",
       "        -1.07237652e-01,  0.00000000e+00,  0.00000000e+00,  0.00000000e+00]),\n",
       " 'RF_O': array([ 7.04129809e+02,  7.04129809e+02,  7.03142855e+02,  6.85499116e+02,\n",
       "         4.77913111e+02,  2.34015941e+02,  1.03951590e+02,  3.84001227e+01,\n",
       "         9.87322541e+00,  8.57227986e-01,  5.97426635e-01,  8.80406718e-02,\n",
       "        -1.49000446e-01,  0.00000000e+00,  0.00000000e+00,  0.00000000e+00]),\n",
       " 'xs': array([-10.375, -10.125,  -9.875,  -9.625,  -9.375,  -9.125,  -8.875,\n",
       "         -8.625,  -8.375,  -8.125,  -7.875,  -7.625,  -7.375,  -7.125,\n",
       "         -6.875,  -6.625])}"
      ]
     },
     "execution_count": 116,
     "metadata": {},
     "output_type": "execute_result"
    }
   ],
   "source": [
    "unas_dNdS_2class"
   ]
  },
  {
   "cell_type": "code",
   "execution_count": 117,
   "metadata": {},
   "outputs": [
    {
     "name": "stdout",
     "output_type": "stream",
     "text": [
      "Cumulative estimated numbers of AGN for LR corrected for other\n",
      "[ 7.88164545e+02  7.88164545e+02  7.87164550e+02  7.69199278e+02\n",
      "  5.55734404e+02  2.98875704e+02  1.49526465e+02  5.76754392e+01\n",
      "  1.63323131e+01  9.50027096e-01  2.42520445e-02 -6.71143117e-02\n",
      " -2.72937467e-02  0.00000000e+00  0.00000000e+00  0.00000000e+00]\n",
      "Cumulative source counts\n",
      "[1.744e+03 1.744e+03 1.743e+03 1.704e+03 1.351e+03 8.630e+02 4.800e+02\n",
      " 2.730e+02 1.490e+02 6.300e+01 2.800e+01 1.600e+01 3.000e+00 1.000e+00\n",
      " 1.000e+00 0.000e+00]\n"
     ]
    }
   ],
   "source": [
    "# estimated numbers of sources for alg0\n",
    "print('Cumulative estimated numbers of %s for %s corrected for other' % (pop, alg0))\n",
    "print(unas_dNdS_2class[alg0])\n",
    "print('Cumulative source counts')\n",
    "print(assoc_class_counts)"
   ]
  },
  {
   "cell_type": "code",
   "execution_count": 118,
   "metadata": {},
   "outputs": [
    {
     "data": {
      "text/plain": [
       "array([6.68890612e+02, 6.68890612e+02, 6.67930642e+02, 6.50540284e+02,\n",
       "       4.44627517e+02, 1.99640515e+02, 7.46337212e+01, 2.29505627e+01,\n",
       "       6.59315844e+00, 6.44717572e-01, 2.06738963e-01, 2.66065079e-02,\n",
       "       1.78167622e-03, 0.00000000e+00, 0.00000000e+00, 0.00000000e+00])"
      ]
     },
     "execution_count": 118,
     "metadata": {},
     "output_type": "execute_result"
    }
   ],
   "source": [
    "np.mean(np.array(aux.min_max_vs(unas_dNdS)), axis=0)"
   ]
  },
  {
   "cell_type": "code",
   "execution_count": 119,
   "metadata": {},
   "outputs": [
    {
     "name": "stdout",
     "output_type": "stream",
     "text": [
      "Save figure to file: ../ML_3FGL_paper/plots/N_logS_3FGL_AGN_3classes.pdf\n"
     ]
    },
    {
     "data": {
      "image/png": "[encoded data removed]",
      "text/plain": [
       "<Figure size 576x432 with 1 Axes>"
      ]
     },
     "metadata": {
      "needs_background": "light"
     },
     "output_type": "display_data"
    }
   ],
   "source": [
    "plot = pyplot.plot\n",
    "\n",
    "add_2class = True\n",
    "\n",
    "pyplot.figure()\n",
    "plot(binsc, assoc_class_counts, c='blue', ls='-', label='Src count')\n",
    "plot(binsc, class_dNdS[alg0], c='black', ls='-.', label='Assoc. prob. %s' % alg0)\n",
    "minvs, maxvs = aux.min_max_vs(class_dNdS)\n",
    "pyplot.fill_between(binsc, minvs, maxvs, color='blue', alpha=0.15, label='Assoc. prob.')\n",
    "\n",
    "\n",
    "plot(binsc, assoc_class_counts + unas_dNdS[alg0], \n",
    "                c='red', ls='-', label='Src count + unassoc. prob. %s' % alg0)\n",
    "\n",
    "minvs, maxvs = aux.min_max_vs(unas_dNdS)\n",
    "pyplot.fill_between(binsc, assoc_class_counts + minvs, assoc_class_counts + maxvs, \n",
    "                    color='red', alpha=0.2, label='Src count + unassoc. prob.')\n",
    "\n",
    "if add_2class:\n",
    "    if pop != 'OTHER':\n",
    "        xs = assoc_dNdS_2class['xs']\n",
    "        plot(xs, assoc_dNdS_2class[alg0], c='purple', ls='--', label='Assoc. prob. %s (2-class)' % alg0)\n",
    "    \n",
    "    if pop != 'OTHER':\n",
    "        label = 'Src count + unassoc. prob. %s (2-class)' % alg0\n",
    "    else:\n",
    "        label = 'Src count + unassoc. model (2-class)'\n",
    "        \n",
    "    xs = unas_dNdS_2class['xs']\n",
    "    plot(xs, assoc_class_counts + unas_dNdS_2class[alg0], c='orange', ls='-', label=label)\n",
    "\n",
    "    if pop != 'OTHER':\n",
    "        minvs, maxvs = aux.min_max_vs(assoc_dNdS_2class, keys=algs)\n",
    "        xs = assoc_dNdS_2class['xs']\n",
    "        pyplot.fill_between(xs, minvs, maxvs, \n",
    "                            color='green', alpha=0.2, label='Assoc. prob. (2-class)')\n",
    "    \n",
    "        minvs, maxvs = aux.min_max_vs(unas_dNdS_2class, keys=algs)\n",
    "        xs = unas_dNdS_2class['xs']\n",
    "        pyplot.fill_between(xs, assoc_class_counts + minvs, assoc_class_counts + maxvs, \n",
    "                            color='orange', alpha=0.2, label='Src count + unassoc. prob. (2-class)')\n",
    "\n",
    "\n",
    "pyplot.xlabel(r'$\\log_{10} F_{>1 GeV}\\ [\\rm cm^{-2}s^{-1}]$')\n",
    "pyplot.ylabel('Number of sources')\n",
    "pyplot.legend(fontsize=13, labelspacing=0.2)\n",
    "\n",
    "title = '%s %s (3-class)' % (cat_name, pop)\n",
    "pyplot.title(title)\n",
    "\n",
    "if pop == 'PSR':\n",
    "    if cat == '3FGL':\n",
    "        pyplot.ylim(-20, 600)\n",
    "    else:\n",
    "        pyplot.ylim(-1050/30, 1050)\n",
    "elif pop == 'OTHER':\n",
    "    if cat == '3FGL':\n",
    "        pyplot.ylim(-15, 450)\n",
    "    else:\n",
    "        pyplot.ylim(-1050/30, 1050)\n",
    "\n",
    "if save_plots:\n",
    "    figfn = '../ML_3FGL_paper/plots/N_logS_%s_%s_3classes.pdf' % (cat_name, pop)\n",
    "    print('Save figure to file:', figfn)\n",
    "    pyplot.savefig(figfn)\n"
   ]
  },
  {
   "cell_type": "code",
   "execution_count": 120,
   "metadata": {},
   "outputs": [
    {
     "name": "stdout",
     "output_type": "stream",
     "text": [
      "Number of AGN (3-class): $664.0^{+74.9}_{-65.2}$\n",
      "Number of AGN (2-class F-bin corrected): $717.3^{+70.8}_{-92.7}$\n"
     ]
    }
   ],
   "source": [
    "#print(pop)\n",
    "pred = [unas_dNdS[alg][0] for alg in algs]\n",
    "#unas_dNdS\n",
    "#print(pred)\n",
    "mean, delta_plus, delta_minus = aux.get_mean_dp_dm(pred)\n",
    "print('Number of %s (3-class): $%.1f^{+%.1f}_{-%.1f}$' % (pop, mean, delta_plus, delta_minus))\n",
    "pred = [unas_dNdS_2class[alg][0] for alg in algs]\n",
    "mean, delta_plus, delta_minus = aux.get_mean_dp_dm(pred)\n",
    "print('Number of %s (2-class F-bin corrected): $%.1f^{+%.1f}_{-%.1f}$' % (pop, mean, delta_plus, delta_minus))"
   ]
  },
  {
   "cell_type": "code",
   "execution_count": 121,
   "metadata": {},
   "outputs": [
    {
     "name": "stdout",
     "output_type": "stream",
     "text": [
      "N other model 3FGL: 41.1\n"
     ]
    }
   ],
   "source": [
    "# model for the number of other sources among unassociated ones\n",
    "unas_dNdS_other_2class = {}\n",
    "for alg in algs:\n",
    "    unas_dNdS_other_2class[alg] = 0.\n",
    "for pop_loc in ['PSR', 'AGN']:\n",
    "    fn = 'data/section6_plots/%s_%s_unassoc_other.yaml' % (cat_name, pop_loc)\n",
    "    unas_dNdS_other_2class0 = dio.loaddict(fn)\n",
    "    for alg in algs:\n",
    "        unas_dNdS_other_2class[alg] += np.array(unas_dNdS_other_2class0[alg])\n",
    "\n",
    "print('N other model %s: %.1f' % (cat, np.sum(unas_dNdS_other_2class[alg0])))\n",
    "# test\n",
    "#for alg in algs:\n",
    "#    print(np.sum(unas_dNdS_other_2class[alg]))"
   ]
  },
  {
   "cell_type": "code",
   "execution_count": null,
   "metadata": {},
   "outputs": [],
   "source": []
  }
 ],
 "metadata": {
  "kernelspec": {
   "display_name": "Python 3",
   "language": "python",
   "name": "python3"
  },
  "language_info": {
   "codemirror_mode": {
    "name": "ipython",
    "version": 3
   },
   "file_extension": ".py",
   "mimetype": "text/x-python",
   "name": "python",
   "nbconvert_exporter": "python",
   "pygments_lexer": "ipython3",
   "version": "3.7.5"
  }
 },
 "nbformat": 4,
 "nbformat_minor": 2
}
