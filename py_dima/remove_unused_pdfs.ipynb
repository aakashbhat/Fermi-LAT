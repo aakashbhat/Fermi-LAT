{
 "cells": [
  {
   "cell_type": "code",
   "execution_count": 1,
   "metadata": {},
   "outputs": [],
   "source": [
    "import os\n"
   ]
  },
  {
   "cell_type": "code",
   "execution_count": 8,
   "metadata": {},
   "outputs": [],
   "source": [
    "if 1:\n",
    "    plot_folder = '../ML_3FGL_paper/plots/classification_domains/'\n",
    "    tmp_plots_folder = '../ML_3FGL_paper_extra/plots_tmp/domains/'\n",
    "else:\n",
    "    plot_folder = '../ML_3FGL_paper/plots/'\n",
    "    tmp_plots_folder = '../ML_3FGL_paper_extra/plots_tmp/'\n",
    "    \n",
    "tex_folder =  '../ML_3FGL_paper/'\n"
   ]
  },
  {
   "cell_type": "code",
   "execution_count": 9,
   "metadata": {},
   "outputs": [],
   "source": [
    "txt = ''\n",
    "for fn in os.listdir(tex_folder):\n",
    "    if fn.endswith('.tex'):\n",
    "        #print(fn)\n",
    "        fl = open(tex_folder + fn, 'r')\n",
    "        #print(fl.read()[:10])\n",
    "        txt += fl.read()"
   ]
  },
  {
   "cell_type": "code",
   "execution_count": null,
   "metadata": {},
   "outputs": [],
   "source": []
  },
  {
   "cell_type": "code",
   "execution_count": 10,
   "metadata": {},
   "outputs": [
    {
     "name": "stdout",
     "output_type": "stream",
     "text": [
      "Number of used files: 6\n",
      "Number of unused files: 0\n"
     ]
    }
   ],
   "source": [
    "used_files = []\n",
    "unused_files = []\n",
    "for fn in os.listdir(plot_folder):\n",
    "    if fn.endswith('.pdf'):\n",
    "        if txt.find(fn) > -1:\n",
    "            used_files.append(fn)\n",
    "        else:\n",
    "            unused_files.append(plot_folder + fn)\n",
    "            print(fn)\n",
    "print('Number of used files:', len(used_files))\n",
    "print('Number of unused files:', len(unused_files))"
   ]
  },
  {
   "cell_type": "code",
   "execution_count": 5,
   "metadata": {},
   "outputs": [],
   "source": [
    "mv_str = 'git mv'\n",
    "for fn in unused_files:\n",
    "    mv_str += ' %s' % fn\n",
    "mv_str += ' %s' % tmp_plots_folder"
   ]
  },
  {
   "cell_type": "code",
   "execution_count": 6,
   "metadata": {},
   "outputs": [
    {
     "data": {
      "text/plain": [
       "0"
      ]
     },
     "execution_count": 6,
     "metadata": {},
     "output_type": "execute_result"
    }
   ],
   "source": [
    "os.system(mv_str)"
   ]
  },
  {
   "cell_type": "code",
   "execution_count": 7,
   "metadata": {},
   "outputs": [
    {
     "data": {
      "text/plain": [
       "'git mv ../ML_3FGL_paper/plots/correlation_4fgl_assoc.pdf ../ML_3FGL_paper_extra/plots_tmp/'"
      ]
     },
     "execution_count": 7,
     "metadata": {},
     "output_type": "execute_result"
    }
   ],
   "source": [
    "mv_str"
   ]
  },
  {
   "cell_type": "code",
   "execution_count": null,
   "metadata": {},
   "outputs": [],
   "source": []
  }
 ],
 "metadata": {
  "kernelspec": {
   "display_name": "Python 3",
   "language": "python",
   "name": "python3"
  },
  "language_info": {
   "codemirror_mode": {
    "name": "ipython",
    "version": 3
   },
   "file_extension": ".py",
   "mimetype": "text/x-python",
   "name": "python",
   "nbconvert_exporter": "python",
   "pygments_lexer": "ipython3",
   "version": "3.7.5"
  }
 },
 "nbformat": 4,
 "nbformat_minor": 2
}
